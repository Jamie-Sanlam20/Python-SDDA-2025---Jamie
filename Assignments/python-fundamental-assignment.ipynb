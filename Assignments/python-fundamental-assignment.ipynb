{
 "cells": [
  {
   "cell_type": "markdown",
   "metadata": {},
   "source": [
    "### 🏆 Objective\n",
    "\n",
    "Sort a complex data structure and add a ranking key based on a specific criterion.\n",
    "\n",
    "```python\n",
    "# Setup Code\n",
    "students = [\n",
    "    {\"name\": \"Alice\", \"grade\": 88},\n",
    "    {\"name\": \"Bob\", \"grade\": 75},\n",
    "    {\"name\": \"Charlie\", \"grade\": 93}\n",
    "]\n",
    "# Expected Task: Sort the list of dictionaries by grade in descending order and add a \"rank\" key to each dictionary based on the sorting.\n",
    "\n",
    "# Your solution here:\n",
    "# sorted_students = ...\n",
    "\n",
    "# Expected Output\n",
    "# print(sorted_students)\n",
    "```\n",
    "\n",
    "### Expected Output\n",
    "\n",
    "```\n",
    "[\n",
    "    {\"name\": \"Charlie\", \"grade\": 93, \"rank\": 1},\n",
    "    {\"name\": \"Alice\", \"grade\": 88, \"rank\": 2},\n",
    "    {\"name\": \"Bob\", \"grade\": 75, \"rank\": 3}\n",
    "]\n",
    "```"
   ]
  },
  {
   "cell_type": "code",
   "execution_count": 46,
   "metadata": {},
   "outputs": [
    {
     "name": "stdout",
     "output_type": "stream",
     "text": [
      "[{'name': 'Charlie', 'grade': 93, 'rank': 1}, {'name': 'Alice', 'grade': 88, 'rank': 2}, {'name': 'Bob', 'grade': 75, 'rank': 3}]\n"
     ]
    }
   ],
   "source": [
    "students = [\n",
    "    {\"name\": \"Alice\", \"grade\": 88},\n",
    "    {\"name\": \"Bob\", \"grade\": 75},\n",
    "    {\"name\": \"Charlie\", \"grade\": 93}\n",
    "]\n",
    "\n",
    "sorted_students = list(sorted(students, key=lambda students: students['grade'], reverse=True))\n",
    "for i in range(len(sorted_students)):\n",
    "    # print(sorted_students[i])\n",
    "    sorted_students[i]['rank'] = i + 1\n",
    "\n",
    "print((sorted_students))"
   ]
  },
  {
   "cell_type": "markdown",
   "metadata": {},
   "source": [
    "<summary>Exercise 2: Merging Data from Two Lists (⭐⭐)</summary>\n",
    "\n",
    "### 🔄 Objective\n",
    "\n",
    "Merge data from two lists of dictionaries based on a common key.\n",
    "\n",
    "```python\n",
    "# Setup Code\n",
    "employees = [{\"id\": 1, \"name\": \"Alice\"}, {\"id\": 2, \"name\": \"Bob\"}]\n",
    "salaries = [{\"id\": 1, \"salary\": 50000}, {\"id\": 2, \"salary\": 60000}]\n",
    "# Expected Task: Merge these lists into a single list of dictionaries by matching the \"id\" field, including all keys.\n",
    "\n",
    "# Your solution here:\n",
    "# merged_data = ...\n",
    "\n",
    "# Expected Output\n",
    "# print(merged_data)\n",
    "```\n",
    "\n",
    "### Expected Output\n",
    "\n",
    "```\n",
    "[\n",
    "    {\"id\": 1, \"name\": \"Alice\", \"salary\": 50000},\n",
    "    {\"id\": 2, \"name\": \"Bob\", \"salary\": 60000}\n",
    "]\n",
    "```"
   ]
  },
  {
   "cell_type": "code",
   "execution_count": 48,
   "metadata": {},
   "outputs": [
    {
     "name": "stdout",
     "output_type": "stream",
     "text": [
      "[{'id': 1, 'name': 'Alice', 'salary': 50000}, {'id': 2, 'name': 'Bob', 'salary': 60000}]\n"
     ]
    }
   ],
   "source": [
    "employees = [{\"id\": 1, \"name\": \"Alice\"}, {\"id\": 2, \"name\": \"Bob\"}]\n",
    "salaries = [{\"id\": 1, \"salary\": 50000}, {\"id\": 2, \"salary\": 60000}]\n",
    "\n",
    "merged_data = [{'id': employee['id'], 'name': employee['name'], 'salary': salary['salary']} for employee in employees for salary in salaries if employee['id'] == salary['id'] ]\n",
    "\n",
    "print(merged_data)"
   ]
  },
  {
   "cell_type": "markdown",
   "metadata": {},
   "source": [
    "<summary>Exercise 3: Advanced Filtering with Multiple Conditions (⭐⭐)</summary>\n",
    "\n",
    "### 🔍 Objective\n",
    "\n",
    "Apply multiple filtering criteria to a list of dictionaries.\n",
    "\n",
    "```python\n",
    "# Setup Code\n",
    "products = [\n",
    "    {\"id\": 1, \"category\": \"Electronics\", \"price\": 850},\n",
    "    {\"id\": 2, \"category\": \"Furniture\", \"price\": 1200},\n",
    "    {\"id\": 3, \"category\": \"Electronics\", \"price\": 400}\n",
    "]\n",
    "# Expected Task: Filter the list to include only products in the \"Electronics\" category with a price less than 500.\n",
    "\n",
    "# Your solution here:\n",
    "# filtered_products = ...\n",
    "\n",
    "# Expected Output\n",
    "# print(filtered_products)\n",
    "```\n",
    "\n",
    "### Expected Output\n",
    "\n",
    "```\n",
    "[\n",
    "    {\"id\": 3, \"category\": \"Electronics\", \"price\": 400}\n",
    "]\n",
    "```"
   ]
  },
  {
   "cell_type": "code",
   "execution_count": 61,
   "metadata": {},
   "outputs": [
    {
     "name": "stdout",
     "output_type": "stream",
     "text": [
      "[{'id': 3, 'category': 'Electronics', 'price': 400}]\n"
     ]
    }
   ],
   "source": [
    "products = [\n",
    "    {\"id\": 1, \"category\": \"Electronics\", \"price\": 850},\n",
    "    {\"id\": 2, \"category\": \"Furniture\", \"price\": 1200},\n",
    "    {\"id\": 3, \"category\": \"Electronics\", \"price\": 400},\n",
    "]\n",
    "\n",
    "filtered_products = list(filter(lambda product: product['price'] < 500, products))\n",
    "\n",
    "print(filtered_products)"
   ]
  },
  {
   "cell_type": "markdown",
   "metadata": {},
   "source": [
    "<summary>Exercise 4: Complex Data Transformation (⭐⭐⭐)</summary>\n",
    "\n",
    "### 🔄 Objective\n",
    "\n",
    "Transform a list of dictionaries into a new structure.\n",
    "\n",
    "```python\n",
    "# Setup Code\n",
    "orders = [\n",
    "    {\"order_id\": 1, \"items\": [{\"product\": \"A\", \"quantity\": 2}, {\"product\": \"B\", \"quantity\": 3}]},\n",
    "    {\"order_id\": 2, \"items\": [{\"product\": \"A\", \"quantity\": 1}, {\"product\": \"C\", \"quantity\": 1}]}\n",
    "]\n",
    "# Expected Task: Transform this list into a dictionary where keys are product names and values are total quantities ordered across all orders.\n",
    "\n",
    "# Your solution here:\n",
    "# product_quantities = ...\n",
    "\n",
    "# Expected Output\n",
    "# print(product_quantities)\n",
    "```\n",
    "\n",
    "### Expected Output\n",
    "\n",
    "```\n",
    "{\n",
    "    \"A\": 3,\n",
    "    \"B\": 3,\n",
    "    \"C\": 1\n",
    "}\n",
    "```"
   ]
  },
  {
   "cell_type": "code",
   "execution_count": 37,
   "metadata": {},
   "outputs": [
    {
     "name": "stdout",
     "output_type": "stream",
     "text": [
      "{'A': 3, 'B': 3, 'C': 1}\n"
     ]
    }
   ],
   "source": [
    "orders = [\n",
    "    {\n",
    "        \"order_id\": 1,\n",
    "        \"items\": [{\"product\": \"A\", \"quantity\": 2}, {\"product\": \"B\", \"quantity\": 3}],\n",
    "    },\n",
    "    {\n",
    "        \"order_id\": 2,\n",
    "        \"items\": [{\"product\": \"A\", \"quantity\": 1}, {\"product\": \"C\", \"quantity\": 1}],\n",
    "    },\n",
    "]\n",
    "\n",
    "product_quantities = {}\n",
    "\n",
    "for order in orders:\n",
    "    for item in order['items']:\n",
    "        product = item['product']\n",
    "        quantity = item['quantity']\n",
    "\n",
    "        if product in product_quantities:\n",
    "            product_quantities[product] += quantity\n",
    "        else:\n",
    "            product_quantities[product] = quantity\n",
    "\n",
    "print(product_quantities)"
   ]
  },
  {
   "cell_type": "markdown",
   "metadata": {},
   "source": [
    "<summary>Exercise 5: Data Consolidation and Summarization (⭐⭐⭐)</summary>\n",
    "\n",
    "### 📊 Objective\n",
    "\n",
    "Consolidate and summarize data from a list of dictionaries.\n",
    "\n",
    "```python\n",
    "# Setup Code\n",
    "transactions = [\n",
    "    {\"date\": \"2021-01-01\", \"amount\": 100, \"category\": \"Food\"},\n",
    "    {\"date\": \"2021-01-01\", \"amount\": 200, \"category\": \"Transport\"},\n",
    "    {\"date\": \"2021-01-02\", \"amount\": 150, \"category\": \"Food\"}\n",
    "]\n",
    "# Expected Task: Summarize the total amount spent per category.\n",
    "\n",
    "# Your solution here:\n",
    "# category_totals = ...\n",
    "\n",
    "# Expected Output\n",
    "# print(category_totals)\n",
    "```\n",
    "\n",
    "### Expected Output\n",
    "\n",
    "```\n",
    "{\n",
    "    \"Food\": 250,\n",
    "    \"Transport\": 200\n",
    "}\n",
    "```"
   ]
  },
  {
   "cell_type": "code",
   "execution_count": 30,
   "metadata": {},
   "outputs": [
    {
     "name": "stdout",
     "output_type": "stream",
     "text": [
      "{'Food': 250, 'Transport': 200}\n"
     ]
    }
   ],
   "source": [
    "transactions = [\n",
    "    {\"date\": \"2021-01-01\", \"amount\": 100, \"category\": \"Food\"},\n",
    "    {\"date\": \"2021-01-01\", \"amount\": 200, \"category\": \"Transport\"},\n",
    "    {\"date\": \"2021-01-02\", \"amount\": 150, \"category\": \"Food\"},\n",
    "]\n",
    "\n",
    "category_totals = {}\n",
    "\n",
    "for transaction in transactions:\n",
    "    category = transaction['category']\n",
    "    amount = transaction['amount']\n",
    "\n",
    "    if category in category_totals:\n",
    "        category_totals[category] += amount\n",
    "    else:\n",
    "        category_totals[category] = amount\n",
    "\n",
    "print(category_totals)"
   ]
  },
  {
   "cell_type": "markdown",
   "metadata": {},
   "source": [
    "<summary>Exercise 6: Grouping and Aggregating Data (⭐⭐⭐)</summary>\n",
    "\n",
    "### 📈 Objective\n",
    "\n",
    "Group data by a specific key and perform aggregation.\n",
    "\n",
    "```python\n",
    "# Setup Code\n",
    "sales = [\n",
    "    {\"salesperson\": \"Alice\", \"amount\": 200},\n",
    "    {\"salesperson\": \"Bob\", \"amount\": 150},\n",
    "    {\"salesperson\": \"Alice\", \"amount\": 100}\n",
    "]\n",
    "# Expected Task: Group sales by salesperson and calculate the total sales amount for each.\n",
    "\n",
    "# Your solution here:\n",
    "# sales_by_person = ...\n",
    "\n",
    "# Expected Output\n",
    "# print(sales_by_person)\n",
    "```\n",
    "\n",
    "### Expected Output\n",
    "\n",
    "```\n",
    "{\n",
    "    \"Alice\": 300,\n",
    "    \"Bob\": 150\n",
    "}\n",
    "```"
   ]
  },
  {
   "cell_type": "code",
   "execution_count": 38,
   "metadata": {},
   "outputs": [
    {
     "name": "stdout",
     "output_type": "stream",
     "text": [
      "{'Alice': 300, 'Bob': 150}\n"
     ]
    }
   ],
   "source": [
    "sales = [\n",
    "    {\"salesperson\": \"Alice\", \"amount\": 200},\n",
    "    {\"salesperson\": \"Bob\", \"amount\": 150},\n",
    "    {\"salesperson\": \"Alice\", \"amount\": 100},\n",
    "]\n",
    "\n",
    "sales_by_person = {}\n",
    "\n",
    "for sale in sales:\n",
    "    salesperson = sale['salesperson']\n",
    "    amount = sale['amount']\n",
    "\n",
    "    if salesperson in sales_by_person:\n",
    "        sales_by_person[salesperson] += amount\n",
    "    else:\n",
    "        sales_by_person[salesperson] = amount\n",
    "\n",
    "print(sales_by_person)\n"
   ]
  },
  {
   "cell_type": "markdown",
   "metadata": {},
   "source": [
    "<summary>Exercise 7: Lambda Functions for Spell Power (⭐⭐)</summary>\n",
    "\n",
    "### ✨ Objective\n",
    "\n",
    "Use a lambda function to sort a list of spells by their power level.\n",
    "\n",
    "```python\n",
    "# Setup Code\n",
    "spells = [(\"Lumos\", 5), (\"Obliviate\", 10), (\"Expelliarmus\", 7)]\n",
    "# Expected Task: Sort the spells list by power level in descending order using a lambda function.\n",
    "\n",
    "# Your solution here:\n",
    "# sorted_spells = ...\n",
    "\n",
    "# Expected Output\n",
    "# print(sorted_spells)\n",
    "```\n",
    "\n",
    "### Expected Output\n",
    "\n",
    "```\n",
    "[('Obliviate', 10), ('Expelliarmus', 7), ('Lumos', 5)]\n",
    "```"
   ]
  },
  {
   "cell_type": "code",
   "execution_count": 64,
   "metadata": {},
   "outputs": [
    {
     "name": "stdout",
     "output_type": "stream",
     "text": [
      "[('Obliviate', 10), ('Expelliarmus', 7), ('Lumos', 5)]\n"
     ]
    }
   ],
   "source": [
    "spells = [(\"Lumos\", 5), (\"Obliviate\", 10), (\"Expelliarmus\", 7)]\n",
    "\n",
    "sorted_spells = sorted(spells, key=lambda spell: spell[1], reverse=True)\n",
    "\n",
    "print(sorted_spells)"
   ]
  },
  {
   "cell_type": "markdown",
   "metadata": {},
   "source": [
    "<summary>Exercise 8: Map Transformation for Potion Ingredients (⭐⭐)</summary>\n",
    "\n",
    "### 🧪 Objective\n",
    "\n",
    "Transform a list of potion ingredients to their required quantities using `map`.\n",
    "\n",
    "```python\n",
    "# Setup Code\n",
    "ingredients = [\"Wolfsbane\", \"Eye of Newt\", \"Dragon Scale\"]\n",
    "# Expected Task: Use `map` to append \": 3 grams\" to each ingredient.\n",
    "\n",
    "# Your solution here:\n",
    "# formatted_ingredients = ...\n",
    "\n",
    "# Expected Output\n",
    "# print(formatted_ingredients)\n",
    "```\n",
    "\n",
    "### Expected Output\n",
    "\n",
    "```\n",
    "['Wolfsbane: 3 grams', 'Eye of Newt: 3 grams', 'Dragon Scale: 3 grams']\n",
    "```\n"
   ]
  },
  {
   "cell_type": "code",
   "execution_count": 69,
   "metadata": {},
   "outputs": [
    {
     "name": "stdout",
     "output_type": "stream",
     "text": [
      "['Wolfsbane: 3 grams', 'Eye of Newt: 3 grams', 'Dragon Scale: 3 grams']\n"
     ]
    }
   ],
   "source": [
    "ingredients = [\"Wolfsbane\", \"Eye of Newt\", \"Dragon Scale\"]\n",
    "\n",
    "formatted_ingredients = list(map(lambda ingredient: ingredient + ': 3 grams', ingredients))\n",
    "\n",
    "print(formatted_ingredients)"
   ]
  },
  {
   "cell_type": "markdown",
   "metadata": {},
   "source": [
    "<summary>Exercise 9: Magical Book Filter and Formatter (⭐⭐⭐)</summary>\n",
    "\n",
    "### 📚 Objective\n",
    "\n",
    "Combine `filter`, `map`, and lambda functions to process a list of books and format their titles.\n",
    "\n",
    "```python\n",
    "# Setup Code\n",
    "books = [{\"title\": \"A History of Magic\", \"pages\": 100}, {\"title\": \"Magical Drafts and Potions\", \"pages\": 150}]\n",
    "# Expected Task: Filter books with more than 120 pages and format their titles to uppercase.\n",
    "\n",
    "# Your solution here:\n",
    "# formatted_titles = ...\n",
    "\n",
    "# Expected Output\n",
    "# print(formatted_titles)\n",
    "```\n",
    "\n",
    "### Expected Output\n",
    "\n",
    "```\n",
    "['MAGICAL DRAFTS AND POTIONS']\n",
    "```\n"
   ]
  },
  {
   "cell_type": "code",
   "execution_count": 77,
   "metadata": {},
   "outputs": [
    {
     "name": "stdout",
     "output_type": "stream",
     "text": [
      "['MAGICAL DRAFTS AND POTIONS']\n"
     ]
    }
   ],
   "source": [
    "books = [\n",
    "    {\"title\": \"A History of Magic\", \"pages\": 100},\n",
    "    {\"title\": \"Magical Drafts and Potions\", \"pages\": 150},\n",
    "]\n",
    "\n",
    "filtered_books = list(filter(lambda book: book['pages'] > 120, books))\n",
    "formatted_titles = map(lambda book: book['title'].upper(), filtered_books)\n",
    "\n",
    "print(list(formatted_titles))"
   ]
  },
  {
   "cell_type": "markdown",
   "metadata": {},
   "source": [
    "<summary>Exercise 10: Wizard Duel Game Class (⭐⭐⭐⭐)</summary>\n",
    "\n",
    "### ⚔️ Objective\n",
    "\n",
    "Create a `WizardDuel` class where wizards can cast spells at each other until one wins.\n",
    "\n",
    "```python\n",
    "# Setup Code\n",
    "class WizardDuel:\n",
    "    # Your implementation here\n",
    "    pass\n",
    "\n",
    "# Example usage:\n",
    "# duel = WizardDuel(\"Harry\", \"Draco\", 50, 40)\n",
    "# duel.cast_spell(\"Harry\", 10)\n",
    "# duel.cast_spell(\"Draco\", 5)\n",
    "# winner = duel.get_winner()\n",
    "```\n",
    "\n",
    "### Expected Output\n",
    "\n",
    "```\n",
    "After a duel between Harry and Draco, Harry wins with 10 health points left.\n",
    "```\n"
   ]
  },
  {
   "cell_type": "code",
   "execution_count": 11,
   "metadata": {},
   "outputs": [
    {
     "name": "stdout",
     "output_type": "stream",
     "text": [
      "After a duel between Harry and Draco, Draco wins with 30 health points left.\n"
     ]
    }
   ],
   "source": [
    "class WizardDuel:\n",
    "    def __init__(self, wiz_1, wiz_2, health_1, health_2):\n",
    "        self.wiz_1 = wiz_1\n",
    "        self.wiz_2 = wiz_2\n",
    "        self.health_1 = health_1\n",
    "        self.health_2 = health_2\n",
    "\n",
    "    def cast_spell(self, wiz, attack):\n",
    "        if self.wiz_1 is wiz:\n",
    "            self.health_2 = self.health_2 - attack\n",
    "        else:\n",
    "            self.health_1 = self.health_1 - attack\n",
    "\n",
    "    def get_winner(self):\n",
    "        if self.health_1 == self.health_2:\n",
    "            print(f\"After a duel between {self.wiz_1} and {self.wiz_2}, it's a tie.\")\n",
    "        elif self.health_1 > self.health_2:\n",
    "            print(\n",
    "                f\"After a duel between {self.wiz_1} and {self.wiz_2}, {self.wiz_1} wins with {self.health_1} health points left.\"\n",
    "            )\n",
    "        else:\n",
    "            print(\n",
    "                f\"After a duel between {self.wiz_1} and {self.wiz_2}, {self.wiz_2} wins with {self.health_2} health points left.\"\n",
    "            )\n",
    "\n",
    "\n",
    "duel = WizardDuel(\"Harry\", \"Draco\", 50, 40)\n",
    "\n",
    "duel.cast_spell(\"Harry\", 5)\n",
    "duel.cast_spell(\"Draco\", 10)\n",
    "duel.cast_spell(\"Harry\", 5)\n",
    "duel.cast_spell(\"Draco\", 15)\n",
    "winner = duel.get_winner()\n"
   ]
  },
  {
   "cell_type": "markdown",
   "metadata": {},
   "source": [
    "<summary>Exercise 11: Custom Error Handling in Potion Making (⭐⭐⭐)</summary>\n",
    "\n",
    "### 🧪 Objective\n",
    "\n",
    "Create a custom exception to handle errors in potion making, such as using the wrong ingredient.\n",
    "\n",
    "```python\n",
    "# Setup Code\n",
    "class PotionError(Exception):\n",
    "    pass\n",
    "\n",
    "def brew_potion(potion_name, ingredients):\n",
    "    # Your implementation here\n",
    "    pass\n",
    "\n",
    "# Example usage:\n",
    "# try:\n",
    "#     brew_potion(\"Love Potion\", [\"Rose Petal\", \"Unicorn Hair\"])\n",
    "# except PotionError as e:\n",
    "#     print(f\"Caught PotionError: {e}\")\n",
    "```\n",
    "\n",
    "### Expected Output\n",
    "\n",
    "```\n",
    "Caught PotionError: 'Eye of Newt' is not a valid ingredient for the Love Potion.\n",
    "```\n"
   ]
  },
  {
   "cell_type": "code",
   "execution_count": null,
   "metadata": {},
   "outputs": [
    {
     "name": "stdout",
     "output_type": "stream",
     "text": [
      "Caught PotionError: 'Eye of Newt'  is not a valid ingredient for the Love Potion\n"
     ]
    }
   ],
   "source": [
    "class PotionError(Exception):\n",
    "    def __init__(self, ingredients):\n",
    "        self.ingredients = ingredients\n",
    "        self.message = f\" is not a valid ingredient for the\"\n",
    "        super().__init__(self.message)\n",
    "\n",
    "    def __str__(self):\n",
    "        return f\"{self.ingredients} {self.message}\"\n",
    "\n",
    "def brew_potion(potion_name, ingredients):\n",
    "    try:\n",
    "        potions = {\n",
    "        \"Love Potion\": [\"Rose Petal\", \"Unicorn Hair\", \"Butterfly\"],\n",
    "        \"Flying Potion\": [\"Goldilock\", \"Dumbledore Nail\", \"Minx\"],\n",
    "        \"Invisible Potion\": [\"Armadillo\", \"Bumblebee\"]\n",
    "        }\n",
    "\n",
    "        if potion_name not in potions:\n",
    "            return f\"Unrecognised potion ❌\"\n",
    "\n",
    "        for ingredient in ingredients:\n",
    "            if ingredient not in potions[potion_name]:\n",
    "                raise PotionError(f\"'{ingredient}'\")\n",
    "\n",
    "    except PotionError as e:\n",
    "        print(f\"Caught PotionError: {e} {potion_name}.\")\n",
    "\n",
    "brew_potion(\"Love Potion\", [\"Rose Petal\", \"Eye of Newt\"])\n"
   ]
  },
  {
   "cell_type": "markdown",
   "metadata": {},
   "source": [
    "<summary>Exercise 12: Hogwarts Library Database Query (⭐⭐)</summary>\n",
    "\n",
    "### 📚 Objective\n",
    "\n",
    "Simulate a database query to find books by a specific author using list comprehensions.\n",
    "\n",
    "```python\n",
    "# Setup Code\n",
    "library = [\n",
    "    {\"title\": \"Unfogging the Future\", \"author\": \"Cassandra Vablatsky\"},\n",
    "    {\"title\": \"Magical Hieroglyphs and Logograms\", \"author\": \"Bathilda Bagshot\"}\n",
    "]\n",
    "# Expected Task: Use a list comprehension to select books written by Bathilda Bagshot.\n",
    "\n",
    "# Your solution here:\n",
    "# bagshot_books = ...\n",
    "\n",
    "# Expected Output\n",
    "# print(bagshot_books)\n",
    "```\n",
    "\n",
    "### Expected Output\n",
    "\n",
    "```\n",
    "[{'title': 'Magical Hieroglyphs and Logograms', 'author': 'Bathilda Bagshot'}]\n",
    "```\n"
   ]
  },
  {
   "cell_type": "code",
   "execution_count": 81,
   "metadata": {},
   "outputs": [
    {
     "name": "stdout",
     "output_type": "stream",
     "text": [
      "[{'title': 'Magical Hieroglyphs and Logograms', 'author': 'Bathilda Bagshot'}]\n"
     ]
    }
   ],
   "source": [
    "library = [\n",
    "    {\"title\": \"Unfogging the Future\", \"author\": \"Cassandra Vablatsky\"},\n",
    "    {\"title\": \"Magical Hieroglyphs and Logograms\", \"author\": \"Bathilda Bagshot\"},\n",
    "]\n",
    "\n",
    "bagshot_books = [{'title': book['title'], 'author': book['author']} for book in library if book['author'] == 'Bathilda Bagshot']\n",
    "\n",
    "print(bagshot_books)"
   ]
  },
  {
   "cell_type": "markdown",
   "metadata": {},
   "source": [
    "<summary>Exercise 13: Hogwarts House Points Calculator (⭐⭐⭐)</summary>\n",
    "\n",
    "### 🏆 Objective\n",
    "\n",
    "Calculate the total points for each house using nested loops and a list of dictionaries.\n",
    "\n",
    "```python\n",
    "# Setup Code\n",
    "house_points = [\n",
    "    {\"house\": \"Gryffindor\", \"points\": 35},\n",
    "    {\"house\": \"Slytherin\", \"points\": 50},\n",
    "    {\"house\": \"Gryffindor\", \"points\": 60},\n",
    "    {\"house\": \"Slytherin\", \"points\": 40}\n",
    "]\n",
    "# Expected Task: Aggregate points for each house and print the total.\n",
    "\n",
    "# Your solution here:\n",
    "# house_totals = ...\n",
    "\n",
    "# Expected Output\n",
    "# print(house_totals)\n",
    "```\n",
    "\n",
    "### Expected Output\n",
    "\n",
    "```\n",
    "{\n",
    "    \"Gryffindor\": 95,\n",
    "    \"Slytherin\": 90\n",
    "}\n",
    "```"
   ]
  },
  {
   "cell_type": "code",
   "execution_count": 70,
   "metadata": {},
   "outputs": [
    {
     "name": "stdout",
     "output_type": "stream",
     "text": [
      "{'Gryffindor': 95, 'Slytherin': 90}\n"
     ]
    }
   ],
   "source": [
    "house_points = [\n",
    "    {\"house\": \"Gryffindor\", \"points\": 35},\n",
    "    {\"house\": \"Slytherin\", \"points\": 50},\n",
    "    {\"house\": \"Gryffindor\", \"points\": 60},\n",
    "    {\"house\": \"Slytherin\", \"points\": 40},\n",
    "]\n",
    "\n",
    "def house_totals(house_points):\n",
    "    house_totals = {}\n",
    "    for house_point in house_points:\n",
    "        points = house_point['points']\n",
    "        house = house_point['house']\n",
    "\n",
    "        if house in house_totals:\n",
    "            house_totals[house] += points\n",
    "        else:\n",
    "            house_totals[house] = points\n",
    "    print(house_totals)\n",
    "\n",
    "house_totals(house_points)"
   ]
  },
  {
   "cell_type": "markdown",
   "metadata": {},
   "source": [
    "<summary>Exercise 14: Class Inheritance for Magical Creatures (⭐⭐⭐⭐)</summary>\n",
    "\n",
    "### 🐉 Objective\n",
    "\n",
    "Implement a class hierarchy for magical creatures where each subclass overrides a common method.\n",
    "\n",
    "```python\n",
    "# Setup Code\n",
    "class MagicalCreature:\n",
    "    # Your implementation here\n",
    "    pass\n",
    "\n",
    "class Dragon(MagicalCreature):\n",
    "    # Your implementation here\n",
    "    pass\n",
    "\n",
    "class Unicorn(MagicalCreature):\n",
    "    # Your implementation here\n",
    "    pass\n",
    "\n",
    "# Example usage:\n",
    "# dragon = Dragon(\"Norwegian Ridgeback\")\n",
    "# unicorn = Unicorn(\"Silver-maned\")\n",
    "# dragon.sound()  # Should print \"Roar\"\n",
    "# unicorn.sound()  # Should print \"Neigh\"\n",
    "```\n",
    "\n",
    "### Expected Output\n",
    "\n",
    "```\n",
    "Norwegian Ridgeback the Dragon says: Roar!\n",
    "Silver-maned the Unicorn says: Neigh!\n",
    "```\n",
    "\n",
    "</details>"
   ]
  },
  {
   "cell_type": "code",
   "execution_count": 45,
   "metadata": {},
   "outputs": [
    {
     "name": "stdout",
     "output_type": "stream",
     "text": [
      "Norwegian Ridgeback the Dragon says: Roar!\n",
      "Silver-maned the Unicorn says: Neigh!\n"
     ]
    }
   ],
   "source": [
    "class MagicalCreature:\n",
    "    def __init__(self, name):\n",
    "        self.name = name\n",
    "\n",
    "class Dragon(MagicalCreature):\n",
    "\n",
    "    def sound(self):\n",
    "        print(f\"{self.name} the Dragon says: Roar!\")\n",
    "\n",
    "class Unicorn(MagicalCreature):\n",
    "\n",
    "    def sound(self):\n",
    "        print(f\"{self.name} the Unicorn says: Neigh!\")\n",
    "\n",
    "dragon = Dragon(\"Norwegian Ridgeback\")\n",
    "unicorn = Unicorn(\"Silver-maned\")\n",
    "dragon.sound()  # Should print \"Roar\"\n",
    "unicorn.sound()  # Should print \"Neigh\""
   ]
  },
  {
   "cell_type": "markdown",
   "metadata": {},
   "source": [
    "<summary>Exercise 15: Custom Sorting with Lambda for Magical Artifacts (⭐⭐⭐)</summary>\n",
    "\n",
    "### 🔍 Objective\n",
    "\n",
    "Sort a list of magical artifacts by their age and power level using a custom lambda function.\n",
    "\n",
    "```python\n",
    "# Setup Code\n",
    "artifacts = [\n",
    "    {\"name\": \"Cloak of Invisibility\", \"age\": 657, \"power\": 9.5},\n",
    "    {\"name\": \"Elder Wand\", \"age\": 1000, \"power\": 10},\n",
    "    {\"name\": \"Resurrection Stone\", \"age\": 800, \"power\": 7}\n",
    "]\n",
    "# Expected Task: Sort the artifacts first by age, then by power, using a lambda function.\n",
    "\n",
    "# Your solution here:\n",
    "# sorted_artifacts = ...\n",
    "\n",
    "# Expected Output\n",
    "# print(sorted_artifacts)\n",
    "```\n",
    "\n",
    "### Expected Output\n",
    "\n",
    "```\n",
    "[\n",
    "    {\"name\": \"Cloak of Invisibility\", \"age\": 657, \"power\": 9.5},\n",
    "    {\"name\": \"Resurrection Stone\", \"age\": 800, \"power\": 7},\n",
    "    {\"name\": \"Elder Wand\", \"age\": 1000, \"power\": 10}\n",
    "]\n",
    "```"
   ]
  },
  {
   "cell_type": "code",
   "execution_count": 16,
   "metadata": {},
   "outputs": [
    {
     "name": "stdout",
     "output_type": "stream",
     "text": [
      "[{'name': 'Cloak of Invisibility', 'age': 657, 'power': 9.5}, {'name': 'Resurrection Stone', 'age': 800, 'power': 7}, {'name': 'Elder Wand', 'age': 1000, 'power': 10}]\n"
     ]
    }
   ],
   "source": [
    "artifacts = [\n",
    "    {\"name\": \"Cloak of Invisibility\", \"age\": 657, \"power\": 9.5},\n",
    "    {\"name\": \"Elder Wand\", \"age\": 1000, \"power\": 10},\n",
    "    {\"name\": \"Resurrection Stone\", \"age\": 800, \"power\": 7},\n",
    "]\n",
    "\n",
    "sorted_artifacts = sorted(artifacts, key=lambda artifact: (artifact['age'], artifact['power']))\n",
    "\n",
    "print(sorted_artifacts)"
   ]
  },
  {
   "cell_type": "markdown",
   "metadata": {},
   "source": [
    "<summary>Exercise 16: Wizard Profile Generator with f-strings (⭐)</summary>\n",
    "\n",
    "### 🧙‍♂️ Objective\n",
    "\n",
    "Dynamically generate wizard profiles using f-strings and dictionary unpacking.\n",
    "\n",
    "```python\n",
    "# Setup Code\n",
    "wizard = {\"name\": \"Albus Dumbledore\", \"title\": \"Headmaster\", \"house\": \"Gryffindor\"}\n",
    "# Expected Task: Use an f-string to create a profile string that includes the wizard's name, title, and house.\n",
    "\n",
    "# Your solution here:\n",
    "# profile = ...\n",
    "\n",
    "# Expected Output\n",
    "# print(profile)\n",
    "```\n",
    "\n",
    "### Expected Output\n",
    "\n",
    "```\n",
    "Albus Dumbledore, the Headmaster of Gryffindor.\n",
    "```"
   ]
  },
  {
   "cell_type": "code",
   "execution_count": 67,
   "metadata": {},
   "outputs": [
    {
     "name": "stdout",
     "output_type": "stream",
     "text": [
      "Albus Dumbledore, the Headmaster of Gryffindor.\n"
     ]
    }
   ],
   "source": [
    "wizard = {\"name\": \"Albus Dumbledore\", \"title\": \"Headmaster\", \"house\": \"Gryffindor\"}\n",
    "\n",
    "def profile(wizard):\n",
    "    print(f\"{wizard['name']}, the {wizard['title']} of {wizard['house']}.\")\n",
    "\n",
    "profile(wizard)"
   ]
  },
  {
   "cell_type": "markdown",
   "metadata": {},
   "source": [
    "<summary>Exercise 17: Magical Creature Adoption Matching (⭐⭐⭐)</summary>\n",
    "\n",
    "### 🦄 Objective\n",
    "\n",
    "Match potential magical creature adopters with creatures based on preferences using `filter` and `map`.\n",
    "\n",
    "```python\n",
    "# Setup Code\n",
    "adopters = [(\"Harry\", \"Phoenix\"), (\"Hermione\", \"House Elf\")]\n",
    "creatures = [(\"Fawkes\", \"Phoenix\"), (\"Dobby\", \"House Elf\"), (\"Buckbeak\", \"Hippogriff\")]\n",
    "# Expected Task: Use `filter` and `map` to create a list of matches between adopters and creatures.\n",
    "\n",
    "# Your solution here:\n",
    "# matches = ...\n",
    "\n",
    "# Expected Output\n",
    "# print(matches)\n",
    "```\n",
    "\n",
    "### Expected Output\n",
    "\n",
    "```\n",
    "[('Harry', 'Fawkes'), ('Hermione', 'Dobby')]\n",
    "```\n"
   ]
  },
  {
   "cell_type": "code",
   "execution_count": null,
   "metadata": {},
   "outputs": [
    {
     "name": "stdout",
     "output_type": "stream",
     "text": [
      "[('Harry', 'Fawkes'), ('Hermione', 'Dobby')]\n"
     ]
    }
   ],
   "source": [
    "# Using loop\n",
    "\n",
    "adopters = [(\"Harry\", \"Phoenix\"), (\"Hermione\", \"House Elf\")]\n",
    "creatures = [(\"Fawkes\", \"Phoenix\"), (\"Dobby\", \"House Elf\"), (\"Buckbeak\", \"Hippogriff\")]\n",
    "\n",
    "matches = []\n",
    "\n",
    "for adopter in adopters:\n",
    "    match = list(filter(lambda creature: adopter[1] == creature[1], creatures))\n",
    "    if match:\n",
    "        matches.append((adopter[0], match[0][0]))\n",
    "\n",
    "print(matches)\n"
   ]
  },
  {
   "cell_type": "code",
   "execution_count": null,
   "metadata": {},
   "outputs": [
    {
     "name": "stdout",
     "output_type": "stream",
     "text": [
      "[('Harry', 'Fawkes'), ('Hermione', 'Dobby')]\n"
     ]
    }
   ],
   "source": [
    "adopters = [(\"Harry\", \"Phoenix\"), (\"Hermione\", \"House Elf\")]\n",
    "creatures = [(\"Fawkes\", \"Phoenix\"), (\"Dobby\", \"House Elf\"), (\"Buckbeak\", \"Hippogriff\")]\n",
    "\n",
    "matches = list(\n",
    "    map(\n",
    "        lambda adopter:\n",
    "        (adopter[0],\n",
    "        list(filter(lambda creature: adopter[1] == creature[1], creatures))[0][0]),\n",
    "        adopters\n",
    "    )\n",
    ")\n",
    "\n",
    "print(matches)\n"
   ]
  },
  {
   "cell_type": "markdown",
   "metadata": {},
   "source": [
    "<summary>Exercise 18: Advanced Potion Making with Nested Loops (⭐⭐⭐)</summary>\n",
    "\n",
    "### 🧪 Objective\n",
    "\n",
    "Simulate potion making where each combination of ingredients produces a unique result using nested loops.\n",
    "\n",
    "```python\n",
    "# Setup Code\n",
    "ingredients = [\"Moonstone\", \"Silver Dust\", \"Dragon Blood\"]\n",
    "# Expected Task: For each pair of ingredients, print out the unique potion they produce.\n",
    "\n",
    "# Your solution here:\n",
    "# potential_potions = ...\n",
    "\n",
    "# Expected Output\n",
    "```\n",
    "\n",
    "### Expected Output\n",
    "\n",
    "```\n",
    "Combining Moonstone and Silver Dust produces a unique potion.\n",
    "Combining Moonstone and Dragon Blood produces a unique potion.\n",
    "Combining Silver Dust and Dragon Blood produces a unique potion.\n",
    "```"
   ]
  },
  {
   "cell_type": "code",
   "execution_count": 63,
   "metadata": {},
   "outputs": [
    {
     "name": "stdout",
     "output_type": "stream",
     "text": [
      "Combining Moonstone and Silver Dust produces a unique potion.\n",
      "Combining Moonstone and Dragon Blood produces a unique potion.\n",
      "Combining Silver Dust and Dragon Blood produces a unique potion.\n"
     ]
    }
   ],
   "source": [
    "ingredients = [\"Moonstone\", \"Silver Dust\", \"Dragon Blood\"]\n",
    "\n",
    "def potential_solutions(ingredients):\n",
    "    for i in range(len(ingredients)):\n",
    "        for j in range(i+1, len(ingredients)):\n",
    "            print(f\"Combining {ingredients[i]} and {ingredients[j]} produces a unique potion.\")\n",
    "\n",
    "potential_solutions(ingredients)"
   ]
  },
  {
   "cell_type": "markdown",
   "metadata": {},
   "source": [
    "<summary>Exercise 19: Nested Data Manipulation (⭐⭐⭐⭐)</summary>\n",
    "\n",
    "### 🧩 Objective\n",
    "\n",
    "Navigate and manipulate a nested data structure.\n",
    "\n",
    "```python\n",
    "# Setup Code\n",
    "data = [\n",
    "    {\"id\": 1, \"name\": \"Item 1\", \"tags\": [\"tag1\", \"tag2\"]},\n",
    "    {\"id\": 2, \"name\": \"Item 2\", \"tags\": [\"tag2\", \"tag3\"]},\n",
    "    {\"id\": 3, \"name\": \"Item 3\", \"tags\": [\"tag1\", \"tag3\"]}\n",
    "]\n",
    "# Expected Task: For each item, add a new tag \"tag4\" only if \"tag1\" is present in the tags list.\n",
    "\n",
    "# Your solution here:\n",
    "# modified_data = ...\n",
    "\n",
    "# Expected Output\n",
    "# print(modified_data)\n",
    "```\n",
    "\n",
    "### Expected Output\n",
    "\n",
    "```\n",
    "[\n",
    "    {\"id\": 1, \"name\": \"Item 1\", \"tags\": [\"tag1\", \"tag2\", \"tag4\"]},\n",
    "    {\"id\": 2, \"name\": \"Item 2\", \"tags\": [\"tag2\", \"tag3\"]},\n",
    "    {\"id\": 3, \"name\": \"Item 3\", \"tags\": [\"tag1\", \"tag3\", \"tag4\"]}\n",
    "]\n",
    "```"
   ]
  },
  {
   "cell_type": "code",
   "execution_count": 61,
   "metadata": {},
   "outputs": [
    {
     "name": "stdout",
     "output_type": "stream",
     "text": [
      "[{'id': 1, 'name': 'Item 1', 'tags': ['tag1', 'tag2', 'tag4']}, {'id': 2, 'name': 'Item 2', 'tags': ['tag2', 'tag3']}, {'id': 3, 'name': 'Item 3', 'tags': ['tag1', 'tag3', 'tag4']}]\n"
     ]
    }
   ],
   "source": [
    "data = [\n",
    "    {\"id\": 1, \"name\": \"Item 1\", \"tags\": [\"tag1\", \"tag2\"]},\n",
    "    {\"id\": 2, \"name\": \"Item 2\", \"tags\": [\"tag2\", \"tag3\"]},\n",
    "    {\"id\": 3, \"name\": \"Item 3\", \"tags\": [\"tag1\", \"tag3\"]},\n",
    "]\n",
    "\n",
    "def modified_data(data):\n",
    "    for i in data:\n",
    "        if 'tag1' in i['tags']:\n",
    "            i['tags'].append('tag4')\n",
    "    return(data)\n",
    "\n",
    "print(modified_data(data))"
   ]
  },
  {
   "cell_type": "markdown",
   "metadata": {},
   "source": [
    "<summary>Exercise 20: Implementing a Custom Sort Function (⭐⭐⭐⭐⭐)</summary>\n",
    "\n",
    "### 🔄 Objective\n",
    "\n",
    "Implement a custom sort function for a list of dictionaries based on multiple criteria.\n",
    "\n",
    "```python\n",
    "# Setup Code\n",
    "tasks = [\n",
    "    {\"id\": 1, \"priority\": \"High\", \"completed\": False},\n",
    "    {\"id\": 2, \"priority\": \"Low\", \"completed\": True},\n",
    "    {\"id\": 3, \"priority\": \"Medium\", \"completed\": False}\n",
    "]\n",
    "# Expected Task: Sort the tasks by \"completed\" status (False first) and then by priority (\"High\", \"Medium\", \"Low\").\n",
    "\n",
    "# Your solution here:\n",
    "# sorted_tasks = ...\n",
    "\n",
    "# Expected Output\n",
    "# print(sorted_tasks)\n",
    "```\n",
    "\n",
    "### Expected Output\n",
    "\n",
    "```\n",
    "[\n",
    "    {\"id\": 1, \"priority\": \"High\", \"completed\": False},\n",
    "    {\"id\": 3, \"priority\": \"Medium\", \"completed\": False},\n",
    "    {\"id\": 2, \"priority\": \"Low\", \"completed\": True}\n",
    "]\n",
    "```\n"
   ]
  },
  {
   "cell_type": "code",
   "execution_count": 54,
   "metadata": {},
   "outputs": [
    {
     "name": "stdout",
     "output_type": "stream",
     "text": [
      "[{'id': 1, 'priority': 'High', 'completed': False}, {'id': 3, 'priority': 'Medium', 'completed': False}, {'id': 2, 'priority': 'Low', 'completed': True}]\n"
     ]
    }
   ],
   "source": [
    "tasks = [\n",
    "    {\"id\": 1, \"priority\": \"High\", \"completed\": False},\n",
    "    {\"id\": 2, \"priority\": \"Low\", \"completed\": True},\n",
    "    {\"id\": 3, \"priority\": \"Medium\", \"completed\": False},\n",
    "]\n",
    "\n",
    "sorted_tasks = list(\n",
    "    sorted(\n",
    "        tasks,\n",
    "        key=lambda task: (\n",
    "            task[\"completed\"],\n",
    "            {\"High\": 0, \"Medium\": 1, \"Low\": 1}[task[\"priority\"]],\n",
    "        ),\n",
    "    )\n",
    ")\n",
    "\n",
    "print(sorted_tasks)"
   ]
  }
 ],
 "metadata": {
  "kernelspec": {
   "display_name": ".venv",
   "language": "python",
   "name": "python3"
  },
  "language_info": {
   "codemirror_mode": {
    "name": "ipython",
    "version": 3
   },
   "file_extension": ".py",
   "mimetype": "text/x-python",
   "name": "python",
   "nbconvert_exporter": "python",
   "pygments_lexer": "ipython3",
   "version": "3.13.2"
  }
 },
 "nbformat": 4,
 "nbformat_minor": 2
}
