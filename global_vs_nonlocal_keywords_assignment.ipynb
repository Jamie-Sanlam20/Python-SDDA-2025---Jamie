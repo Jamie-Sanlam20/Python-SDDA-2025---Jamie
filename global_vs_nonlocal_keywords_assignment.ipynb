{
 "cells": [
  {
   "cell_type": "markdown",
   "metadata": {},
   "source": [
    "# Global vs Nonlocal\n",
    "\n",
    "- In Python, `global` and `nonlocal` are two keywords used to modify the scope of *variables*.\n",
    "- `Scope` refers to managing how data is accessed and modified within different levels of nested functions - `the lifetime of the variable`.\n",
    "\n"
   ]
  },
  {
   "cell_type": "markdown",
   "metadata": {},
   "source": [
    "1. `global` Keyword \n",
    "\n",
    "The **global** keyword is used when you want to modify a variable that's defined outside of any function (i.e., a global variable). When you use `global` inside a function, you're telling Python that you want to refer to the global variable instead of creating a new local variable.\n",
    "\n",
    "Scope:\n",
    "\n",
    "A global variable is accessible from anywhere in the program. If you change it inside a function, it updates the global version, not just a local one."
   ]
  },
  {
   "cell_type": "code",
   "execution_count": null,
   "metadata": {},
   "outputs": [
    {
     "name": "stdout",
     "output_type": "stream",
     "text": [
      "20\n"
     ]
    }
   ],
   "source": [
    "# Example using global in a function\n",
    "\n",
    "x = 10  # Global variable\n",
    "\n",
    "def modify_global():\n",
    "    global x\n",
    "    x = 20    # Modify the global variable\n",
    "\n",
    "modify_global()\n",
    "print(x)  # -> 20, because the global x was modified"
   ]
  },
  {
   "cell_type": "markdown",
   "metadata": {},
   "source": [
    "In the above example, the `global` keyword allows the `modify_global` function to change the global variable `x`."
   ]
  },
  {
   "cell_type": "code",
   "execution_count": null,
   "metadata": {},
   "outputs": [
    {
     "name": "stdout",
     "output_type": "stream",
     "text": [
      "10\n"
     ]
    }
   ],
   "source": [
    "# Example without using global\n",
    "\n",
    "x = 10\n",
    "\n",
    "def modify_local():\n",
    "    x = 20  # This creates a new local variable 'x', not affecting the global one -> only accessible within function\n",
    "\n",
    "\n",
    "modify_local()\n",
    "print(x)  # -> 10 (Global variable doesn't change)\n"
   ]
  },
  {
   "cell_type": "markdown",
   "metadata": {},
   "source": [
    "The above example shows that without `global`, `x` inside `modify_local` is treated as a local variable, so the global `x` stays the same. "
   ]
  },
  {
   "cell_type": "markdown",
   "metadata": {},
   "source": [
    "2. `nonlocal` Keyword\n",
    "\n",
    "The **nonlocal** keyword is used to modify a variable in the nearest enclosing space (i.e., a variable from an outer function) that's not global. \n",
    "It's typically used in nested functions to update a variable from an outer function.\n",
    "\n",
    "Scope:\n",
    "\n",
    "A nonlocal variable is in the nearest enclosing space that is not global. This comes into play when you're working with nested functions and want to change a variable from the outer function."
   ]
  },
  {
   "cell_type": "code",
   "execution_count": null,
   "metadata": {},
   "outputs": [
    {
     "name": "stdout",
     "output_type": "stream",
     "text": [
      "20\n"
     ]
    }
   ],
   "source": [
    "# Example using nonlocal in a nested function\n",
    "\n",
    "def outer():\n",
    "    x = 10  # Variable in the enclosing scope\n",
    "\n",
    "    def inner():\n",
    "        nonlocal x  # Refers to 'x' in the enclosing scope\n",
    "        x = 20  # Modify the outer variable\n",
    "\n",
    "    inner()\n",
    "    print(x)  # 20\n",
    "\n",
    "\n",
    "outer()\n"
   ]
  },
  {
   "cell_type": "markdown",
   "metadata": {},
   "source": [
    "In the above example, the `nonlocal` keyword allows the `inner` function to modify the `x` variable from the `outer` function."
   ]
  },
  {
   "cell_type": "code",
   "execution_count": null,
   "metadata": {},
   "outputs": [
    {
     "name": "stdout",
     "output_type": "stream",
     "text": [
      "10\n"
     ]
    }
   ],
   "source": [
    "# Example without using nonlocal\n",
    "\n",
    "def outer():\n",
    "    x = 10\n",
    "\n",
    "    def inner():\n",
    "        x = 20  # This creates a new local variable 'x', not affecting the outer one\n",
    "\n",
    "    inner()\n",
    "    print(x)  # 10\n",
    "\n",
    "\n",
    "outer()\n"
   ]
  },
  {
   "cell_type": "markdown",
   "metadata": {},
   "source": [
    "Without `nonlocal`, the `x` in `inner` is a completely new variable, so the `x` in the `outer` function stays the same."
   ]
  },
  {
   "cell_type": "markdown",
   "metadata": {},
   "source": [
    "### Key Differences\n",
    "\n",
    "| Feature      |    global      | nonlocal |\n",
    "| ------------- | :----------- | :------ |\n",
    "| Scope      | Refers to global scope of the program |   Refers to nearest enclosing (non-global) scope |\n",
    "| Purpose      |   Used to modify global variables inside functions    |     Used to modify variables in the nearest enclosing space |\n",
    "| Usage |   Affects global variables    |      Affects variables in enclosing spaces (but not global) |\n",
    "| Common Use Case      |   When you need to modify or access global variables inside a function    |     When working with nested functions and modifying outer function variables |"
   ]
  },
  {
   "cell_type": "markdown",
   "metadata": {},
   "source": [
    "### Summary\n",
    "\n",
    "- Use the `global` keyword when you need to change or access a global variable inside a function.\n",
    "- Use the `nonlocal` keyword when working with nested functions, and you need to modify a variable in an enclosing (outer function's) scope."
   ]
  }
 ],
 "metadata": {
  "kernelspec": {
   "display_name": ".venv",
   "language": "python",
   "name": "python3"
  },
  "language_info": {
   "codemirror_mode": {
    "name": "ipython",
    "version": 3
   },
   "file_extension": ".py",
   "mimetype": "text/x-python",
   "name": "python",
   "nbconvert_exporter": "python",
   "pygments_lexer": "ipython3",
   "version": "3.13.2"
  }
 },
 "nbformat": 4,
 "nbformat_minor": 2
}
