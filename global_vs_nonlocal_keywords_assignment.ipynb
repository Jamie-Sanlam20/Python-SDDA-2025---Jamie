{
 "cells": [
  {
   "cell_type": "markdown",
   "metadata": {},
   "source": [
    "# Global vs Nonlocal\n",
    "\n",
    "In Python, `global` and `nonlocal` are two keywords used to modify the scope of *variables*.\n",
    "`Scope` refers to managing how data is accessed and modified within different levels of nested functions.\n",
    "    - The Lifetime of variable \n",
    "\n"
   ]
  },
  {
   "cell_type": "markdown",
   "metadata": {},
   "source": [
    "1. `global` Keyword \n",
    "\n",
    "The *global* keyword is used to declare that a variable inside of a function, is referring to a variable in the global scope (outside of any functions). When a variable is marked as global, Python will look for the variable in the global namespace rather than the local function's scope. It allows you to modify global variables directly within a function.\n",
    "\n",
    "Scope:\n",
    "\n",
    "- The variable declared with global exists in the global namespace.\n",
    "- Any changes to the variable in the function affect the global variable, as the function references the global scope."
   ]
  },
  {
   "cell_type": "code",
   "execution_count": 1,
   "metadata": {},
   "outputs": [
    {
     "name": "stdout",
     "output_type": "stream",
     "text": [
      "20\n"
     ]
    }
   ],
   "source": [
    "x = 10  # Global variable\n",
    "\n",
    "def update_global():\n",
    "    global x  # Declare the use of the global variable x\n",
    "    x = 20    # Modify the global variable\n",
    "\n",
    "update_global()\n",
    "print(x)  # Output: 20, because the global x was modified"
   ]
  }
 ],
 "metadata": {
  "kernelspec": {
   "display_name": ".venv",
   "language": "python",
   "name": "python3"
  },
  "language_info": {
   "codemirror_mode": {
    "name": "ipython",
    "version": 3
   },
   "file_extension": ".py",
   "mimetype": "text/x-python",
   "name": "python",
   "nbconvert_exporter": "python",
   "pygments_lexer": "ipython3",
   "version": "3.13.2"
  }
 },
 "nbformat": 4,
 "nbformat_minor": 2
}
