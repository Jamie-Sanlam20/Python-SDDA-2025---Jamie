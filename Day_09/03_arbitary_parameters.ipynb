{
 "cells": [
  {
   "cell_type": "markdown",
   "metadata": {},
   "source": [
    "## Arbitary means it can accept many parameters"
   ]
  },
  {
   "cell_type": "code",
   "execution_count": 21,
   "metadata": {},
   "outputs": [
    {
     "name": "stdout",
     "output_type": "stream",
     "text": [
      "(9, 6)\n",
      "(3, 4, 5, 6)\n",
      "(3, 4, 5, 6, 7, 2, 3, 10, 1)\n"
     ]
    }
   ],
   "source": [
    "def own_max(*nums): # * -> collect all the arguments that you're parsing through it -> treated as a tuple\n",
    "    print(nums)\n",
    "\n",
    "own_max(9, 6)\n",
    "own_max(3, 4, 5, 6)\n",
    "own_max(3, 4, 5, 6, 7, 2, 3, 10, 1)\n"
   ]
  },
  {
   "cell_type": "code",
   "execution_count": null,
   "metadata": {},
   "outputs": [],
   "source": [
    "def own_max(*nums):  # * -> Collect all the arguments\n",
    "    # Write normal for loop and return max value\n",
    "    pass\n",
    "\n",
    "\n",
    "own_max(9, 6)\n",
    "own_max(3, 4, 5, 6)\n",
    "own_max(3, 4, 5, 6, 7, 2, 3, 10, 1)\n"
   ]
  },
  {
   "cell_type": "code",
   "execution_count": null,
   "metadata": {},
   "outputs": [
    {
     "name": "stdout",
     "output_type": "stream",
     "text": [
      "(3, 4, 5, 6, 7, 2, 3, 10, 1)\n"
     ]
    },
    {
     "data": {
      "text/plain": [
       "10"
      ]
     },
     "execution_count": 20,
     "metadata": {},
     "output_type": "execute_result"
    }
   ],
   "source": [
    "def own_max(*nums):\n",
    "    if not nums:\n",
    "        return \"Please provide some values\" # -> this is an empty tuple () -> returns 'False' when converted into a boolean value with if\n",
    "    max_no = nums[0] # list with placeholder value (int - 0)\n",
    "    for num in nums:\n",
    "        if num > max_no: # checking if each number is greater than the max_no\n",
    "            max_no = num\n",
    "    return max_no\n",
    "\n",
    "own_max(3, 4, 5, 6, 7, 2, 3, 10, 1)\n",
    "# own_max(-3, -4, -5, -6, -7, -2, -3, -10, -1)\n",
    "\n",
    "# false means not nums"
   ]
  },
  {
   "cell_type": "code",
   "execution_count": 2,
   "metadata": {},
   "outputs": [],
   "source": [
    "# Position Arg - * -> Collect all pos args\n",
    "# Keyword Args - ** -> Collect all kw args\n"
   ]
  },
  {
   "cell_type": "code",
   "execution_count": 1,
   "metadata": {},
   "outputs": [
    {
     "name": "stdout",
     "output_type": "stream",
     "text": [
      "👋 😄 ('👋', '✅', '🥔', '🥕')\n"
     ]
    }
   ],
   "source": [
    "def fun(\n",
    "    s1, s2, *emoji\n",
    "):  # * -> Collect all the arguments -> unpacking operator (Position args)\n",
    "    # Write normal for loop and return max value\n",
    "    print(s1, s2, emoji)\n",
    "\n",
    "\n",
    "fun(\"👋\", \"😄\", \"👋\", \"✅\", \"🥔\", \"🥕\")\n"
   ]
  },
  {
   "cell_type": "code",
   "execution_count": null,
   "metadata": {},
   "outputs": [],
   "source": [
    "# * -> collects all positional arguments as a tuple\n",
    "# ** -> collects all keyword arguments (becomes a dictionary)\n",
    "\n",
    "# if there is no keyword arguments, use 1 star -> *\n",
    "# keep the star at the end"
   ]
  },
  {
   "cell_type": "code",
   "execution_count": 3,
   "metadata": {},
   "outputs": [
    {
     "name": "stdout",
     "output_type": "stream",
     "text": [
      "{'name': 'Cool', 'age': '20', 'car': 'BMW'}\n",
      "name Cool\n",
      "age 20\n",
      "car BMW\n"
     ]
    }
   ],
   "source": [
    "def fun1(**details):\n",
    "    print(details)\n",
    "    for key, value in details.items():\n",
    "        print(key, value)\n",
    "\n",
    "\n",
    "fun1(name=\"Cool\", age=\"20\", car=\"BMW\")  # ** -> Collect all kw args\n",
    "\n",
    "\n",
    "# * -> Tuple -> ,count(), .len(), +, *, for..loop\n",
    "# ** -> Dict -> .get(), .keys(), .values(), .items(), for..loop\n",
    "\n",
    "# List, Dict, Tuple, Sets\n"
   ]
  },
  {
   "cell_type": "code",
   "execution_count": 4,
   "metadata": {},
   "outputs": [
    {
     "name": "stdout",
     "output_type": "stream",
     "text": [
      "('👋', '😄', '👋') {'name': 'Cool', 'age': '20', 'car': 'BMW'}\n"
     ]
    }
   ],
   "source": [
    "def fun2(*emoji, **details):\n",
    "    print(emoji, details)\n",
    "\n",
    "\n",
    "fun2(\"👋\", \"😄\", \"👋\", name=\"Cool\", age=\"20\", car=\"BMW\")\n"
   ]
  },
  {
   "cell_type": "code",
   "execution_count": 5,
   "metadata": {},
   "outputs": [
    {
     "name": "stdout",
     "output_type": "stream",
     "text": [
      "Feeling 🙂 this morning 🌅.\n",
      "Feeling 😎 this afternoon ☀️.\n"
     ]
    }
   ],
   "source": [
    "# Task 1.1\n",
    "\n",
    "\n",
    "def mood_report(mood=\"🙂\", time_of_day=\"morning 🌅\"):\n",
    "    return f\"Feeling {mood} this {time_of_day}.\"\n",
    "\n",
    "\n",
    "# Example outputs:\n",
    "print(mood_report())  # \"Feeling 🙂 this morning 🌅.\"\n",
    "print(\n",
    "    mood_report(mood=\"😎\", time_of_day=\"afternoon ☀️\")\n",
    ")  # \"Feeling 😎 this afternoon ☀️.\"\n"
   ]
  },
  {
   "cell_type": "code",
   "execution_count": null,
   "metadata": {},
   "outputs": [
    {
     "name": "stdout",
     "output_type": "stream",
     "text": [
      "Feeling 🙂 this morning 🌅\n",
      "Feeling 😎 this afternoon ☀️\n"
     ]
    }
   ],
   "source": [
    "def mood_report(mood=\"🙂\", time_of_day=\"morning 🌅\"):\n",
    "    return (f\"Feeling {mood} this {time_of_day}\")\n",
    "\n",
    "print(mood_report())\n",
    "print(mood_report(mood=\"😎\", time_of_day=\"afternoon ☀️\"))"
   ]
  },
  {
   "cell_type": "code",
   "execution_count": 6,
   "metadata": {},
   "outputs": [
    {
     "name": "stdout",
     "output_type": "stream",
     "text": [
      "Inganathi is eligible for driving test. You will be tested with Toyota\n",
      "Inganathi is eligible for driving test. You will be tested with Polo Vivo\n"
     ]
    }
   ],
   "source": [
    "def driving_test2(\n",
    "    name=\"Mr./Mrs. cool\", age=0, car=\"Polo Vivo\"\n",
    "):  # Default value - Order matters ✅\n",
    "    if age >= 18:\n",
    "        return f\"{name} is eligible for driving test. You will be tested with {car}\"\n",
    "    else:\n",
    "        return \"Try again after few years 👶🍼\"\n",
    "\n",
    "\n",
    "student = {\"name\": \"Inganathi\", \"age\": 19, \"car\": \"Toyota\"}\n",
    "\n",
    "\n",
    "# One way of passing arguments into a function from a dictionary\n",
    "\n",
    "print(driving_test2(student[\"name\"], student[\"age\"], student[\"car\"]))\n",
    "print(driving_test2(student[\"name\"], student[\"age\"]))\n"
   ]
  },
  {
   "cell_type": "code",
   "execution_count": 7,
   "metadata": {},
   "outputs": [
    {
     "name": "stdout",
     "output_type": "stream",
     "text": [
      "Inganathi is eligible for driving test. You will be tested with Toyota\n",
      "Inganathi is eligible for driving test. You will be tested with Toyota\n"
     ]
    }
   ],
   "source": [
    "def driving_test2(\n",
    "    name=\"Mr./Mrs. cool\", age=0, car=\"Polo Vivo\"\n",
    "):  # Default value - Order matters ✅\n",
    "    if age >= 18:\n",
    "        return f\"{name} is eligible for driving test. You will be tested with {car}\"\n",
    "    else:\n",
    "        return \"Try again after few years 👶🍼\"\n",
    "\n",
    "\n",
    "student = {\"name\": \"Inganathi\", \"age\": 19, \"car\": \"Toyota\"} # if keys in dictionary matches keys in function, unpack it\n",
    "\n",
    "\n",
    "print(driving_test2(**student))  # Short form -> Unpacking dictionary into KW args\n",
    "print(driving_test2(name=\"Inganathi\", age=19, car=\"Toyota\"))  # 3 KW\n"
   ]
  },
  {
   "cell_type": "code",
   "execution_count": null,
   "metadata": {},
   "outputs": [],
   "source": [
    "def fun3(n1, n2):  # Keyword args\n",
    "    print(n1, n2)\n",
    "\n",
    "\n",
    "vals = {\"n1\": 6, \"n2\": 7}\n",
    "\n",
    "fun3(n1=6, n2=7)  # 2 KW\n",
    "fun3(**vals) # Same as above, just unpacking it as arguments\n"
   ]
  },
  {
   "cell_type": "code",
   "execution_count": 25,
   "metadata": {},
   "outputs": [],
   "source": [
    "# Task 1.2\n",
    "\n",
    "books = [\n",
    "    {\"title\": \"1984\", \"author\": \"George Orwell\", \"year\": 1949},\n",
    "    {\"author\": \"J.K. Rowling\"},  # Missing title and year\n",
    "    {\"title\": \"The Great Gatsby\", \"author\": \"F. Scott Fitzgerald\", \"year\": 1925},\n",
    "    {\"title\": \"To Kill a Mockingbird\", \"year\": 1960},  # Missing author\n",
    "    {\"author\": \"Ernest Hemingway\", \"year\": 1952},  # Missing title\n",
    "]\n",
    "\n",
    "\n",
    "# Output\n",
    "# '1984' by George Orwell (1949)\n",
    "# 'Untitled' by J.K. Rowling (N/A)\n",
    "# 'The Great Gatsby' by F. Scott Fitzgerald (1925)\n",
    "# 'To Kill a Mockingbird' by Unknown (1960)\n",
    "# 'Untitled' by Ernest Hemingway (1952)\n"
   ]
  },
  {
   "cell_type": "code",
   "execution_count": 11,
   "metadata": {},
   "outputs": [
    {
     "name": "stdout",
     "output_type": "stream",
     "text": [
      "'1984' by George Orwell (1949)\n",
      "'Untitled' by J.K. Rowling (N/A)\n",
      "'The Great Gatsby' by F. Scott Fitzgerald (1925)\n",
      "'To Kill a Mockingbird' by Unknown (1960)\n",
      "'Untitled' by Ernest Hemingway (1952)\n"
     ]
    }
   ],
   "source": [
    "books = [\n",
    "    {\"title\": \"1984\", \"author\": \"George Orwell\", \"year\": 1949},\n",
    "    {\"author\": \"J.K. Rowling\"},  # Missing title and year\n",
    "    {\"title\": \"The Great Gatsby\", \"author\": \"F. Scott Fitzgerald\", \"year\": 1925},\n",
    "    {\"title\": \"To Kill a Mockingbird\", \"year\": 1960},  # Missing author\n",
    "    {\"author\": \"Ernest Hemingway\", \"year\": 1952},  # Missing title\n",
    "]\n",
    "\n",
    "def format_book_info(title='Untitled', author='Unknown', year='N/A'):\n",
    "    return f\"'{title}' by {author} ({year})\"\n",
    "\n",
    "def main():\n",
    "    for book in books:\n",
    "        print(format_book_info(**book))  # since it's a dictionary that we're unpacking into KW args\n",
    "        # print(format_book_info(title=\"1984\", author=\"George Orwell\", year=1949)) - 1st loop\n",
    "\n",
    "# When unpacking dict (format_book_info(**book)) -> KW Args\n",
    "\n",
    "main()"
   ]
  },
  {
   "cell_type": "code",
   "execution_count": 9,
   "metadata": {},
   "outputs": [
    {
     "name": "stdout",
     "output_type": "stream",
     "text": [
      "'1984' by George Orwell (1949)\n",
      "'Untitled' by J.K. Rowling (N/A)\n",
      "'The Great Gatsby' by F. Scott Fitzgerald (1925)\n",
      "'To Kill a Mockingbird' by Unknown (1960)\n",
      "'Untitled' by Ernest Hemingway (1952)\n"
     ]
    }
   ],
   "source": [
    "books = [\n",
    "    {\"title\": \"1984\", \"author\": \"George Orwell\", \"year\": 1949},\n",
    "    {\"author\": \"J.K. Rowling\"},  # Missing title and year\n",
    "    {\"title\": \"The Great Gatsby\", \"author\": \"F. Scott Fitzgerald\", \"year\": 1925},\n",
    "    {\"title\": \"To Kill a Mockingbird\", \"year\": 1960},  # Missing author\n",
    "    {\"author\": \"Ernest Hemingway\", \"year\": 1952},  # Missing title\n",
    "]\n",
    "\n",
    "def format_book_info(book): # Single Responsibility - function - one task\n",
    "    title = book.get(\"title\", \"Untitled\")\n",
    "    author = book.get(\"author\", \"Unknown\")\n",
    "    year = book.get(\"year\", \"N/A\")\n",
    "    return f\"'{title}' by {author} ({year})\"\n",
    "\n",
    "def main():\n",
    "    for book in books:\n",
    "        print(format_book_info(book))\n",
    "\n",
    "main()"
   ]
  },
  {
   "cell_type": "code",
   "execution_count": 13,
   "metadata": {},
   "outputs": [
    {
     "name": "stdout",
     "output_type": "stream",
     "text": [
      "'1984' by George Orwell (1949)\n",
      "'Untitled' by J.K. Rowling (N/A)\n",
      "'The Great Gatsby' by F. Scott Fitzgerald (1925)\n",
      "'To Kill a Mockingbird' by Unknown (1960)\n",
      "'Untitled' by Ernest Hemingway (1952)\n"
     ]
    }
   ],
   "source": [
    "books = [\n",
    "    {\"title\": \"1984\", \"author\": \"George Orwell\", \"year\": 1949},\n",
    "    {\"author\": \"J.K. Rowling\"},  # Missing title and year\n",
    "    {\"title\": \"The Great Gatsby\", \"author\": \"F. Scott Fitzgerald\", \"year\": 1925},\n",
    "    {\"title\": \"To Kill a Mockingbird\", \"year\": 1960},  # Missing author\n",
    "    {\"author\": \"Ernest Hemingway\", \"year\": 1952},  # Missing title\n",
    "]\n",
    "\n",
    "def format_book_info(title = 'Untitled', author='Unknown', year='N/A'):\n",
    "        return f\"'{title}' by {author} ({year})\"\n",
    "\n",
    "def main():\n",
    "    for book in books:\n",
    "        print(format_book_info(**book))\n",
    "\n",
    "main()"
   ]
  },
  {
   "cell_type": "code",
   "execution_count": null,
   "metadata": {},
   "outputs": [],
   "source": [
    "# keys in dict should match parameter names in function to unpack -> KW args should match keys in dictionary"
   ]
  },
  {
   "cell_type": "code",
   "execution_count": 14,
   "metadata": {},
   "outputs": [],
   "source": [
    "# Multiple ⬆️ - Reusability ⬇️\n",
    "\n",
    "\n",
    "def format_book_info(title=\"Untitled\", author=\"Unknown\", year=\"N/A\"):\n",
    "    return f\"'{title}' by {author} ({year})\"\n",
    "\n",
    "\n",
    "# Starting point\n",
    "def main():\n",
    "    for book in books:\n",
    "        print(format_book_info(**book))\n"
   ]
  },
  {
   "cell_type": "code",
   "execution_count": 17,
   "metadata": {},
   "outputs": [
    {
     "name": "stdout",
     "output_type": "stream",
     "text": [
      "😄 👋 ✅ 🥔\n",
      "😄 👋 ✅ 🥔\n",
      "Anita Python Part I\n",
      "Anita Python Part I\n",
      "Anita Python Part I\n"
     ]
    }
   ],
   "source": [
    "def fun1(s1, s2, *emoji):  # Unpacking on parameter (Arbitrary parameter)\n",
    "    print(s1, s2, emoji)\n",
    "\n",
    "\n",
    "# fun(\"👋\" , '😄' , \"👋\", \"✅\", \"🥔\", \"🥕\")\n",
    "\n",
    "\n",
    "cool_emojis = [\"😄\", \"👋\", \"✅\", \"🥔\"]\n",
    "\n",
    "\n",
    "def fun2(s1, s2, s3, s4):\n",
    "    print(s1, s2, s3, s4)\n",
    "\n",
    "\n",
    "fun2(cool_emojis[0], cool_emojis[1], cool_emojis[2], cool_emojis[3])\n",
    "# fun2(cool_emojis) # Args < Parameters\n",
    "fun2(*cool_emojis)  # Unpacking Pos Args\n",
    "\n",
    "book = {\"author\": \"Anita\", \"title\": \"Python Part I\"}\n",
    "\n",
    "\n",
    "def fun3(author, title):\n",
    "    print(author, title)\n",
    "\n",
    "\n",
    "fun3(title=book[\"title\"], author=book[\"author\"])\n",
    "fun3(**book)  # Unpacking Keyword Args\n",
    "fun3(\n",
    "    book[\"author\"],\n",
    "    book[\"title\"]\n",
    ")\n"
   ]
  },
  {
   "cell_type": "markdown",
   "metadata": {},
   "source": [
    "# Summary\n",
    "- Arbitrary Parameter\n",
    "  - -> * -> Tuple\n",
    "  - ** -> Dict\n",
    "- Unpacking Args\n",
    "  - -> * -> List\n",
    "  - ** -> Dict"
   ]
  },
  {
   "cell_type": "code",
   "execution_count": 18,
   "metadata": {},
   "outputs": [
    {
     "data": {
      "text/plain": [
       "\"'Untitled' by Anita (N/A)\""
      ]
     },
     "execution_count": 18,
     "metadata": {},
     "output_type": "execute_result"
    }
   ],
   "source": [
    "def format_book_info(book):  # Charger\n",
    "    title = book.get(\"title\", \"Untitled\")\n",
    "    author = book.get(\"author\", \"Unknown\")\n",
    "    year = book.get(\"year\", \"N/A\")\n",
    "    return f\"'{title}' by {author} ({year})\"\n",
    "\n",
    "\n",
    "# # Starting point\n",
    "# def main():\n",
    "#     for book in books:\n",
    "#         print(format_book_info(book))\n",
    "\n",
    "# main()\n",
    "\n",
    "format_book_info({\"author\": \"Anita\"})\n"
   ]
  },
  {
   "cell_type": "code",
   "execution_count": 20,
   "metadata": {},
   "outputs": [
    {
     "name": "stdout",
     "output_type": "stream",
     "text": [
      "'1984' by George Orwell (1949)\n",
      "'Untitled' by J.K. Rowling (N/A)\n",
      "'The Great Gatsby' by F. Scott Fitzgerald (1925)\n",
      "'To Kill a Mockingbird' by Unknown (1960)\n",
      "'Untitled' by Ernest Hemingway (1952)\n"
     ]
    }
   ],
   "source": [
    "# Starting point\n",
    "def main():  # 1. Loops +  2. Format + 3.Print\n",
    "    for book in books:\n",
    "        title = book.get(\"title\", \"Untitled\")\n",
    "        author = book.get(\"author\", \"Unknown\")\n",
    "        year = book.get(\"year\", \"N/A\")\n",
    "        print(f\"'{title}' by {author} ({year})\")\n",
    "\n",
    "\n",
    "main()\n"
   ]
  }
 ],
 "metadata": {
  "kernelspec": {
   "display_name": ".venv",
   "language": "python",
   "name": "python3"
  },
  "language_info": {
   "codemirror_mode": {
    "name": "ipython",
    "version": 3
   },
   "file_extension": ".py",
   "mimetype": "text/x-python",
   "name": "python",
   "nbconvert_exporter": "python",
   "pygments_lexer": "ipython3",
   "version": "3.13.2"
  }
 },
 "nbformat": 4,
 "nbformat_minor": 2
}
