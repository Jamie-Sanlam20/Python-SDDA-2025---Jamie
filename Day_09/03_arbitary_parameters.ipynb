{
 "cells": [
  {
   "cell_type": "markdown",
   "metadata": {},
   "source": [
    "## Arbitary means it can accept many parameters"
   ]
  },
  {
   "cell_type": "code",
   "execution_count": 21,
   "metadata": {},
   "outputs": [
    {
     "name": "stdout",
     "output_type": "stream",
     "text": [
      "(9, 6)\n",
      "(3, 4, 5, 6)\n",
      "(3, 4, 5, 6, 7, 2, 3, 10, 1)\n"
     ]
    }
   ],
   "source": [
    "def own_max(*nums): # * -> collect all the arguments that you're parsing through it -> treated as a tuple\n",
    "    print(nums)\n",
    "\n",
    "own_max(9, 6)\n",
    "own_max(3, 4, 5, 6)\n",
    "own_max(3, 4, 5, 6, 7, 2, 3, 10, 1)\n"
   ]
  },
  {
   "cell_type": "code",
   "execution_count": null,
   "metadata": {},
   "outputs": [],
   "source": [
    "def own_max(*nums):  # * -> Collect all the arguments\n",
    "    # Write normal for loop and return max value\n",
    "    pass\n",
    "\n",
    "\n",
    "own_max(9, 6)\n",
    "own_max(3, 4, 5, 6)\n",
    "own_max(3, 4, 5, 6, 7, 2, 3, 10, 1)\n"
   ]
  },
  {
   "cell_type": "code",
   "execution_count": null,
   "metadata": {},
   "outputs": [
    {
     "name": "stdout",
     "output_type": "stream",
     "text": [
      "(3, 4, 5, 6, 7, 2, 3, 10, 1)\n"
     ]
    },
    {
     "data": {
      "text/plain": [
       "10"
      ]
     },
     "execution_count": 20,
     "metadata": {},
     "output_type": "execute_result"
    }
   ],
   "source": [
    "def own_max(*nums):\n",
    "    if not nums:\n",
    "        return \"Please provide some values\" # -> this is an empty tuple () -> returns 'False' when converted into a boolean value with if\n",
    "    max_no = nums[0] # list with placeholder value (int - 0)\n",
    "    for num in nums:\n",
    "        if num > max_no: # checking if each number is greater than the max_no\n",
    "            max_no = num\n",
    "    return max_no\n",
    "\n",
    "own_max(3, 4, 5, 6, 7, 2, 3, 10, 1)\n",
    "# own_max(-3, -4, -5, -6, -7, -2, -3, -10, -1)\n",
    "\n",
    "# false means not nums"
   ]
  },
  {
   "cell_type": "code",
   "execution_count": null,
   "metadata": {},
   "outputs": [],
   "source": [
    "# * -> collects all positional arguments as a tuple\n",
    "# ** -> collects all keyword arguments (becomes a dictionary)"
   ]
  },
  {
   "cell_type": "code",
   "execution_count": null,
   "metadata": {},
   "outputs": [
    {
     "name": "stdout",
     "output_type": "stream",
     "text": [
      "Feeling 🙂 this morning 🌅\n",
      "Feeling 😎 this afternoon ☀️\n"
     ]
    }
   ],
   "source": [
    "def mood_report(mood=\"🙂\", time_of_day=\"morning 🌅\"):\n",
    "    return (f\"Feeling {mood} this {time_of_day}\")\n",
    "\n",
    "print(mood_report())\n",
    "print(mood_report(mood=\"😎\", time_of_day=\"afternoon ☀️\"))"
   ]
  },
  {
   "cell_type": "code",
   "execution_count": 25,
   "metadata": {},
   "outputs": [],
   "source": [
    "# Task 1.2\n",
    "\n",
    "books = [\n",
    "    {\"title\": \"1984\", \"author\": \"George Orwell\", \"year\": 1949},\n",
    "    {\"author\": \"J.K. Rowling\"},  # Missing title and year\n",
    "    {\"title\": \"The Great Gatsby\", \"author\": \"F. Scott Fitzgerald\", \"year\": 1925},\n",
    "    {\"title\": \"To Kill a Mockingbird\", \"year\": 1960},  # Missing author\n",
    "    {\"author\": \"Ernest Hemingway\", \"year\": 1952},  # Missing title\n",
    "]\n",
    "\n",
    "\n",
    "# Output\n",
    "# '1984' by George Orwell (1949)\n",
    "# 'Untitled' by J.K. Rowling (N/A)\n",
    "# 'The Great Gatsby' by F. Scott Fitzgerald (1925)\n",
    "# 'To Kill a Mockingbird' by Unknown (1960)\n",
    "# 'Untitled' by Ernest Hemingway (1952)\n"
   ]
  },
  {
   "cell_type": "code",
   "execution_count": null,
   "metadata": {},
   "outputs": [
    {
     "ename": "TypeError",
     "evalue": "__main__.format_book_info() argument after ** must be a mapping, not list",
     "output_type": "error",
     "traceback": [
      "\u001b[1;31m---------------------------------------------------------------------------\u001b[0m",
      "\u001b[1;31mTypeError\u001b[0m                                 Traceback (most recent call last)",
      "Cell \u001b[1;32mIn[67], line 16\u001b[0m\n\u001b[0;32m     13\u001b[0m     \u001b[38;5;28;01mfor\u001b[39;00m book \u001b[38;5;129;01min\u001b[39;00m books:\n\u001b[0;32m     14\u001b[0m         \u001b[38;5;28mprint\u001b[39m(format_book_info(\u001b[38;5;241m*\u001b[39m\u001b[38;5;241m*\u001b[39mbooks))\n\u001b[1;32m---> 16\u001b[0m \u001b[43mmain\u001b[49m\u001b[43m(\u001b[49m\u001b[43m)\u001b[49m\n",
      "Cell \u001b[1;32mIn[67], line 14\u001b[0m, in \u001b[0;36mmain\u001b[1;34m()\u001b[0m\n\u001b[0;32m     12\u001b[0m \u001b[38;5;28;01mdef\u001b[39;00m\u001b[38;5;250m \u001b[39m\u001b[38;5;21mmain\u001b[39m():\n\u001b[0;32m     13\u001b[0m     \u001b[38;5;28;01mfor\u001b[39;00m book \u001b[38;5;129;01min\u001b[39;00m books:\n\u001b[1;32m---> 14\u001b[0m         \u001b[38;5;28mprint\u001b[39m(format_book_info(\u001b[38;5;241m*\u001b[39m\u001b[38;5;241m*\u001b[39mbooks))\n",
      "\u001b[1;31mTypeError\u001b[0m: __main__.format_book_info() argument after ** must be a mapping, not list"
     ]
    }
   ],
   "source": [
    "books = [\n",
    "    {\"title\": \"1984\", \"author\": \"George Orwell\", \"year\": 1949},\n",
    "    {\"author\": \"J.K. Rowling\"},  # Missing title and year\n",
    "    {\"title\": \"The Great Gatsby\", \"author\": \"F. Scott Fitzgerald\", \"year\": 1925},\n",
    "    {\"title\": \"To Kill a Mockingbird\", \"year\": 1960},  # Missing author\n",
    "    {\"author\": \"Ernest Hemingway\", \"year\": 1952},  # Missing title\n",
    "]\n",
    "\n",
    "def format_book_info(title = 'Untitled', author='Unknown', year='N/A'):\n",
    "        return f\"'{title}' by {book['author']} ({book['year']})\"\n",
    "\n",
    "def main():\n",
    "    for book in books:\n",
    "        print(format_book_info(**books))\n",
    "\n",
    "main()"
   ]
  },
  {
   "cell_type": "code",
   "execution_count": null,
   "metadata": {},
   "outputs": [],
   "source": [
    "# keys in dict should match parameter names in function to unpack -> KW args should match keys in dictionary"
   ]
  }
 ],
 "metadata": {
  "kernelspec": {
   "display_name": ".venv",
   "language": "python",
   "name": "python3"
  },
  "language_info": {
   "codemirror_mode": {
    "name": "ipython",
    "version": 3
   },
   "file_extension": ".py",
   "mimetype": "text/x-python",
   "name": "python",
   "nbconvert_exporter": "python",
   "pygments_lexer": "ipython3",
   "version": "3.13.2"
  }
 },
 "nbformat": 4,
 "nbformat_minor": 2
}
