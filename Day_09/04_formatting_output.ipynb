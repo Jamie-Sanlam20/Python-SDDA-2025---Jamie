{
 "cells": [
  {
   "cell_type": "code",
   "execution_count": null,
   "metadata": {},
   "outputs": [],
   "source": [
    "# comma/underscore is the digit separator between numbers (only) -> improves UX"
   ]
  },
  {
   "cell_type": "code",
   "execution_count": null,
   "metadata": {},
   "outputs": [],
   "source": [
    "# ctrl + space will show us what we can import (autocomplete)\n",
    "# math package\n",
    "\n",
    "# .2f -> 2 floating point (2 decimal place)\n",
    "\n",
    "from math import pi,"
   ]
  },
  {
   "cell_type": "code",
   "execution_count": null,
   "metadata": {},
   "outputs": [],
   "source": [
    "# as letters increase, the padding goes away, why? -> text length should be smaller than the padding\n",
    "\n",
    "# if you add a symbol before the arrow mark starts, it will fill the padding with that\n"
   ]
  },
  {
   "attachments": {
    "image.png": {
     "image/png": "[encoded data removed]"
    }
   },
   "cell_type": "markdown",
   "metadata": {},
   "source": [
    "![image.png](attachment:image.png)"
   ]
  },
  {
   "cell_type": "code",
   "execution_count": null,
   "metadata": {},
   "outputs": [],
   "source": [
    "# : colon means formatting\n",
    "# between date, can be any symbols (- or /)\n"
   ]
  },
  {
   "cell_type": "markdown",
   "metadata": {},
   "source": [
    "### Rule: ALWAYS Keep imports (packages) at the top of the file"
   ]
  },
  {
   "cell_type": "code",
   "execution_count": null,
   "metadata": {},
   "outputs": [
    {
     "name": "stdout",
     "output_type": "stream",
     "text": [
      "======= Spaghetti Carbonara =======\n"
     ]
    }
   ],
   "source": [
    "recipe = {\n",
    "    \"name\": \"Spaghetti Carbonara\",\n",
    "    \"servings\": 4,\n",
    "    \"ingredients\": [\n",
    "        \"200g spaghetti\",\n",
    "        \"100g pancetta\",\n",
    "        \"2 eggs\",\n",
    "        \"1/2 cup grated Parmesan\",\n",
    "        \"1 clove garlic\",\n",
    "    ],\n",
    "}\n",
    "\n",
    "# Task 1\n",
    "# ======= Spaghetti Carbonara =======\n",
    "# - 200g spaghetti\n",
    "# - 100g pancetta\n",
    "# - 2 eggs\n",
    "# - 1/2 cup grated Parmesan\n",
    "# - 1 clove garlic\n",
    "# Serves: 4 people\n",
    "\n",
    "def format_recipe_output(recipe):\n",
    "    name = f\" {recipe['name']} \"\n",
    "    print(f\"{name:=^35}\")\n",
    "    for ingredient in recipe['ingredients']:\n",
    "        print(f\" - {ingredient}\")\n",
    "    print(f\"Serves: {recipe['servings']} people\")\n",
    "\n",
    "format_recipe_output(recipe)"
   ]
  },
  {
   "cell_type": "code",
   "execution_count": null,
   "metadata": {},
   "outputs": [],
   "source": [
    "# Code can be made better -> recipe is repeated throuighout code"
   ]
  },
  {
   "cell_type": "markdown",
   "metadata": {},
   "source": [
    "## Assignment\n",
    "\n",
    "```\n",
    "Invoice Date: 03 March 2025\n",
    "\n",
    "Product               Qty     Unit Price          Total\n",
    "-------------------------------------------------------\n",
    "Widget A               10           2.50          25.00\n",
    "Widget B                5          15.75          78.75\n",
    "Gadget                  2          99.99         199.98\n",
    "-------------------------------------------------------\n",
    "Grand Total                                      303.73\n",
    "```"
   ]
  },
  {
   "cell_type": "code",
   "execution_count": 178,
   "metadata": {},
   "outputs": [
    {
     "name": "stdout",
     "output_type": "stream",
     "text": [
      "Invoice Date:  03 March 2025\n",
      "\n",
      "Product                     Qty      Unit Price                Total\n",
      "--------------------------------------------------------------------\n",
      "Widget A                     10             2.5                25.00\n",
      "Widget B                      5           15.75                78.75\n",
      "Gadget                        2           99.99               199.98\n",
      "--------------------------------------------------------------------\n",
      "Grand Total                                                   303.73\n"
     ]
    }
   ],
   "source": [
    "from datetime import datetime\n",
    "\n",
    "items = [\n",
    "    {\"name\": \"Widget A\", \"quantity\": 10, \"price\": 2.5},\n",
    "    {\"name\": \"Widget B\", \"quantity\": 5, \"price\": 15.75},\n",
    "    {\"name\": \"Gadget\", \"quantity\": 2, \"price\": 99.99}\n",
    "]\n",
    "\n",
    "def print_invoice(items):\n",
    "    invoice_date = datetime.now()\n",
    "    print(f\"Invoice Date: {invoice_date: %d %B %Y}\")\n",
    "    titles = ['Product', 'Qty', 'Unit Price', 'Total']\n",
    "    print(f\"\\n{titles[0]:<20} {titles[1]:>10} {titles[2]:>15} {titles[3]:>20}\")\n",
    "    line = '-' * 68\n",
    "    print(f\"{line}\")\n",
    "    for item in items:\n",
    "        total = item['quantity'] * item['price']\n",
    "        print(f\"{item['name']:<20} {item['quantity']:>10} {item['price']:>15} {total:>20.2f}\")\n",
    "    print(f\"{line}\")\n",
    "    g_total = sum(item[\"quantity\"] * item[\"price\"] for item in items)\n",
    "    print(f\"Grand Total {g_total:>56}\")\n",
    "\n",
    "print_invoice(items)"
   ]
  },
  {
   "cell_type": "code",
   "execution_count": null,
   "metadata": {},
   "outputs": [],
   "source": [
    "# Sol 2\n",
    "\n",
    "from datetime import datetime\n",
    "\n",
    "items = [\n",
    "    {\"name\": \"Widget A\", \"quantity\": 10, \"price\": 2.5},\n",
    "    {\"name\": \"Widget B\", \"quantity\": 5, \"price\": 15.75},\n",
    "    {\"name\": \"Gadget\", \"quantity\": 2, \"price\": 99.99},\n",
    "]\n",
    "\n",
    "\n",
    "def print_invoice(items):\n",
    "    invoice_date = datetime.now()\n",
    "    print(f\"Invoice Date: {invoice_date: %d %B %Y}\")\n",
    "    titles = [\"Product\", \"Qty\", \"Unit Price\", \"Total\"]\n",
    "    print(f\"\\n{titles[0]:<20} {titles[1]:>10} {titles[2]:>15} {titles[3]:>20}\")\n",
    "    line = \"-\" * 68\n",
    "    print(f\"{line}\")\n",
    "    for item in items:\n",
    "        total = item[\"quantity\"] * item[\"price\"]\n",
    "        print(\n",
    "            f\"{item['name']:<20} {item['quantity']:>10} {item['price']:>15} {total:>20.2f}\"\n",
    "        )\n",
    "    print(f\"{line}\")\n",
    "    g_total = [item[\"quantity\"] * item[\"price\"] for item in items]\n",
    "    print(f\"Grand Total {sum(g_total):>56}\")\n",
    "\n",
    "\n",
    "# Call the function without wrapping it in another print()\n",
    "print_invoice(items)\n"
   ]
  }
 ],
 "metadata": {
  "kernelspec": {
   "display_name": ".venv",
   "language": "python",
   "name": "python3"
  },
  "language_info": {
   "codemirror_mode": {
    "name": "ipython",
    "version": 3
   },
   "file_extension": ".py",
   "mimetype": "text/x-python",
   "name": "python",
   "nbconvert_exporter": "python",
   "pygments_lexer": "ipython3",
   "version": "3.13.2"
  }
 },
 "nbformat": 4,
 "nbformat_minor": 2
}
