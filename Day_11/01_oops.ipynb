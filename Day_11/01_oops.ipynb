{
 "cells": [
  {
   "cell_type": "markdown",
   "metadata": {},
   "source": [
    "## Paradigms (Style of code)\n",
    "- Function programming\n",
    "- OOP - Objected Oriented Programming \n",
    "- Procedural programming\n",
    "- Mathematical programming"
   ]
  },
  {
   "cell_type": "markdown",
   "metadata": {
    "vscode": {
     "languageId": "plaintext"
    }
   },
   "source": [
    "## Object Oriented Programming ?\n",
    "\n",
    "- Inspiration nature to solve complex problem\n",
    "- Programming abstract \n",
    "- Programming constructs into objects"
   ]
  },
  {
   "cell_type": "markdown",
   "metadata": {},
   "source": [
    "## Car (Blue print)\n",
    "- Wheels\n",
    "- Engine\n",
    "- model\n",
    "- Doors"
   ]
  },
  {
   "cell_type": "markdown",
   "metadata": {},
   "source": [
    "## Object\n",
    "### BMW\n",
    "- Wheels - 4\n",
    "- Engine - v8\n",
    "- model - x5\n",
    "- Doors - 4\n",
    " \n",
    "### Jeep\n",
    "- Wheels - 4\n",
    "- Engine - v6\n",
    "- model - wrangler\n",
    "- Doors - 5\n",
    " \n",
    "### Mclaren\n",
    "- Wheels - 4\n",
    "- Engine - v8\n",
    "- model - 650s\n",
    "- Doors - 2"
   ]
  },
  {
   "cell_type": "code",
   "execution_count": null,
   "metadata": {},
   "outputs": [
    {
     "name": "stdout",
     "output_type": "stream",
     "text": [
      "<__main__.Car object at 0x0000024E8B3B4AD0>\n",
      "4\n",
      "v8\n",
      "wrangler\n",
      "5\n",
      "4\n",
      "Vroom Vroom\n"
     ]
    }
   ],
   "source": [
    "# Blueprint -> Car\n",
    "class Car:\n",
    "    # method init -> Called when you create object\n",
    "    def __init__(self, wheels, engine, model, doors):\n",
    "        # self -> point to object\n",
    "        # instance variables :\n",
    "        self.wheels = wheels\n",
    "        self.engine = engine\n",
    "        self.model = model\n",
    "        self.doors = doors\n",
    "\n",
    "    # instance method\n",
    "    def horn(self): # self points to object\n",
    "        return \"Vroom Vroom\"\n",
    "\n",
    "bmw = Car(4, \"v8\", \"x5\", 4) # bmw -> object / instance\n",
    "jeep = Car(4, \"v6\", \"wrangler\", 5) # jeep -> object / instance\n",
    "mclaren = Car(4, \"v8\", \"650s\", 2) # mclaren -> object / instance\n",
    "audi = Car(4, \"v10\", \"r8\", 2)\n",
    "\n",
    "# Note:\n",
    "# self points to bmw - object that you're creating\n",
    "# Car is the blueprint that we're creating\n",
    "\n",
    "print(bmw) # Car Object\n",
    "# print(bmw['wheels']) # Error ❌\n",
    "print(bmw.wheels)\n",
    "print(bmw.engine)\n",
    "print(jeep.model)\n",
    "print(jeep.doors)\n",
    "print(mclaren.wheels)\n",
    "print(bmw.horn())\n",
    "\n",
    "# Summary:\n",
    "# Class -> Data + Logic\n",
    "# holds all instance variables - containing Data\n",
    "# instance methods - Logic"
   ]
  },
  {
   "cell_type": "markdown",
   "metadata": {},
   "source": [
    "## Task 1.1\n",
    "Create blueprint\n",
    "\n",
    "### Bank\n",
    "1. acc_no\n",
    "2. name\n",
    "3. balance\n",
    " \n",
    "## Task 1.2\n",
    "Create 3 accounts:\n",
    "- Chleo - 100_000\n",
    "- Diyali - 60_000\n",
    "- Jevan - 800_000"
   ]
  },
  {
   "cell_type": "code",
   "execution_count": null,
   "metadata": {},
   "outputs": [
    {
     "name": "stdout",
     "output_type": "stream",
     "text": [
      "1436289\n",
      "100000.0\n",
      "jevan peters\n"
     ]
    }
   ],
   "source": [
    "class Bank:\n",
    "    def __init__(self, acc_no, name, balance):\n",
    "        self.acc_no = acc_no\n",
    "        self.name = name\n",
    "        self.balance = balance # this should be stored as pure int (easier to work with)\n",
    "\n",
    "diyali = Bank(1436289, \"diyali devraj\", 60_000)\n",
    "chleo = Bank(1934567, \"chleo smith\", 100_000)\n",
    "jevan = Bank(1239087, \"jevan peters\", 800_000)\n",
    "\n",
    "print(diyali.acc_no)\n",
    "print(chleo.balance)\n",
    "print(jevan.name)"
   ]
  },
  {
   "cell_type": "markdown",
   "metadata": {},
   "source": [
    "## Task 1.3\n",
    " \n",
    "```py\n",
    "print(chelo.display_balance())  # Your balance is: R100,000.00\n",
    "```"
   ]
  },
  {
   "cell_type": "code",
   "execution_count": null,
   "metadata": {},
   "outputs": [
    {
     "name": "stdout",
     "output_type": "stream",
     "text": [
      "1436289\n",
      "100000\n",
      "jevan peters\n",
      "Your balance is: 100,000.00\n"
     ]
    }
   ],
   "source": [
    "class Bank:\n",
    "    def __init__(self, acc_no, name, balance):\n",
    "        self.acc_no = acc_no\n",
    "        self.name = name\n",
    "        self.balance = balance\n",
    "\n",
    "    def display_balance(self):\n",
    "        return f\"Your balance is: R{self.balance:,.2f}\" # have to use self. because it points to object (chleo)\n",
    "\n",
    "diyali = Bank(\"1436289\", \"diyali devraj\", 60_000)\n",
    "chleo = Bank(\"1934567\", \"chleo smith\", 100_000)\n",
    "jevan = Bank(\"1239087\", \"jevan peters\", 800_000)\n",
    "\n",
    "print(diyali.acc_no) # no recommended # allow access to data via methods\n",
    "print(chleo.balance)\n",
    "print(jevan.name)\n",
    "print(chleo.display_balance())\n"
   ]
  },
  {
   "cell_type": "markdown",
   "metadata": {},
   "source": [
    "## Task 1.4\n",
    " \n",
    "```py\n",
    "print(chelo.withdraw(2_000))  # Success. Your balance is: R98,000.00\n",
    "print(chelo.display_balance())  # Your balance is: R98,000.00\n",
    "```"
   ]
  },
  {
   "cell_type": "code",
   "execution_count": null,
   "metadata": {},
   "outputs": [
    {
     "name": "stdout",
     "output_type": "stream",
     "text": [
      "1436289\n",
      "100000\n",
      "jevan peters\n",
      "Success. Your balance is: R98,000.00\n",
      "Your balance is: R98,000.00\n"
     ]
    }
   ],
   "source": [
    "class Bank:\n",
    "    def __init__(self, acc_no, name, balance):\n",
    "        self.acc_no = acc_no\n",
    "        self.name = name\n",
    "        self.balance = balance\n",
    "\n",
    "    def display_balance(self):\n",
    "        return f\"Your balance is: R{self.balance:,.2f}\"\n",
    "\n",
    "    def withdraw(self, amount):\n",
    "        if self.balance > amount:\n",
    "            self.balance -= amount\n",
    "            print(f\"Success. Your balance is: R{self.balance:,.2f}\")\n",
    "        else:\n",
    "            print(f\"Your balance is insufficient. Your balance is: R{self.balance:,.2f}\")\n",
    "\n",
    "diyali = Bank(\"1436289\", \"diyali devraj\", 60_000)\n",
    "chleo = Bank(\"1934567\", \"chleo smith\", 100_000)\n",
    "jevan = Bank(\"1239087\", \"jevan peters\", 800_000)\n",
    "\n",
    "print(diyali.acc_no)\n",
    "print(chleo.balance)\n",
    "print(jevan.name)\n",
    "(chleo.withdraw(2_000))\n",
    "print(chleo.display_balance())"
   ]
  },
  {
   "cell_type": "markdown",
   "metadata": {},
   "source": [
    "## Encapsulation - wrapping data + logic - data (instance variables) + logic (instance methods) -> Container (Class)\n",
    "### Access to data -> should not be allowed to access data outside of the class \n",
    "- Why? \n",
    "- People could change or manipulate the values \n",
    "- Should only be accessed through the methods \n",
    "- There are ways to enforce the rules"
   ]
  },
  {
   "cell_type": "code",
   "execution_count": null,
   "metadata": {},
   "outputs": [],
   "source": [
    "# if you use self.display_balance(), if you need to change the way it is displayed -> you only need to change it in one place\n",
    "# e.g., manager asks you to change it to 3 dec points"
   ]
  },
  {
   "cell_type": "markdown",
   "metadata": {},
   "source": [
    "## Abstraction\n",
    "Hiding the complex things \n",
    "\n",
    "`Good Abstraction`\n",
    "- Complexity is hidden \n",
    "- You don't have to worry about how it works, as long as it works\n",
    "- The code has accounted for all cases\n",
    "\n",
    "`Bad Abstraction`\n",
    "- Too much things are hidden\n",
    "- Accumulates code debt\n",
    "\n",
    "How to know when to break it up into multiple methods?\n",
    "*Experience*"
   ]
  },
  {
   "cell_type": "markdown",
   "metadata": {},
   "source": [
    "## Task 1.4\n",
    " \n",
    "```py\n",
    "print(diyali.deposit(5_000))  # Successfully deposited. Your balance is: R65,000.00\n",
    "print(diyali.display_balance())  # Your balance is: R65,000.00\n",
    "print(diyali.withdraw(1_000)) # Success. Your balance is: R64,000.00\n",
    "```"
   ]
  },
  {
   "cell_type": "code",
   "execution_count": 42,
   "metadata": {},
   "outputs": [
    {
     "name": "stdout",
     "output_type": "stream",
     "text": [
      "Successfully deposited. Your balance is: R102,000.00\n",
      "Your balance is: R102,000.00\n"
     ]
    }
   ],
   "source": [
    "class Bank:\n",
    "    def __init__(self, acc_no, name, balance):\n",
    "        self.acc_no = acc_no\n",
    "        self.name = name\n",
    "        self.balance = balance\n",
    "\n",
    "    def display_balance(self):\n",
    "        return f\"Your balance is: R{self.balance:,.2f}\"\n",
    "\n",
    "    def withdraw(self, amount):\n",
    "        if self.balance > amount:\n",
    "            self.balance -= amount\n",
    "            print(f\"Success. Your balance is: R{self.balance:,.2f}\")\n",
    "        else:\n",
    "            print(\n",
    "                f\"Your balance is insufficient. Your balance is: R{self.balance:,.2f}\"\n",
    "            )\n",
    "\n",
    "    def deposit(self, amount):\n",
    "        self.balance += amount\n",
    "        return f\"Successfully deposited. {self.display_balance()}\"\n",
    "\n",
    "\n",
    "diyali = Bank(\"1436289\", \"diyali devraj\", 60_000)\n",
    "chleo = Bank(\"1934567\", \"chleo smith\", 100_000)\n",
    "jevan = Bank(\"1239087\", \"jevan peters\", 800_000)\n",
    "\n",
    "# print(diyali.acc_no)\n",
    "# print(chleo.balance)\n",
    "# print(jevan.name)\n",
    "print(chleo.deposit(2_000))\n",
    "print(chleo.display_balance())\n"
   ]
  },
  {
   "cell_type": "code",
   "execution_count": null,
   "metadata": {},
   "outputs": [],
   "source": [
    "# Ragav answer\n",
    "\n",
    "class Bank:\n",
    "    def __init__(self, acc_no, name, balance):\n",
    "        self.acc_no = acc_no\n",
    "        self.name = name\n",
    "        self.balance = balance  # int\n",
    "\n",
    "    # instance method -> self (always first parameter)\n",
    "    def display_balance(self):\n",
    "        return f\"Your balance is: R{self.balance:,.2f}\"\n",
    "\n",
    "    # 2. Abstraction - Beautiful - Complexity Hidden\n",
    "    def withdraw(self, amount):\n",
    "        if amount <= 0:\n",
    "            return \"Invalid amount\"\n",
    "\n",
    "        if amount > self.balance:\n",
    "            return f\"Insufficient funds. {self.display_balance()}\"\n",
    "\n",
    "        self.balance -= amount\n",
    "        return f\"Success. {self.display_balance()}\"\n",
    "\n",
    "\n",
    "chelo = Bank(123, \"Chleo Smith\", 100_000)\n",
    "diyali = Bank(124, \"Diyali Devraj\", 60_000)\n",
    "jevan = Bank(125, \"Jevan Peters\", 800_000)\n"
   ]
  },
  {
   "cell_type": "code",
   "execution_count": null,
   "metadata": {},
   "outputs": [],
   "source": [
    "# Instance variable -> for each instance (object), the values/data is different\n",
    "# amount, acc_no and balance is different for each instance\n",
    "\n",
    "# Class variable -> for all the instances, the value remains the same\n",
    "# common thing between all the instances"
   ]
  },
  {
   "cell_type": "code",
   "execution_count": null,
   "metadata": {},
   "outputs": [
    {
     "name": "stdout",
     "output_type": "stream",
     "text": [
      "12.56\n",
      "3.14\n",
      "3.14\n"
     ]
    }
   ],
   "source": [
    "# Class variable - for all the instance value remains same\n",
    "# instance variable -> for each instance value is different\n",
    "\n",
    "class Circle:\n",
    "    # Class variable\n",
    "    pi = 3.14\n",
    "\n",
    "    def __init__(self, radius):\n",
    "        # instance variable\n",
    "        self.radius = radius\n",
    "\n",
    "    def calculate_area(self):\n",
    "        return Circle.pi * self.radius ** 2 # or self.pi\n",
    "\n",
    "\n",
    "c1 = Circle(2)\n",
    "c2 = Circle(4)\n",
    "\n",
    "print(c1.calculate_area())\n",
    "print(c2.pi)\n",
    "print(Circle.pi)\n"
   ]
  },
  {
   "cell_type": "code",
   "execution_count": null,
   "metadata": {},
   "outputs": [],
   "source": [
    "# purely for calculation purposes (not modifying self / instance) -> do not need access to self\n",
    "# if you're modifying an instance variable -> cannot use static methods\n",
    "# ask yourself: can method be kept outside of class? if yes -> static\n",
    "# if you want access to self -> use normal instance method\n",
    "\n",
    "# Choice between the two:\n",
    "# Do you need self ?\n",
    "# Yes -> instance method\n",
    "# No -> static method\n",
    "\n",
    "# static methods do not require objects\n",
    "# instance methods requires objects"
   ]
  },
  {
   "cell_type": "code",
   "execution_count": null,
   "metadata": {},
   "outputs": [],
   "source": [
    "# Class method -> gives you access to class\n",
    "# self -> refers to instance\n",
    "# cls -> refers to class"
   ]
  },
  {
   "cell_type": "markdown",
   "metadata": {},
   "source": [
    "## Task 1.5\n",
    "- interest_rate 2%\n",
    "- One year is done\n",
    "\n",
    "```py\n",
    "chelo.apply_interest()\n",
    "diyali.apply_interest()\n",
    "jevan.apply_interest()\n",
    "\n",
    "print(chelo.display_balance())\n",
    "print(diyali.display_balance())\n",
    "print(jevan.display_balance())\n",
    "\n",
    "```"
   ]
  },
  {
   "cell_type": "code",
   "execution_count": null,
   "metadata": {},
   "outputs": [
    {
     "name": "stdout",
     "output_type": "stream",
     "text": [
      "Your balance is: R102,000.00\n",
      "Your balance is: R61,200.00\n",
      "Your balance is: R816,000.00\n"
     ]
    }
   ],
   "source": [
    "# create class variable (interest rate) - it remains the same for all instances\n",
    "\n",
    "class Bank:\n",
    "    interest_rate = 0.02\n",
    "\n",
    "    def __init__(self, acc_no, name, balance):\n",
    "        self.acc_no = acc_no\n",
    "        self.name = name\n",
    "        self.balance = balance\n",
    "\n",
    "    def display_balance(self):\n",
    "        return f\"Your balance is: R{self.balance:,.2f}\"\n",
    "\n",
    "    def withdraw(self, amount):\n",
    "        if self.balance > amount:\n",
    "            self.balance -= amount\n",
    "            print(f\"Success. Your balance is: R{self.balance:,.2f}\")\n",
    "        else:\n",
    "            print(\n",
    "                f\"Your balance is insufficient. Your balance is: R{self.balance:,.2f}\"\n",
    "            )\n",
    "\n",
    "    def deposit(self, amount):\n",
    "        self.balance += amount\n",
    "        return f\"Successfully deposited. {self.display_balance()}\"\n",
    "\n",
    "    def apply_interest(self):\n",
    "        self.balance += self.balance * Bank.interest_rate\n",
    "        return self.display_balance\n",
    "\n",
    "diyali = Bank(\"1436289\", \"diyali devraj\", 60_000)\n",
    "chleo = Bank(\"1934567\", \"chleo smith\", 100_000)\n",
    "jevan = Bank(\"1239087\", \"jevan peters\", 800_000)\n",
    "\n",
    "chleo.apply_interest()\n",
    "diyali.apply_interest()\n",
    "jevan.apply_interest()\n",
    "\n",
    "print(chleo.display_balance())\n",
    "print(diyali.display_balance())\n",
    "print(jevan.display_balance())\n"
   ]
  },
  {
   "cell_type": "markdown",
   "metadata": {},
   "source": [
    "## Task 1.6\n",
    "\n",
    "```py\n",
    "Bank.update_interest_rate(4) # 4%\n",
    "```"
   ]
  },
  {
   "cell_type": "code",
   "execution_count": null,
   "metadata": {},
   "outputs": [
    {
     "data": {
      "text/plain": [
       "'Interest rate is now: 4'"
      ]
     },
     "execution_count": 56,
     "metadata": {},
     "output_type": "execute_result"
    }
   ],
   "source": [
    "class Bank:\n",
    "    interest_rate = 0.02\n",
    "\n",
    "    def __init__(self, acc_no, name, balance):\n",
    "        self.acc_no = acc_no\n",
    "        self.name = name\n",
    "        self.balance = balance\n",
    "\n",
    "    def display_balance(self):\n",
    "        return f\"Your balance is: R{self.balance:,.2f}\"\n",
    "\n",
    "    def withdraw(self, amount):\n",
    "        if self.balance > amount:\n",
    "            self.balance -= amount\n",
    "            print(f\"Success. Your balance is: R{self.balance:,.2f}\")\n",
    "        else:\n",
    "            print(\n",
    "                f\"Your balance is insufficient. Your balance is: R{self.balance:,.2f}\"\n",
    "            )\n",
    "\n",
    "    def deposit(self, amount):\n",
    "        self.balance += amount\n",
    "        return f\"Successfully deposited. {self.display_balance()}\"\n",
    "\n",
    "    def apply_interest(self):\n",
    "        self.balance += self.balance * Bank.interest_rate\n",
    "        return self.display_balance\n",
    "\n",
    "    @classmethod\n",
    "    def update_interest_rate(cls, new_interest):\n",
    "        if 0 < new_interest < 100: # negative scenarios first\n",
    "            cls.interest_rate = new_interest/100\n",
    "            return f\"Interest rate is now: {cls.interest_rate * 100:.0f}\"\n",
    "        else:\n",
    "            return f\"Invalid rate\"\n",
    "\n",
    "diyali = Bank(\"1436289\", \"diyali devraj\", 60_000)\n",
    "chleo = Bank(\"1934567\", \"chleo smith\", 100_000)\n",
    "jevan = Bank(\"1239087\", \"jevan peters\", 800_000)\n",
    "\n",
    "Bank.update_interest_rate(4)  # 4%\n"
   ]
  },
  {
   "cell_type": "markdown",
   "metadata": {},
   "source": [
    "## Task 1.7\n",
    "\n",
    "```py\n",
    "print(Bank.get_total_no_accounts())  # In total we have 3 accounts\n",
    "```"
   ]
  },
  {
   "cell_type": "code",
   "execution_count": 4,
   "metadata": {},
   "outputs": [
    {
     "name": "stdout",
     "output_type": "stream",
     "text": [
      "In total, we have 3 accounts\n"
     ]
    }
   ],
   "source": [
    "# When an object or instance is created, init will be called\n",
    "\n",
    "class Bank:\n",
    "    interest_rate = 0.02\n",
    "\n",
    "    no_of_accounts = 0\n",
    "\n",
    "    def __init__(self, acc_no, name, balance):\n",
    "        self.acc_no = acc_no\n",
    "        self.name = name\n",
    "        self.balance = balance\n",
    "        Bank.no_of_accounts += 1\n",
    "\n",
    "    def display_balance(self):\n",
    "        return f\"Your balance is: R{self.balance:,.2f}\"\n",
    "\n",
    "    def withdraw(self, amount):\n",
    "        if self.balance > amount:\n",
    "            self.balance -= amount\n",
    "            print(f\"Success. Your balance is: R{self.balance:,.2f}\")\n",
    "        else:\n",
    "            print(\n",
    "                f\"Your balance is insufficient. Your balance is: R{self.balance:,.2f}\"\n",
    "            )\n",
    "\n",
    "    def deposit(self, amount):\n",
    "        self.balance += amount\n",
    "        return f\"Successfully deposited. {self.display_balance()}\"\n",
    "\n",
    "    def apply_interest(self):\n",
    "        self.balance += self.balance * Bank.interest_rate\n",
    "        return self.display_balance\n",
    "\n",
    "    @classmethod\n",
    "    def update_interest_rate(cls, new_interest):\n",
    "        if 0 < new_interest < 100:\n",
    "            cls.interest_rate = new_interest / 100\n",
    "            return f\"Interest rate is now: {cls.interest_rate * 100:.0f}\"\n",
    "        else:\n",
    "            return f\"Invalid rate\"\n",
    "\n",
    "    @classmethod\n",
    "    def get_total_no_acccounts(cls):\n",
    "        return f\"In total, we have {Bank.no_of_accounts} accounts\"\n",
    "\n",
    "\n",
    "\n",
    "diyali = Bank(\"1436289\", \"diyali devraj\", 60_000)\n",
    "chleo = Bank(\"1934567\", \"chleo smith\", 100_000)\n",
    "jevan = Bank(\"1239087\", \"jevan peters\", 800_000)\n",
    "\n",
    "print(Bank.get_total_no_acccounts())\n"
   ]
  },
  {
   "cell_type": "code",
   "execution_count": null,
   "metadata": {},
   "outputs": [],
   "source": [
    "# 3. Inheritance\n",
    "\n",
    "# Similar to lexical scope\n",
    "# if base class and child class has same parameter -> don't need to declare it again\n",
    "# child class can access base class methods, BUT base class can't access child class methods\n",
    "\n",
    "# 4. Polymorphism\n",
    "# behaves differently based on the context\n",
    "# in class Animal, speak() returns 'Some sound'\n",
    "# in class Dog, speak() returns 'Woof Woof'\n",
    "# Method Overriding is a method of polymorphism\n"
   ]
  },
  {
   "cell_type": "code",
   "execution_count": null,
   "metadata": {},
   "outputs": [],
   "source": [
    "# want to add speed variable (need to re-initialise init method)\n",
    "# to access animal -> name, use super().__init__(name)\n",
    "# if more arguments are coming from Animal -> super().__init__(name, speed, age, etc)\n",
    "# super() -> refers to parent (Animal)\n",
    "# Why do we need super?\n",
    "# If we adding more parameters to Dog class, name isn't automatic anymore, we have to manually define name in __init__"
   ]
  },
  {
   "cell_type": "code",
   "execution_count": null,
   "metadata": {},
   "outputs": [
    {
     "name": "stdout",
     "output_type": "stream",
     "text": [
      "There are 3\n"
     ]
    }
   ],
   "source": [
    "class Bank:\n",
    "    interest_rate = 0.02\n",
    "    no_of_accounts = 0\n",
    "\n",
    "    def __init__(self, acc_no, name, balance):\n",
    "        self.acc_no = acc_no\n",
    "        self.name = name\n",
    "        self.balance = balance\n",
    "        Bank.no_of_accounts += 1\n",
    "\n",
    "    def display_balance(self):\n",
    "        return f\"Your balance is: R{self.balance:,.2f}\"\n",
    "\n",
    "    def withdraw(self, amount):\n",
    "        if self.balance > amount:\n",
    "            self.balance -= amount\n",
    "            print(f\"Success. Your balance is: R{self.balance:,.2f}\")\n",
    "        else:\n",
    "            print(\n",
    "                f\"Your balance is insufficient. Your balance is: R{self.balance:,.2f}\"\n",
    "            )\n",
    "\n",
    "    def deposit(self, amount):\n",
    "        self.balance += amount\n",
    "        return f\"Successfully deposited. {self.display_balance()}\"\n",
    "\n",
    "    def apply_interest(self):\n",
    "        self.balance += self.balance * Bank.interest_rate\n",
    "        return self.display_balance\n",
    "\n",
    "    @classmethod\n",
    "    def update_interest_rate(cls, new_interest):\n",
    "        if 0 < new_interest < 100:\n",
    "            cls.interest_rate = new_interest / 100\n",
    "            return f\"Interest rate is now: {cls.interest_rate * 100:.0f}\"\n",
    "        else:\n",
    "            return f\"Invalid rate\"\n",
    "\n",
    "    @staticmethod\n",
    "    def get_total_no_acccounts():\n",
    "        return f\"There are {Bank.no_of_accounts} accounts.\"\n",
    "\n",
    "diyali = Bank(\"1436289\", \"diyali devraj\", 60_000)\n",
    "chleo = Bank(\"1934567\", \"chleo smith\", 100_000)\n",
    "jevan = Bank(\"1239087\", \"jevan peters\", 800_000)\n",
    "\n",
    "print(Bank.get_total_no_acccounts())\n"
   ]
  },
  {
   "cell_type": "markdown",
   "metadata": {},
   "source": [
    "## Task 1.8 & Task 1.9\n",
    "1.  SavingsAccount - 5%\n",
    "2.  CheckingAccount - R1 - transaction fee, Interest rate does not change\n",
    "\n",
    "```py\n",
    "chelo = SavingsAccount(123, \"Chleo Smith\", 100_000)\n",
    "diyali = Bank(124, \"Diyali Devraj\", 60_000)  \n",
    "```"
   ]
  },
  {
   "cell_type": "code",
   "execution_count": null,
   "metadata": {},
   "outputs": [
    {
     "name": "stdout",
     "output_type": "stream",
     "text": [
      "<bound method Bank.display_balance of <__main__.Bank object at 0x0000013947AA56D0>>\n",
      "Interest Applied. Your balance is: R61,200.00\n"
     ]
    }
   ],
   "source": [
    "class Bank:\n",
    "    interest_rate = 0.02\n",
    "    no_of_accounts = 0\n",
    "\n",
    "    def __init__(self, acc_no, name, balance):\n",
    "        self.acc_no = acc_no\n",
    "        self.name = name\n",
    "        self.balance = balance\n",
    "        Bank.no_of_accounts += 1\n",
    "\n",
    "    def display_balance(self):\n",
    "        return f\"Your balance is: R{self.balance:,.2f}\"\n",
    "\n",
    "    def withdraw(self, amount):\n",
    "        if self.balance > amount:\n",
    "            self.balance -= amount\n",
    "            print(f\"Success. Your balance is: R{self.balance:,.2f}\")\n",
    "        else:\n",
    "            print(\n",
    "                f\"Your balance is insufficient. Your balance is: R{self.balance:,.2f}\"\n",
    "            )\n",
    "\n",
    "    def deposit(self, amount):\n",
    "        self.balance += amount\n",
    "        return f\"Successfully deposited. {self.display_balance()}\"\n",
    "\n",
    "    def apply_interest(self):\n",
    "        self.balance += self.balance * self.interest_rate # change to self\n",
    "        return f\"Interest Applied. {self.display_balance()}\"\n",
    "\n",
    "    @classmethod\n",
    "    def update_interest_rate(cls, new_interest):\n",
    "        if 0 < new_interest < 100:\n",
    "            cls.interest_rate = new_interest / 100\n",
    "            return f\"Interest rate is now: {cls.interest_rate * 100:.0f}\"\n",
    "        else:\n",
    "            return f\"Invalid rate\"\n",
    "\n",
    "    @staticmethod\n",
    "    def get_total_no_acccounts():\n",
    "        return f\"There are {Bank.no_of_accounts} accounts.\"\n",
    "\n",
    "\n",
    "class SavingsAccount(Bank):\n",
    "    interest_rate = 0.05 # will override class variable in bank\n",
    "\n",
    "# not needed because we not adding new variables\n",
    "    # def __init__(self, acc_no, name, balance):\n",
    "    #     super().__init__(acc_no, name, balance)\n",
    "\n",
    "    # def apply_interest(self):\n",
    "    #     self.balance += self.balance * SavingsAccount.interest_rate\n",
    "    #     return f\"Interest Applied. {self.display_balance()}\"\n",
    "\n",
    "chelo = SavingsAccount(123, \"Chleo Smith\", 100_000)\n",
    "diyali = Bank(124, \"Diyali Devraj\", 60_000)\n",
    "\n",
    "print(chleo.apply_interest())\n",
    "print(diyali.apply_interest())\n"
   ]
  },
  {
   "cell_type": "code",
   "execution_count": null,
   "metadata": {},
   "outputs": [
    {
     "name": "stdout",
     "output_type": "stream",
     "text": [
      "Success. Your balance is: R48,999.00\n"
     ]
    }
   ],
   "source": [
    "class Bank:\n",
    "    interest_rate = 0.02\n",
    "    no_of_accounts = 0\n",
    "\n",
    "    def __init__(self, acc_no, name, balance):\n",
    "        self.acc_no = acc_no\n",
    "        self.name = name\n",
    "        self.balance = balance\n",
    "        Bank.no_of_accounts += 1\n",
    "\n",
    "    def display_balance(self):\n",
    "        return f\"Your balance is: R{self.balance:,.2f}\"\n",
    "\n",
    "    def withdraw(self, amount):\n",
    "        if self.balance > amount:\n",
    "            self.balance -= amount\n",
    "            print(f\"Success. Your balance is: R{self.balance:,.2f}\")\n",
    "        else:\n",
    "            print(\n",
    "                f\"Your balance is insufficient. Your balance is: R{self.balance:,.2f}\"\n",
    "            )\n",
    "\n",
    "    def deposit(self, amount):\n",
    "        self.balance += amount\n",
    "        return f\"Successfully deposited. {self.display_balance()}\"\n",
    "\n",
    "    def apply_interest(self):\n",
    "        self.balance += self.balance * self.interest_rate  # change to self\n",
    "        return f\"Interest Applied. {self.display_balance()}\"\n",
    "\n",
    "    @classmethod\n",
    "    def update_interest_rate(cls, new_interest):\n",
    "        if 0 < new_interest < 100:\n",
    "            cls.interest_rate = new_interest / 100\n",
    "            return f\"Interest rate is now: {cls.interest_rate * 100:.0f}\"\n",
    "        else:\n",
    "            return f\"Invalid rate\"\n",
    "\n",
    "    @staticmethod\n",
    "    def get_total_no_acccounts():\n",
    "        return f\"There are {Bank.no_of_accounts} accounts.\"\n",
    "\n",
    "\n",
    "class SavingsAccount(Bank):\n",
    "    interest_rate = 0.05  # will override class variable in bank\n",
    "\n",
    "class CheckingAccount(Bank):\n",
    "    transaction_fee = 1\n",
    "\n",
    "    def withdraw(self, amount):\n",
    "        amount += self.transaction_fee\n",
    "        return super().withdraw(amount)\n",
    "\n",
    "\n",
    "anita = CheckingAccount(123, \"Chleo Smith\", 50_000)\n",
    "anita.withdraw(1000)  # Balance -> 48,999\n"
   ]
  }
 ],
 "metadata": {
  "kernelspec": {
   "display_name": ".venv",
   "language": "python",
   "name": "python3"
  },
  "language_info": {
   "codemirror_mode": {
    "name": "ipython",
    "version": 3
   },
   "file_extension": ".py",
   "mimetype": "text/x-python",
   "name": "python",
   "nbconvert_exporter": "python",
   "pygments_lexer": "ipython3",
   "version": "3.13.2"
  }
 },
 "nbformat": 4,
 "nbformat_minor": 2
}
