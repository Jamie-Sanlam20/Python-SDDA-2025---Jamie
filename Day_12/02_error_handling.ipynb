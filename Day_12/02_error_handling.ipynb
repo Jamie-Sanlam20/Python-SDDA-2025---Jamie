{
 "cells": [
  {
   "cell_type": "code",
   "execution_count": null,
   "metadata": {},
   "outputs": [],
   "source": [
    "# Handle errors more elegantly"
   ]
  },
  {
   "cell_type": "code",
   "execution_count": null,
   "metadata": {},
   "outputs": [],
   "source": [
    "# Exception Handling\n",
    "\n",
    "# Surround the line that's likely (not guaranteed an error, depends on values given) to get an error with: try and except\n",
    "# try: this, except: if anything bad happens, do this\n",
    "# any error happens -> it will go to the except block\n",
    "# also an issue -> we want to go to except block only for certain issues (execution Error)\n",
    "\n",
    "# will catch all the errors, you have to be specific about what errors you want to catch\n",
    "\n",
    "# modify ZeroDivisionError -> to make the message look nicer\n"
   ]
  },
  {
   "cell_type": "code",
   "execution_count": null,
   "metadata": {},
   "outputs": [],
   "source": [
    "# When an error happens, it will come in except block\n",
    "# No error -> displays else\n",
    "# finally will ALWAYS be displayed"
   ]
  },
  {
   "cell_type": "code",
   "execution_count": 6,
   "metadata": {},
   "outputs": [
    {
     "data": {
      "text/plain": [
       "'Your age is 25'"
      ]
     },
     "execution_count": 6,
     "metadata": {},
     "output_type": "execute_result"
    }
   ],
   "source": [
    "# Task 1.1\n",
    "# Please tell me your year of birth 2000\n",
    "# Your age is 25\n",
    "\n",
    "from datetime import datetime\n",
    "\n",
    "def calculate_age():\n",
    "    current_year = datetime.now().year\n",
    "    birth_year = int(input(\"Please provide your birth year: \"))\n",
    "    return f\"Your age is {current_year - birth_year}\"\n",
    "\n",
    "\n",
    "\n",
    "# Task 1.2\n",
    "# Handling Error\n",
    "\n",
    "calculate_age()"
   ]
  },
  {
   "cell_type": "code",
   "execution_count": null,
   "metadata": {},
   "outputs": [
    {
     "name": "stdout",
     "output_type": "stream",
     "text": [
      "Your age is 25\n"
     ]
    },
    {
     "data": {
      "text/plain": [
       "'Operation complete ✅'"
      ]
     },
     "execution_count": 10,
     "metadata": {},
     "output_type": "execute_result"
    }
   ],
   "source": [
    "# Task 1.2\n",
    "# Handling Error\n",
    "\n",
    "# ValueError -> you inputting a string, and it cannot be converted into a normal integer\n",
    "\n",
    "from datetime import datetime\n",
    "\n",
    "\n",
    "def calculate_age():\n",
    "    current_year = datetime.now().year\n",
    "    try:\n",
    "        birth_year = int(input(\"Please provide your birth year: \"))\n",
    "        print(f\"Your age is {current_year - birth_year}\")\n",
    "    except ValueError:\n",
    "        print(\"The birth year cannot be letters ❌ - only numbers 🔢\")\n",
    "    else:\n",
    "        print(f\"Age calculated.\")\n",
    "    finally:\n",
    "        print(f\"Operation complete ✅\")\n",
    "\n",
    "calculate_age()\n"
   ]
  },
  {
   "cell_type": "markdown",
   "metadata": {},
   "source": [
    "### Business Logical Error\n",
    "`raise` -> Intentially throwing error - Because it goes against business logic"
   ]
  },
  {
   "cell_type": "code",
   "execution_count": null,
   "metadata": {},
   "outputs": [
    {
     "name": "stdout",
     "output_type": "stream",
     "text": [
      "Invalid ❌: Year cannot be negative\n"
     ]
    }
   ],
   "source": [
    "from datetime import datetime\n",
    "\n",
    "\n",
    "def calculate_age():\n",
    "    current_year = datetime.now().year\n",
    "    try:\n",
    "        birth_year = int(input(\"Please provide your birth year: \"))\n",
    "        # creating error\n",
    "        if birth_year < 0:\n",
    "            raise ValueError(\"Year cannot be negative\")\n",
    "        elif birth_year > current_year:\n",
    "            raise ValueError(\"You're not flash from the future 🚀\")\n",
    "    except ValueError as err:\n",
    "        print(f\"Invalid ❌: {err}\") # handling error\n",
    "    else:\n",
    "        print(f\"Your age is {current_year - birth_year}\")\n",
    "\n",
    "\n",
    "calculate_age()\n"
   ]
  },
  {
   "cell_type": "code",
   "execution_count": null,
   "metadata": {},
   "outputs": [],
   "source": [
    "# error handling is shielding code\n",
    "\n",
    "# Exception is a base class of ALL errors (any error that may occur)\n",
    "# Keep Exception error last (if everything else fails -> it will show)\n",
    "# it's equivalent to 'else' (last) -> in if, elif, else"
   ]
  },
  {
   "cell_type": "markdown",
   "metadata": {},
   "source": [
    "### 3 types of errors:\n",
    "Syntax error -> Developer code error\n",
    "Logical error -> Depends on the business scenario (what is a logical error for them) \n",
    "Runtime error -> Value Error -> User input cannot be converted\n",
    "\n",
    "When an error happens -> all the below lines will be skipped -> until error handling (except block)"
   ]
  },
  {
   "cell_type": "code",
   "execution_count": null,
   "metadata": {},
   "outputs": [],
   "source": [
    "# NegativeNumberError only accepts values\n",
    "# point is to not have to type out the error message repeatedly\n",
    "# how did it happen ? -> passing self.message into base class"
   ]
  }
 ],
 "metadata": {
  "kernelspec": {
   "display_name": ".venv",
   "language": "python",
   "name": "python3"
  },
  "language_info": {
   "codemirror_mode": {
    "name": "ipython",
    "version": 3
   },
   "file_extension": ".py",
   "mimetype": "text/x-python",
   "name": "python",
   "nbconvert_exporter": "python",
   "pygments_lexer": "ipython3",
   "version": "3.13.2"
  }
 },
 "nbformat": 4,
 "nbformat_minor": 2
}
