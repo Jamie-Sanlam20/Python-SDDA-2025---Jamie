{
 "cells": [
  {
   "cell_type": "markdown",
   "metadata": {},
   "source": [
    "## Access modifiers"
   ]
  },
  {
   "cell_type": "code",
   "execution_count": null,
   "metadata": {},
   "outputs": [],
   "source": [
    "# we should not allow users to change the values -> give them a method that will allow them to change it\n",
    "# how can we control this ? -> make variables private -> cannot be changed from the outside\n",
    "    # if you make a variable private (name) -> can no longer access variable in the child class -> only instance methods\n",
    "    # only accessible in animal class\n",
    "# single _ -> protected -> cannot be accessed outside; but child class inherits it (can access it)\n",
    "\n",
    "# Summary\n",
    "# Private -> can only be accessed by base / parent class\n",
    "# Protected -> can be accessed by parent and child class (not from the outside)\n"
   ]
  },
  {
   "cell_type": "code",
   "execution_count": null,
   "metadata": {},
   "outputs": [],
   "source": [
    "# Base / Parent Class\n",
    "class Animal:\n",
    "    def __init__(self, name, height):\n",
    "        # Private variable -> double __ -> Only in Animal\n",
    "        self.__name = name\n",
    "        # Protected variable -> Accessible in Animal & Dog\n",
    "        self.height = height\n",
    "\n",
    "    def speak(self):\n",
    "        return \"Some sound\"\n",
    "\n",
    "\n",
    "# Private variables are not inherited\n",
    "# Child Class\n",
    "class Dog(Animal):\n",
    "    def __init__(self, name, height, speed):\n",
    "        super().__init__(name, height)  # super() -> Animal (takes care of name)\n",
    "        self.speed = speed\n",
    "\n",
    "    # eg: Method Overriding: Functionality of Base class is overridden\n",
    "    def speak(self):\n",
    "        return \"Woof Woof!! 🐕\"\n",
    "\n",
    "    def run(self):\n",
    "        return \"🐶 wags tails!! 🐕\"\n",
    "\n",
    "    def tall(self):\n",
    "        return f\"She is {self._height}cm tall\" # ✅\n",
    "\n",
    "    def speed_bonus(self):\n",
    "        return f\"Running at {self.speed * 2}Km/hr\"\n",
    "\n",
    "\n",
    "toby = Animal(\"toby\")  # speak\n",
    "maxy = Dog(\"maxy\", 20)  # speak, run\n",
    "\n",
    "\n",
    "print(toby.speak())\n",
    "print(maxy.speak())\n",
    "maxy.run()\n",
    "\n",
    "# toby.run() ❌\n",
    "# toby.speed ❌\n",
    "print(maxy.speed)\n",
    "print(maxy.speed_bonus())\n"
   ]
  },
  {
   "cell_type": "code",
   "execution_count": null,
   "metadata": {},
   "outputs": [],
   "source": [
    "# __str__() -> Dunder methods\n",
    "# double underscore fron and back\n",
    "# Python automatically creates methods when we create a class (i.e., str())\n",
    "# These methods can be overriden\n",
    "\n",
    "# Good practice: Documentation for methods -> seen when you hover over\n",
    "# Magic methods :: __str__() -> improves UX, __repr__() --> improves DX\n",
    "# __repr__() -> helps you to access or print all of the information instead of printing instance.variable\n",
    "# assists with debugging\n",
    "\n",
    "# __add__ -> automatically picks up + --> dunder method\n"
   ]
  },
  {
   "cell_type": "code",
   "execution_count": null,
   "metadata": {},
   "outputs": [],
   "source": [
    "y = list(\"abcd\")\n",
    "\n",
    "# 'list' is a class\n",
    "# list, sets, tuples, etc. are all classes\n",
    "\n",
    "# Don't use dunder methods inside list\n",
    "# Reason: Implementation might change (internal/private methods)\n",
    "\n",
    "dir(y) # will list all dunder and other methods"
   ]
  }
 ],
 "metadata": {
  "kernelspec": {
   "display_name": ".venv",
   "language": "python",
   "name": "python3"
  },
  "language_info": {
   "name": "python",
   "version": "3.13.2"
  }
 },
 "nbformat": 4,
 "nbformat_minor": 2
}
