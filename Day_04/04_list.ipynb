{
 "cells": [
  {
   "cell_type": "markdown",
   "metadata": {},
   "source": [
    "# Intro List \n",
    "- Non-primative datatype (because it holds > 1 value)\n",
    "  - Primiative datatypes (strings) holds only 1 value\n",
    "- Holds multiple values\n",
    "- Same datatypes in a list (Recommended)\n",
    "- Mixing datatypes allowed (but don't ❌)\n",
    "- Methods\n",
    "  - Create - marks = [80, 90, 70, 45, 95] \n",
    "  - Read - index & slice \n",
    "  - Update - index (mutates), append, insert \n",
    "  - Delete - remove, pop\n"
   ]
  },
  {
   "cell_type": "code",
   "execution_count": 1,
   "metadata": {},
   "outputs": [
    {
     "name": "stdout",
     "output_type": "stream",
     "text": [
      "[80, 90, 70, 45, 95] <class 'list'>\n"
     ]
    }
   ],
   "source": [
    "marks = [80, 90, 70, 45, 95] # array (in other languages) or list (py) of numbers\n",
    "print(marks, type(marks)) # type output = <class 'list'>"
   ]
  },
  {
   "cell_type": "markdown",
   "metadata": {},
   "source": [
    "## Index\n",
    "- can use:\n",
    "  - positive values\n",
    "  - negative values"
   ]
  },
  {
   "cell_type": "code",
   "execution_count": 2,
   "metadata": {},
   "outputs": [
    {
     "name": "stdout",
     "output_type": "stream",
     "text": [
      "70\n"
     ]
    }
   ],
   "source": [
    "marks = [80, 90, 70, 45, 95]\n",
    "print(marks[2])\n"
   ]
  },
  {
   "cell_type": "code",
   "execution_count": 3,
   "metadata": {},
   "outputs": [
    {
     "name": "stdout",
     "output_type": "stream",
     "text": [
      "95\n",
      "95\n"
     ]
    }
   ],
   "source": [
    "print(marks[4])\n",
    "print(marks[-1])"
   ]
  },
  {
   "cell_type": "markdown",
   "metadata": {},
   "source": [
    "## Slice"
   ]
  },
  {
   "cell_type": "code",
   "execution_count": 4,
   "metadata": {},
   "outputs": [
    {
     "name": "stdout",
     "output_type": "stream",
     "text": [
      "[90, 70, 45, 95]\n",
      "[90, 70, 45, 95]\n",
      "[95, 45, 70, 90, 80]\n"
     ]
    }
   ],
   "source": [
    "print(marks[1:5]) # not necessary to add end value\n",
    "print(marks[1:])\n",
    "print(marks[::-1]) # print in reverse"
   ]
  },
  {
   "cell_type": "markdown",
   "metadata": {},
   "source": [
    "## Joining lists (Concatenation)"
   ]
  },
  {
   "cell_type": "code",
   "execution_count": 5,
   "metadata": {},
   "outputs": [
    {
     "name": "stdout",
     "output_type": "stream",
     "text": [
      "['🍎', '🍊', '🍓', '🍍', '🥕', '🥒', '🍆', '🥔']\n"
     ]
    },
    {
     "data": {
      "text/plain": [
       "['🍎', '🍊', '🍓', '🍍', '🥕', '🥒', '🍆', '🥔']"
      ]
     },
     "execution_count": 5,
     "metadata": {},
     "output_type": "execute_result"
    }
   ],
   "source": [
    "fruits = [\"🍎\", \"🍊\", \"🍓\", \"🍍\"]\n",
    "vegetables = [\"🥕\", \"🥒\", \"🍆\", \"🥔\"]\n",
    "\n",
    "print(fruits + vegetables) # don't have to write print on last line in notebook\n",
    "fruits + vegetables"
   ]
  },
  {
   "cell_type": "markdown",
   "metadata": {},
   "source": [
    "## Repitition operator (*)"
   ]
  },
  {
   "cell_type": "code",
   "execution_count": 6,
   "metadata": {},
   "outputs": [
    {
     "name": "stdout",
     "output_type": "stream",
     "text": [
      "['🥕', '🥒', '🍆', '🥔', '🥕', '🥒', '🍆', '🥔']\n"
     ]
    },
    {
     "data": {
      "text/plain": [
       "'💓💓'"
      ]
     },
     "execution_count": 6,
     "metadata": {},
     "output_type": "execute_result"
    }
   ],
   "source": [
    "print(vegetables * 2)\n",
    "\"💓\" * 2 # similar output"
   ]
  },
  {
   "cell_type": "markdown",
   "metadata": {},
   "source": [
    "## Counting items in list"
   ]
  },
  {
   "cell_type": "code",
   "execution_count": 7,
   "metadata": {},
   "outputs": [
    {
     "data": {
      "text/plain": [
       "4"
      ]
     },
     "execution_count": 7,
     "metadata": {},
     "output_type": "execute_result"
    }
   ],
   "source": [
    "vegetables = [\"Carrot 🥕\", \"🥒\", \"🍆\", \"🥔\"] # count elements in a list\n",
    "len(vegetables) # 4"
   ]
  },
  {
   "cell_type": "markdown",
   "metadata": {},
   "source": [
    "## Update list items (or replace)"
   ]
  },
  {
   "cell_type": "code",
   "execution_count": 8,
   "metadata": {},
   "outputs": [
    {
     "data": {
      "text/plain": [
       "['🍎', '🫐', '🍓', '🍍']"
      ]
     },
     "execution_count": 8,
     "metadata": {},
     "output_type": "execute_result"
    }
   ],
   "source": [
    "fruits = [\"🍎\", \"🍊\", \"🍓\", \"🍍\"]\n",
    "# Replace \"🍊\" -> \"🫐\"\n",
    "\n",
    "fruits[1] = \"🫐\" # Easy way\n",
    "# Immutable vs Mutable (Lists are mutable -> can be changed)\n",
    "\n",
    "fruits"
   ]
  },
  {
   "cell_type": "code",
   "execution_count": 9,
   "metadata": {},
   "outputs": [
    {
     "data": {
      "text/plain": [
       "['🍎', '🍌', '🍓', '🍍']"
      ]
     },
     "execution_count": 9,
     "metadata": {},
     "output_type": "execute_result"
    }
   ],
   "source": [
    "fruits = [\"🍎\", \"🍊\", \"🍓\", \"🍍\"]\n",
    "\n",
    "fruits[:1] + [\"🍌\"] + fruits[2:] # banana string has to be in [] to show list\n"
   ]
  },
  {
   "cell_type": "markdown",
   "metadata": {},
   "source": [
    "# Add\n",
    "- `append()` - add at the end\n",
    "- `insert()` - add at any position/middle"
   ]
  },
  {
   "cell_type": "code",
   "execution_count": 10,
   "metadata": {},
   "outputs": [
    {
     "data": {
      "text/plain": [
       "[80, 90, 70, 45, 95, 100]"
      ]
     },
     "execution_count": 10,
     "metadata": {},
     "output_type": "execute_result"
    }
   ],
   "source": [
    "marks = [80, 90, 70, 45, 95]\n",
    "marks.append(100) # adds to end of list\n",
    "marks"
   ]
  },
  {
   "cell_type": "code",
   "execution_count": 11,
   "metadata": {},
   "outputs": [
    {
     "data": {
      "text/plain": [
       "[80, 90, 55, 70, 45, 95]"
      ]
     },
     "execution_count": 11,
     "metadata": {},
     "output_type": "execute_result"
    }
   ],
   "source": [
    "marks = [80, 90, 70, 45, 95]\n",
    "marks.insert(2, 55)\n",
    "marks"
   ]
  },
  {
   "cell_type": "markdown",
   "metadata": {},
   "source": [
    "## Deleting items"
   ]
  },
  {
   "cell_type": "code",
   "execution_count": 12,
   "metadata": {},
   "outputs": [
    {
     "data": {
      "text/plain": [
       "['Hulk', 'Iron man', 'Black widow', 'Captain america', 'Spider man', 'Thor']"
      ]
     },
     "execution_count": 12,
     "metadata": {},
     "output_type": "execute_result"
    }
   ],
   "source": [
    "avengers = [\n",
    "    \"Hulk\",\n",
    "    \"Iron man\",\n",
    "    \"Black widow\",\n",
    "    \"Captain america\",\n",
    "    \"Spider man\",\n",
    "    \"Thor\",\n",
    "]\n",
    "avengers"
   ]
  },
  {
   "cell_type": "code",
   "execution_count": 13,
   "metadata": {},
   "outputs": [
    {
     "data": {
      "text/plain": [
       "['Hulk', 'Iron man', 'Captain america', 'Spider man', 'Thor']"
      ]
     },
     "execution_count": 13,
     "metadata": {},
     "output_type": "execute_result"
    }
   ],
   "source": [
    "avengers.pop(2) # removes black widow\n",
    "avengers"
   ]
  },
  {
   "cell_type": "code",
   "execution_count": 14,
   "metadata": {},
   "outputs": [
    {
     "data": {
      "text/plain": [
       "['Hulk', 'Iron man', 'Captain america', 'Thor']"
      ]
     },
     "execution_count": 14,
     "metadata": {},
     "output_type": "execute_result"
    }
   ],
   "source": [
    "avengers.remove(\"Spider man\") # Removes first occurrence\n",
    "avengers"
   ]
  },
  {
   "cell_type": "markdown",
   "metadata": {},
   "source": [
    "## Task \n",
    "Print each number in separate line\n",
    "\n",
    "for i in range(len(marks)):\n",
    "print(marks(i))"
   ]
  },
  {
   "cell_type": "code",
   "execution_count": 15,
   "metadata": {},
   "outputs": [
    {
     "name": "stdout",
     "output_type": "stream",
     "text": [
      "0 80\n",
      "1 90\n",
      "2 70\n",
      "3 45\n",
      "4 95\n"
     ]
    }
   ],
   "source": [
    "marks = [80, 90, 70, 45, 95]\n",
    "\n",
    "for i in range(5): # 5 == no of elements\n",
    "    print(i, marks[i]) # i prints index"
   ]
  },
  {
   "cell_type": "code",
   "execution_count": 16,
   "metadata": {},
   "outputs": [
    {
     "name": "stdout",
     "output_type": "stream",
     "text": [
      "0 80\n",
      "1 90\n",
      "2 70\n",
      "3 45\n",
      "4 95\n"
     ]
    }
   ],
   "source": [
    "marks = [80, 90, 70, 45, 95]\n",
    "\n",
    "for i in range(len(marks)):\n",
    "    print(i, marks[i])\n"
   ]
  },
  {
   "cell_type": "markdown",
   "metadata": {},
   "source": [
    "### Task 1.1\n",
    "Find the number letters in each characters name and stored in a new list\n",
    " \n",
    "```py\n",
    "avengers = [\n",
    "    \"Hulk\",\n",
    "    \"Iron man\",\n",
    "    \"Black widow\",\n",
    "    \"Captain america\",\n",
    "    \"Spider man\",\n",
    "    \"Thor\",\n",
    "]\n",
    "```\n",
    " \n",
    "Output\n",
    "[4, 8, 11, 15, 10, 4]"
   ]
  },
  {
   "cell_type": "code",
   "execution_count": 17,
   "metadata": {},
   "outputs": [
    {
     "name": "stdout",
     "output_type": "stream",
     "text": [
      "[4]\n",
      "[4, 8]\n",
      "[4, 8, 11]\n",
      "[4, 8, 11, 15]\n",
      "[4, 8, 11, 15, 10]\n",
      "[4, 8, 11, 15, 10, 4]\n"
     ]
    },
    {
     "data": {
      "text/plain": [
       "[4, 8, 11, 15, 10, 4]"
      ]
     },
     "execution_count": 17,
     "metadata": {},
     "output_type": "execute_result"
    }
   ],
   "source": [
    "avengers = [\n",
    "    \"Hulk\",\n",
    "    \"Iron man\",\n",
    "    \"Black widow\",\n",
    "    \"Captain america\",\n",
    "    \"Spider man\",\n",
    "    \"Thor\",\n",
    "]\n",
    "\n",
    "char_list = [] # create new list\n",
    "\n",
    "# Loop list & method\n",
    "for i in range(len(avengers)): # focus on length of words\n",
    "    char_list.append(len(avengers[i])) # index i is iterating through list / append adds at the end of the list\\\n",
    "    print(char_list) # make sure print statement is in for loop (if you want to see entire process, instead of ending)\n",
    "\n",
    "# without [i], it will count the number of items in the list, and not the characters in each item\n",
    "\n",
    "char_list"
   ]
  },
  {
   "cell_type": "markdown",
   "metadata": {},
   "source": [
    "### Task 1.2\n",
    " \n",
    "Find longer names more the 10 letters name and stored in a new list\n",
    " \n",
    "Output\n",
    "[\"Black widow\", \"Captain america\"]"
   ]
  },
  {
   "cell_type": "code",
   "execution_count": null,
   "metadata": {},
   "outputs": [
    {
     "data": {
      "text/plain": [
       "['Black widow', 'Captain america', 'Spider man']"
      ]
     },
     "execution_count": 18,
     "metadata": {},
     "output_type": "execute_result"
    }
   ],
   "source": [
    "avengers = [\n",
    "    \"Hulk\",\n",
    "    \"Iron man\",\n",
    "    \"Black widow\",\n",
    "    \"Captain america\",\n",
    "    \"Spider man\",\n",
    "    \"Thor\",\n",
    "]\n",
    "\n",
    "new_list = [] # create new list\n",
    "\n",
    "# to debug, print it out & see\n",
    "# to remove space avengers[i].replace(\" \", '') --> remove space, replace with no space\n",
    "\n",
    "for i in range(len(avengers)): # focus on number of characters\n",
    "    if (len(avengers[i]) >= 10):\n",
    "        new_list.append(avengers[i])\n",
    "\n",
    "new_list"
   ]
  },
  {
   "cell_type": "markdown",
   "metadata": {},
   "source": [
    "### Task 2.1\n",
    " \n",
    "Calculate the total of shopping_items & apply tax of 10%\n",
    " \n",
    "```py\n",
    "shopping_items = [1000, 5000,  4000, 2000, 3000]\n",
    "```\n",
    " \n",
    " \n",
    "Expected Output\n",
    " \n",
    "```\n",
    "Your total is R15000\n",
    "Tax is 10%      R1500\n",
    "Your grand total is R16500\n",
    "```"
   ]
  },
  {
   "cell_type": "code",
   "execution_count": 19,
   "metadata": {},
   "outputs": [
    {
     "name": "stdout",
     "output_type": "stream",
     "text": [
      "Your total is R15000\n",
      "Tax is 10%        R1500\n",
      "Your grand total is R16500\n"
     ]
    }
   ],
   "source": [
    "shopping_items = [1000, 5000,  4000, 2000, 3000]\n",
    "\n",
    "total = 0\n",
    "\n",
    "for i in range(len(shopping_items)):\n",
    "    total = shopping_items[i] + total\n",
    "\n",
    "tax = 0.1\n",
    "tax_amount = total * tax\n",
    "\n",
    "print(f\"Your total is R{total}\")\n",
    "print(f\"Tax is 10%        R{round(tax_amount)}\")\n",
    "print(f\"Your grand total is R{round(total + tax_amount)}\")\n"
   ]
  },
  {
   "cell_type": "code",
   "execution_count": null,
   "metadata": {},
   "outputs": [],
   "source": [
    "# Ragav answer\n",
    "\n",
    "# Notes:\n",
    "# always have print statements in loop (to check that everythig is working properly)\n",
    "# -> print(shopping_items[i]) before you start with the total statement\n",
    "# -> print(total) after total = ...\n",
    "# can remove it after you see that everything works\n",
    "\n",
    "# have grand_total = total + tax_amount as a variable to improve readability (DX)\n",
    "# keep decimal points (don't have to use round)\n",
    "\n",
    "shopping_items = [1000, 5000, 4000, 2000, 3000]\n",
    "total = 0\n",
    "tax = 0.1\n",
    "\n",
    "\n",
    "for idx in range(len(shopping_items)):\n",
    "    cost = shopping_items[idx]\n",
    "    # print(\"Before Total\", total)\n",
    "    total = total + cost\n",
    "    # print(\"Cost\", cost, \"After Total\", total)\n",
    "\n",
    "tax_amt = total * tax\n",
    "grand_total = total + tax_amt\n",
    "\n",
    "print(f\"Your total is R{total}\")\n",
    "print(f\"Tax is 10%   R{tax_amt}\")\n",
    "print(f\"Your grand total is R{grand_total}\")\n"
   ]
  },
  {
   "cell_type": "markdown",
   "metadata": {},
   "source": [
    "## Numeric seperators\n",
    "Improves DX (Developer Experience) ⬆️\n",
    "- Can easily read (improves readability)\n",
    "- When you have numbers, `use underscore`"
   ]
  },
  {
   "cell_type": "code",
   "execution_count": 21,
   "metadata": {},
   "outputs": [
    {
     "name": "stdout",
     "output_type": "stream",
     "text": [
      "10000000\n",
      "8000\n"
     ]
    }
   ],
   "source": [
    "x = 10000000 # difficult to read\n",
    "y = 10_000_000 # python will ignore underscores\n",
    "print(y)\n",
    "\n",
    "print(3_000 + 5_000)"
   ]
  },
  {
   "cell_type": "code",
   "execution_count": 22,
   "metadata": {},
   "outputs": [
    {
     "name": "stdout",
     "output_type": "stream",
     "text": [
      "(5, 600)\n"
     ]
    }
   ],
   "source": [
    "y = 5,600 # ❌ (Creates a Tuple)\n",
    "print (y) # Places it in a box"
   ]
  },
  {
   "cell_type": "markdown",
   "metadata": {},
   "source": [
    "## For loop with list\n",
    "1. for with index - When index & value is needed\n",
    "2. Simple for loop - Only when value is needed"
   ]
  },
  {
   "cell_type": "code",
   "execution_count": null,
   "metadata": {},
   "outputs": [
    {
     "name": "stdout",
     "output_type": "stream",
     "text": [
      "0 90 180\n",
      "1 80 160\n",
      "2 50 100\n",
      "3 65 130\n"
     ]
    }
   ],
   "source": [
    "# For with index\n",
    "\n",
    "powers = [90, 80, 50, 65]\n",
    "\n",
    "# can use any variable name, not just i\n",
    "\n",
    "for idx in range(len(powers)): # idx represents index because of range(len(powers)) -> accessing index\n",
    "    print(idx, powers[idx], powers[idx]*2) # doubles values"
   ]
  },
  {
   "cell_type": "code",
   "execution_count": null,
   "metadata": {},
   "outputs": [
    {
     "name": "stdout",
     "output_type": "stream",
     "text": [
      "90 180\n",
      "80 160\n",
      "50 100\n",
      "65 130\n"
     ]
    }
   ],
   "source": [
    "# Simple for loop\n",
    "\n",
    "powers = [90, 80, 50, 65]\n",
    "\n",
    "for power in powers: # variable 'power' now represents values, instead of index (i.e. idx)\n",
    "    print(power, power*2)\n"
   ]
  },
  {
   "cell_type": "markdown",
   "metadata": {},
   "source": [
    "## Task 2.2\n",
    "Refactor with Numeric separators & Simple for loop"
   ]
  },
  {
   "cell_type": "code",
   "execution_count": null,
   "metadata": {},
   "outputs": [
    {
     "name": "stdout",
     "output_type": "stream",
     "text": [
      "Your total is R15000\n",
      "Tax is 10%      R1500\n",
      "Your grand total is R16500\n"
     ]
    }
   ],
   "source": [
    "shopping_items = [1_000, 5_000, 4_000, 2_000, 3_000]\n",
    "\n",
    "total_shop = 0\n",
    "\n",
    "for item in shopping_items: # keep variable names in singular (item/s)\n",
    "    total_shop = item + total_shop\n",
    "\n",
    "tax = 0.1\n",
    "total_tax = total_shop * 0.1\n",
    "\n",
    "print(f\"Your total is R{total_shop}\")\n",
    "print(f\"Tax is 10%      R{round(total_tax)}\")\n",
    "print(f\"Your grand total is R{round(total_shop + total_tax)}\")"
   ]
  },
  {
   "cell_type": "code",
   "execution_count": null,
   "metadata": {},
   "outputs": [],
   "source": [
    "# Ragav answer\n",
    "\n",
    "shopping_items = [1_000, 5_000, 4_000, 2_000, 3_000] # Numeric seperators\n",
    "total = 0\n",
    "tax = 0.1\n",
    "\n",
    "# Simple for loop -> No range and len needed\n",
    "\n",
    "for cost in shopping_items:\n",
    "    # print(\"Before Total\", total)\n",
    "    total += cost # Total = total + cost (don't need it)\n",
    "    # print(\"Cost\", cost, \"After Total\", total)\n",
    "\n",
    "tax_amt = total * tax\n",
    "grand_total = total + tax_amt\n",
    "\n",
    "print(f\"Your total is R{total}\")\n",
    "print(f\"Tax is 10%   R{tax_amt}\")\n",
    "print(f\"Your grand total is R{grand_total}\")"
   ]
  }
 ],
 "metadata": {
  "kernelspec": {
   "display_name": ".venv",
   "language": "python",
   "name": "python3"
  },
  "language_info": {
   "codemirror_mode": {
    "name": "ipython",
    "version": 3
   },
   "file_extension": ".py",
   "mimetype": "text/x-python",
   "name": "python",
   "nbconvert_exporter": "python",
   "pygments_lexer": "ipython3",
   "version": "3.13.2"
  }
 },
 "nbformat": 4,
 "nbformat_minor": 2
}
