{
 "cells": [
  {
   "cell_type": "code",
   "execution_count": null,
   "metadata": {},
   "outputs": [],
   "source": [
    "from pprint import pprint\n",
    "\n",
    "# Task 1.1\n",
    "\n",
    "inventory = [\n",
    "    {\"name\": \"Apple 🍎\", \"quantity\": 30, \"price\": 0.50},\n",
    "    {\"name\": \"Banana 🍌\", \"quantity\": 20, \"price\": 0.20},\n",
    "]\n",
    "\n",
    "proceed = \"y\"\n",
    "\n",
    "while proceed == \"y\":\n",
    "    item_name = input(\"What is the product name?\")\n",
    "    item_qty = int(input(\"What is the quantity?\"))\n",
    "    item_price = float(input(\"What is the price?\"))\n",
    "\n",
    "    product = {\"name\": item_name, \"quantity\": item_qty, \"price\": item_price}\n",
    "    inventory.append(product)\n",
    "    print(product)\n",
    "    proceed = input(\"Would you like add another product? (Y/N)\").lower()\n",
    "\n",
    "pprint(f\"Updated Inventory: {inventory}\")"
   ]
  },
  {
   "cell_type": "code",
   "execution_count": null,
   "metadata": {},
   "outputs": [],
   "source": [
    "# Task 2\n",
    "\n",
    "inventory = [\n",
    "    {\"name\": \"\", \"quantity\": 30, \"price\": 0.50},\n",
    "    {\"name\": \"Banana 🍌\", \"quantity\": 20, \"price\": 0.20},\n",
    "]\n",
    "\n",
    "proceed = \"y\"\n",
    "\n",
    "while proceed == \"y\":\n",
    "    item_name = input(\"Enter product name to update: \")\n",
    "    item_qty = int(input(\"Enter additional quantity: \"))\n",
    "    item_price = float(input(\"Enter new price\"))\n",
    "\n",
    "    product_exists = False\n",
    "    for item in inventory:\n",
    "        if item['name'] == item_name:\n",
    "            item['quantity'] += item_qty\n",
    "            item['price'] = item_price\n",
    "            print(f\"Updated {item_name} successfully! 🎉\")\n",
    "            product_exists = True # updating product exists\n",
    "            break\n",
    "\n",
    "    if not product_exists:\n",
    "        print(f\"Product {item_name} not found in inventory\")\n",
    "\n",
    "    proceed = input(\"Would you like to update another product? (Y/N): \").lower()\n",
    "\n",
    "print(f\"Updated Inventory: {inventory}\")\n"
   ]
  },
  {
   "cell_type": "code",
   "execution_count": null,
   "metadata": {},
   "outputs": [],
   "source": [
    "# Task 3\n",
    "\n",
    "inventory = [\n",
    "    {\"name\": \"Apple 🍎\", \"quantity\": 70, \"price\": 0.4},\n",
    "    {\"name\": \"Banana 🍌\", \"quantity\": 20, \"price\": 0.2},\n",
    "]\n",
    "\n",
    "item_name = input(\"Enter product name: \")\n",
    "item_qty = int(input(\"Enter quantity: \"))\n",
    "item_price = float(input(\"Enter price: \"))\n",
    "\n",
    "for item in inventory:\n",
    "    if item['name'] == item_name:\n",
    "        item['quantity'] += item_qty\n",
    "        item['price'] = item_price\n",
    "        print(f\"Updated {item_name} successfully!🎉 \")\n",
    "        product_found = True\n",
    "        break\n",
    "\n",
    "else:\n",
    "    product = {\"name\": item_name, \"quantity\": item_qty, \"price\": item_price}\n",
    "    inventory.append(product)\n",
    "    print(f\"Added new product {item_name}!🎉 \")\n",
    "\n",
    "print(f\"Updated Inventory: {inventory}\")"
   ]
  }
 ],
 "metadata": {
  "kernelspec": {
   "display_name": ".venv",
   "language": "python",
   "name": "python3"
  },
  "language_info": {
   "codemirror_mode": {
    "name": "ipython",
    "version": 3
   },
   "file_extension": ".py",
   "mimetype": "text/x-python",
   "name": "python",
   "nbconvert_exporter": "python",
   "pygments_lexer": "ipython3",
   "version": "3.13.2"
  }
 },
 "nbformat": 4,
 "nbformat_minor": 2
}
