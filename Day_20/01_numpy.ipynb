{
 "cells": [
  {
   "cell_type": "markdown",
   "metadata": {},
   "source": [
    "## Data Analyst\n",
    "\n",
    "- job: get the data that data scientists ask for -> cleans data\n",
    "- mostly do  Visualisation (using Power BI) - only with current data (no predictions)\n",
    "\n",
    "- SQL -> queries data\n",
    "- POWER BI - transforms data into charts (dashboard) -> visually looks good\n",
    "- Insights - Charts\n",
    "- One shot Query\n",
    "\n",
    "## Data Scientist\n",
    "\n",
    "- data scientists also have to clean data \n",
    "  - analysts clean it to level 1, scientists clean it further.\n",
    "- uses insights to make predications.\n",
    "\n",
    "- creates predictive models using ML (machine learning).\n",
    "- main job: make predictions using insights from data analyst \n",
    "\n",
    "- Excel (limited in terms of handling data - 100 000 rows)\n",
    "- Uses Pyton - numpy, pandas - handles more data \n",
    "- Scale - Millions (processes millions of rows)\n",
    "- Scikit (packages used) - Data prediction\n",
    "- Matplotlib, seaborn - Develop Charts - (Rapid prototyping)\n",
    "- Line by line (Step) verification - unlike analysts (long sql statements)"
   ]
  },
  {
   "cell_type": "markdown",
   "metadata": {},
   "source": [
    "## numpy\n",
    "\n",
    "- Good at working with arrays (1D data)\n",
    "  - can work with 2D data, but 1D is easier \n",
    "  - Goal: work with table data\n",
    "- Performant (compared to Python List)\n",
    "- built on C language (that's why performant)\n",
    "- Statistical oriented\n",
    "  - mean, median, mode \n",
    "  - pandas makes use of all these benefits\n",
    "\n",
    "pandas\n",
    "\n",
    "good at working with 2D\n",
    "pandas library is built into numpy \n",
    "do predictions with pandas\n",
    "\n",
    "1. numpy\n",
    "2. pandas\n",
    "3. predictions"
   ]
  },
  {
   "cell_type": "code",
   "execution_count": 12,
   "metadata": {},
   "outputs": [],
   "source": [
    "import numpy as np # rename numpy as np\n"
   ]
  },
  {
   "cell_type": "code",
   "execution_count": 2,
   "metadata": {},
   "outputs": [
    {
     "name": "stdout",
     "output_type": "stream",
     "text": [
      "[90, 80, 20, 40, 90, 80, 20, 40]\n"
     ]
    }
   ],
   "source": [
    "marks1 = [90, 80, 20, 40]\n",
    "\n",
    "print(marks1 * 2) # repeat operator"
   ]
  },
  {
   "cell_type": "code",
   "execution_count": 4,
   "metadata": {},
   "outputs": [
    {
     "name": "stdout",
     "output_type": "stream",
     "text": [
      "[180, 160, 40, 80]\n"
     ]
    }
   ],
   "source": [
    "marks1 = [90, 80, 20, 40]\n",
    "\n",
    "marks_dbl = [mark * 2 for mark in marks1]\n",
    "\n",
    "print(marks_dbl)"
   ]
  },
  {
   "cell_type": "code",
   "execution_count": null,
   "metadata": {},
   "outputs": [],
   "source": [
    "# Catering - Data Scientist\n",
    "# doesn't understand python, but just wants to play wih data\n",
    "\n",
    "# no loops needed with numpy\n",
    "\n",
    "# array: LIST -> array"
   ]
  },
  {
   "cell_type": "code",
   "execution_count": null,
   "metadata": {},
   "outputs": [
    {
     "data": {
      "text/plain": [
       "array([1., 1., 1., 1., 1., 1., 1., 1., 1., 1., 1., 1., 1., 1., 1., 1., 1.,\n",
       "       1., 1., 1., 1., 1., 1., 1., 1., 1., 1., 1., 1., 1., 1., 1., 1., 1.,\n",
       "       1., 1., 1., 1., 1., 1., 1., 1., 1., 1., 1., 1., 1., 1., 1., 1., 1.,\n",
       "       1., 1., 1., 1., 1., 1., 1., 1., 1., 1., 1., 1., 1., 1., 1., 1., 1.,\n",
       "       1., 1., 1., 1., 1., 1., 1., 1., 1., 1., 1., 1., 1., 1., 1., 1., 1.,\n",
       "       1., 1., 1., 1., 1., 1., 1., 1., 1., 1., 1., 1., 1., 1., 1.])"
      ]
     },
     "execution_count": 6,
     "metadata": {},
     "output_type": "execute_result"
    }
   ],
   "source": [
    "# Identify matrix\n",
    "\n",
    "np.ones(10)  # array of 10 1's\n",
    "\n",
    "np.ones(100)  # array of 100 1's"
   ]
  },
  {
   "cell_type": "code",
   "execution_count": null,
   "metadata": {},
   "outputs": [
    {
     "data": {
      "text/plain": [
       "array([0., 0., 0., 0., 0., 0., 0., 0., 0., 0.])"
      ]
     },
     "execution_count": 7,
     "metadata": {},
     "output_type": "execute_result"
    }
   ],
   "source": [
    "np.zeros(10)"
   ]
  },
  {
   "cell_type": "code",
   "execution_count": null,
   "metadata": {},
   "outputs": [
    {
     "data": {
      "text/plain": [
       "array([5., 5., 5., 5., 5., 5., 5., 5., 5., 5., 5., 5., 5., 5., 5., 5., 5.,\n",
       "       5., 5., 5.])"
      ]
     },
     "execution_count": 8,
     "metadata": {},
     "output_type": "execute_result"
    }
   ],
   "source": [
    "# Array of 20 5's\n",
    "\n",
    "np.ones(20) * 5"
   ]
  },
  {
   "cell_type": "code",
   "execution_count": null,
   "metadata": {},
   "outputs": [
    {
     "data": {
      "text/plain": [
       "array([0, 1, 2, 3, 4, 5, 6, 7, 8, 9])"
      ]
     },
     "execution_count": 9,
     "metadata": {},
     "output_type": "execute_result"
    }
   ],
   "source": [
    "# same like range in python - but use 'arange'\n",
    "# arange - creating an array from a range\n",
    "\n",
    "np.arange(10)\n"
   ]
  },
  {
   "cell_type": "code",
   "execution_count": null,
   "metadata": {},
   "outputs": [
    {
     "data": {
      "text/plain": [
       "array([ 1,  2,  3,  4,  5,  6,  7,  8,  9, 10])"
      ]
     },
     "execution_count": 5,
     "metadata": {},
     "output_type": "execute_result"
    }
   ],
   "source": [
    "# Task: 1 -> 10\n",
    "\n",
    "np.arange(10) + 1\n",
    "\n",
    "np.arange(1, 11) # same as above\n"
   ]
  },
  {
   "cell_type": "code",
   "execution_count": null,
   "metadata": {},
   "outputs": [
    {
     "data": {
      "text/plain": [
       "array([1, 3, 5, 7, 9])"
      ]
     },
     "execution_count": 11,
     "metadata": {},
     "output_type": "execute_result"
    }
   ],
   "source": [
    "# Task: Odd number\n",
    "# Clue: skip value -> range takes 3 values (start, end, skip)\n",
    "\n",
    "np.arange(1, 11, 2)\n"
   ]
  },
  {
   "cell_type": "markdown",
   "metadata": {},
   "source": [
    "## Operations\n",
    "- Multiply, Division, Addition, Subtraction (Operation is applied to each element in array)\n",
    "- Boolean (matrix / mask) -> used for filtering"
   ]
  },
  {
   "cell_type": "code",
   "execution_count": null,
   "metadata": {},
   "outputs": [
    {
     "data": {
      "text/plain": [
       "array([ 2,  4,  6,  8, 10, 12, 14, 16, 18, 20])"
      ]
     },
     "execution_count": 13,
     "metadata": {},
     "output_type": "execute_result"
    }
   ],
   "source": [
    "np.arange(1, 11) * 2 # multiple all element in array (1 -> 10) by 2\n"
   ]
  },
  {
   "cell_type": "code",
   "execution_count": 14,
   "metadata": {},
   "outputs": [
    {
     "data": {
      "text/plain": [
       "array([0.5, 1. , 1.5, 2. , 2.5, 3. , 3.5, 4. , 4.5, 5. ])"
      ]
     },
     "execution_count": 14,
     "metadata": {},
     "output_type": "execute_result"
    }
   ],
   "source": [
    "np.arange(1, 11) / 2 # divide each element in arrange by 2"
   ]
  },
  {
   "cell_type": "code",
   "execution_count": 15,
   "metadata": {},
   "outputs": [
    {
     "data": {
      "text/plain": [
       "array([ 3,  4,  5,  6,  7,  8,  9, 10, 11, 12])"
      ]
     },
     "execution_count": 15,
     "metadata": {},
     "output_type": "execute_result"
    }
   ],
   "source": [
    "np.arange(1, 11) + 2"
   ]
  },
  {
   "cell_type": "code",
   "execution_count": null,
   "metadata": {},
   "outputs": [
    {
     "data": {
      "text/plain": [
       "array([ 2,  4,  6,  8, 10, 12, 14, 16, 18, 20])"
      ]
     },
     "execution_count": 16,
     "metadata": {},
     "output_type": "execute_result"
    }
   ],
   "source": [
    "np.arange(1, 11) + np.arange(1, 11) # Matrix Addition\n",
    "\n",
    "# output 1 + 1, 2 + 2, 3 + 3 -> all the way to 10"
   ]
  },
  {
   "cell_type": "code",
   "execution_count": null,
   "metadata": {},
   "outputs": [
    {
     "data": {
      "text/plain": [
       "array([10,  4,  8])"
      ]
     },
     "execution_count": 17,
     "metadata": {},
     "output_type": "execute_result"
    }
   ],
   "source": [
    "np.array([9, 2, 3]) + np.array([1, 2, 5]) # matrix multiplication - 9 + 2, 2 + 2, 3 + 5"
   ]
  },
  {
   "cell_type": "code",
   "execution_count": null,
   "metadata": {},
   "outputs": [],
   "source": [
    "# shape is different -> size of matrix has to be the same, else error\n",
    "# array1(3 nums) - array2(4 nums) -> error"
   ]
  },
  {
   "cell_type": "code",
   "execution_count": 18,
   "metadata": {},
   "outputs": [
    {
     "data": {
      "text/plain": [
       "[9, 2, 3, 1, 2, 5]"
      ]
     },
     "execution_count": 18,
     "metadata": {},
     "output_type": "execute_result"
    }
   ],
   "source": [
    "[9, 2, 3] + [1, 2, 5] # concatenation (joins two lists)"
   ]
  },
  {
   "cell_type": "markdown",
   "metadata": {},
   "source": [
    "### Boolean (matrix / mask)"
   ]
  },
  {
   "cell_type": "code",
   "execution_count": 19,
   "metadata": {},
   "outputs": [
    {
     "data": {
      "text/plain": [
       "array([False, False, False, False, False,  True,  True,  True,  True,\n",
       "        True])"
      ]
     },
     "execution_count": 19,
     "metadata": {},
     "output_type": "execute_result"
    }
   ],
   "source": [
    "np.arange(1, 11) > 5 # it will return a boolean array (true or false - checks if each value is greater than 5)"
   ]
  },
  {
   "cell_type": "code",
   "execution_count": null,
   "metadata": {},
   "outputs": [
    {
     "data": {
      "text/plain": [
       "array([ 6,  7,  8,  9, 10])"
      ]
     },
     "execution_count": 20,
     "metadata": {},
     "output_type": "execute_result"
    }
   ],
   "source": [
    "first_ten_nums = np.arange(1, 11) # storing our array into a variable\n",
    "only_five_bm = first_ten_nums > 5\n",
    "first_ten_nums[only_five_bm] # filters array - we only want numbers greater than 5, feeds array into only_five_bm"
   ]
  },
  {
   "cell_type": "code",
   "execution_count": null,
   "metadata": {},
   "outputs": [],
   "source": [
    "first_ten_nums = np.arange(1, 11)  # storing our array into a variable\n",
    "first_ten_nums[first_ten_nums > 5] # if it is false - won't get in final result - we just want > 5 nums to display\n",
    "# first_ten_nums -> nums 1 to 10\n",
    "# [first_ten_nums > 5] -> filter condition\n"
   ]
  },
  {
   "cell_type": "code",
   "execution_count": null,
   "metadata": {},
   "outputs": [
    {
     "data": {
      "text/plain": [
       "array([  2,   4,   6,   8,  10,  12,  14,  16,  18,  20,  22,  24,  26,\n",
       "        28,  30,  32,  34,  36,  38,  40,  42,  44,  46,  48,  50,  52,\n",
       "        54,  56,  58,  60,  62,  64,  66,  68,  70,  72,  74,  76,  78,\n",
       "        80,  82,  84,  86,  88,  90,  92,  94,  96,  98, 100, 102, 104,\n",
       "       106, 108, 110, 112, 114, 116, 118, 120, 122, 124, 126, 128, 130,\n",
       "       132, 134, 136, 138, 140, 142, 144, 146, 148, 150, 152, 154, 156,\n",
       "       158, 160, 162, 164, 166, 168, 170, 172, 174, 176, 178, 180, 182,\n",
       "       184, 186, 188, 190, 192, 194, 196, 198, 200])"
      ]
     },
     "execution_count": 27,
     "metadata": {},
     "output_type": "execute_result"
    }
   ],
   "source": [
    "# Task 1.1\n",
    "# 1-200 only even numbers | With skip of arange\n",
    "\n",
    "even_nums = np.arange(2, 201, 2) # start at 2 and it will show every second number\n",
    "\n",
    "even_nums"
   ]
  },
  {
   "cell_type": "code",
   "execution_count": 28,
   "metadata": {},
   "outputs": [
    {
     "data": {
      "text/plain": [
       "array([  2,   4,   6,   8,  10,  12,  14,  16,  18,  20,  22,  24,  26,\n",
       "        28,  30,  32,  34,  36,  38,  40,  42,  44,  46,  48,  50,  52,\n",
       "        54,  56,  58,  60,  62,  64,  66,  68,  70,  72,  74,  76,  78,\n",
       "        80,  82,  84,  86,  88,  90,  92,  94,  96,  98, 100, 102, 104,\n",
       "       106, 108, 110, 112, 114, 116, 118, 120, 122, 124, 126, 128, 130,\n",
       "       132, 134, 136, 138, 140, 142, 144, 146, 148, 150, 152, 154, 156,\n",
       "       158, 160, 162, 164, 166, 168, 170, 172, 174, 176, 178, 180, 182,\n",
       "       184, 186, 188, 190, 192, 194, 196, 198, 200])"
      ]
     },
     "execution_count": 28,
     "metadata": {},
     "output_type": "execute_result"
    }
   ],
   "source": [
    "# Task 1.2\n",
    "# 1-200 only even numbers | Dont use skip of arange\n",
    "\n",
    "nums = np.arange(1, 201)\n",
    "\n",
    "nums[nums % 2 == 0]"
   ]
  },
  {
   "cell_type": "markdown",
   "metadata": {},
   "source": [
    "### Ways to create array\n",
    "\n",
    "1. np.array()\n",
    "2. np.ones\n",
    "3. np.arange"
   ]
  },
  {
   "cell_type": "code",
   "execution_count": 30,
   "metadata": {},
   "outputs": [
    {
     "data": {
      "text/plain": [
       "array([55, 41, 46, 23, 23], dtype=int32)"
      ]
     },
     "execution_count": 30,
     "metadata": {},
     "output_type": "execute_result"
    }
   ],
   "source": [
    "ages = np.random.randint(18, 60, 5) # random numbers (int) # 18, 60 -> range # 5 -> number of values\n",
    "\n",
    "ages"
   ]
  },
  {
   "cell_type": "code",
   "execution_count": 31,
   "metadata": {},
   "outputs": [
    {
     "name": "stdout",
     "output_type": "stream",
     "text": [
      "[29, 41, 35, 46, 49]\n"
     ]
    }
   ],
   "source": [
    "ages = np.random.randint(\n",
    "    18, 60, 5\n",
    ")\n",
    "\n",
    "ages_list = ages.tolist() # converting array into list\n",
    "# before modifying - create a copy (ages_list)\n",
    "\n",
    "print(ages_list)"
   ]
  },
  {
   "cell_type": "code",
   "execution_count": 32,
   "metadata": {},
   "outputs": [
    {
     "name": "stdout",
     "output_type": "stream",
     "text": [
      "[51 47 30 55 35 46 25 21 57 35 43 54 51 51 19 35 21 27 55 55 52 48 44 37\n",
      " 22 33 38 37 26 32 32 37 28 43 38 27 20 33 51 31 22 37 49 53 52 51 49 28\n",
      " 32 19]\n"
     ]
    },
    {
     "data": {
      "text/plain": [
       "array([51, 47, 30, 55, 35, 46, 57, 35, 43, 54, 51, 51, 35, 27, 55, 55, 52,\n",
       "       48, 44, 37, 33, 38, 37, 26, 32, 32, 37, 28, 43, 38, 27, 33, 51, 31,\n",
       "       37, 49, 53, 52, 51, 49, 28, 32], dtype=int32)"
      ]
     },
     "execution_count": 32,
     "metadata": {},
     "output_type": "execute_result"
    }
   ],
   "source": [
    "ages = np.random.randint(18, 60, 50)  # Random data generator\n",
    "\n",
    "print(ages)\n",
    "ages[ages > 25]"
   ]
  },
  {
   "cell_type": "code",
   "execution_count": 33,
   "metadata": {},
   "outputs": [
    {
     "data": {
      "text/plain": [
       "[29, 41, 35, 46, 49]"
      ]
     },
     "execution_count": 33,
     "metadata": {},
     "output_type": "execute_result"
    }
   ],
   "source": [
    "ages_list"
   ]
  },
  {
   "cell_type": "code",
   "execution_count": null,
   "metadata": {},
   "outputs": [
    {
     "name": "stdout",
     "output_type": "stream",
     "text": [
      "CPU times: total: 0 ns\n",
      "Wall time: 9.3 μs\n"
     ]
    },
    {
     "data": {
      "text/plain": [
       "[29, 41, 35, 46, 49]"
      ]
     },
     "execution_count": 35,
     "metadata": {},
     "output_type": "execute_result"
    }
   ],
   "source": [
    "%%time\n",
    "# shows you how long it took to run/process\n",
    "ages_list"
   ]
  },
  {
   "cell_type": "markdown",
   "metadata": {},
   "source": [
    "## Statistical oriented - mean, mode, median, std\n",
    "\n",
    "- mean -> Average\n",
    "- mode -> The most repeated number (most popular)\n",
    "- median -> The middle number (when sorted)\n",
    "- standard deviation -> Average distance between the mean and other numbers (how far apart are they?)\n",
    "  - are the numbers closer to the average or far apart? \n",
    "  - if the numbers are all the same in array (all 64) -> mean = 64 -> std dev = 0 (no difference between mean and nums)\n",
    "\n",
    "median and mean tells you if there's a wide gap between values  (distribution is wide)"
   ]
  },
  {
   "cell_type": "code",
   "execution_count": null,
   "metadata": {},
   "outputs": [],
   "source": [
    "print(np.median(marks)) # median is a function in np # feed array into median"
   ]
  },
  {
   "cell_type": "markdown",
   "metadata": {},
   "source": [
    "### Task 1\n",
    "At the every year tell me balance for 10 years\n",
    "Clue: General formula\n",
    "1102.5 -> 1000 +\n",
    "[1050, 1102.5 ...., ]\n",
    " "
   ]
  },
  {
   "cell_type": "code",
   "execution_count": null,
   "metadata": {},
   "outputs": [
    {
     "name": "stdout",
     "output_type": "stream",
     "text": [
      "[1050.         1102.5        1157.625      1215.50625    1276.2815625\n",
      " 1340.09564063 1407.10042266 1477.45544379 1551.32821598 1628.89462678]\n"
     ]
    }
   ],
   "source": [
    "investment = 1000\n",
    "int_rate = 1.05\n",
    "num_years = np.arange(1, 11)\n",
    "\n",
    "print(investment * int_rate ** num_years)"
   ]
  },
  {
   "cell_type": "markdown",
   "metadata": {},
   "source": [
    "### Task 2\n",
    "At the year of ten years what will be the balance"
   ]
  },
  {
   "cell_type": "code",
   "execution_count": 15,
   "metadata": {},
   "outputs": [
    {
     "name": "stdout",
     "output_type": "stream",
     "text": [
      "1628.894626777442\n"
     ]
    }
   ],
   "source": [
    "investment = 1000\n",
    "int_rate = 1.05\n",
    "num_years = np.arange(1, 11)\n",
    "investment_amounts = investment * int_rate**num_years\n",
    "\n",
    "print(investment_amounts[-1])"
   ]
  },
  {
   "cell_type": "markdown",
   "metadata": {},
   "source": [
    "### Task 3\n",
    "How is much % its increase as compared to initial investment"
   ]
  },
  {
   "cell_type": "code",
   "execution_count": null,
   "metadata": {},
   "outputs": [
    {
     "data": {
      "text/plain": [
       "array([ 997.5       ,  999.875     ,  999.99375   ,  999.9996875 ,\n",
       "        999.99998438,  999.99999922,  999.99999996, 1000.        ,\n",
       "       1000.        ])"
      ]
     },
     "execution_count": 20,
     "metadata": {},
     "output_type": "execute_result"
    }
   ],
   "source": [
    "investment = 1000\n",
    "int_rate = 0.05\n",
    "num_years = np.arange(1, 11)\n",
    "investment_amounts = investment * int_rate**num_years\n"
   ]
  },
  {
   "cell_type": "code",
   "execution_count": null,
   "metadata": {},
   "outputs": [],
   "source": [
    "# use print to just see output\n",
    "# otherwise datattype will be included"
   ]
  },
  {
   "cell_type": "code",
   "execution_count": null,
   "metadata": {},
   "outputs": [
    {
     "data": {
      "text/plain": [
       "array([2, 2, 3, 2, 1, 1, 1, 2, 3, 2], dtype=int32)"
      ]
     },
     "execution_count": 21,
     "metadata": {},
     "output_type": "execute_result"
    }
   ],
   "source": [
    "nums = np.random.randint(1, 4, 10) # won't include end val (4)\n",
    "\n",
    "nums"
   ]
  },
  {
   "cell_type": "code",
   "execution_count": 22,
   "metadata": {},
   "outputs": [
    {
     "data": {
      "text/plain": [
       "array([1, 2, 3], dtype=int32)"
      ]
     },
     "execution_count": 22,
     "metadata": {},
     "output_type": "execute_result"
    }
   ],
   "source": [
    "# Task: remove repitition\n",
    "\n",
    "np.unique(nums)"
   ]
  },
  {
   "cell_type": "markdown",
   "metadata": {},
   "source": [
    "## Task 1\n",
    " \n",
    "hourly_visitors = [468, 279,  73, 272 ,406 ,128 ,302 ,216, 140, 82]\n",
    " \n",
    "- 1.1 Total visitors in the day?\n",
    "- 1.2 Which is the peak hour?\n",
    "- 1.3 On average how many people visit per hour\n",
    " \n",
    "### Output\n",
    "```\n",
    "Total visitors in the day: 2366\n",
    "Peak hour: 1\n",
    "Average people visit: 237\n",
    "```\n",
    " "
   ]
  },
  {
   "cell_type": "code",
   "execution_count": null,
   "metadata": {},
   "outputs": [
    {
     "name": "stdout",
     "output_type": "stream",
     "text": [
      "Total visitors in the day: 2366\n",
      "Peak hour: 1\n",
      "Average people visit: 237\n"
     ]
    }
   ],
   "source": [
    "hourly_visitors = np.array([468, 279, 73, 272, 406, 128, 302, 216, 140, 82]) # good practice to put it in an array\n",
    "\n",
    "# Task 1.1\n",
    "\n",
    "print(f\"Total visitors in the day: {np.sum(hourly_visitors)}\")\n",
    "\n",
    "# Task 1.2\n",
    "\n",
    "print(f\"Peak hour: {np.argmax(hourly_visitors) + 1}\")\n",
    "\n",
    "# Task 1.3\n",
    "\n",
    "print(f\"Average people visit: {round(np.mean(hourly_visitors))}\")\n"
   ]
  },
  {
   "cell_type": "code",
   "execution_count": null,
   "metadata": {},
   "outputs": [],
   "source": [
    "# simplify using multi-string operators (3 x quotation marks)"
   ]
  },
  {
   "cell_type": "code",
   "execution_count": null,
   "metadata": {},
   "outputs": [],
   "source": [
    "# String methods\n",
    "# np.char... methods after fullstop\n",
    "# works on entire array (not just one word) -> no loop needed\n",
    "\n",
    "# normalize -> make everything look consistent"
   ]
  },
  {
   "cell_type": "markdown",
   "metadata": {},
   "source": [
    "## Task 2\n",
    "Normalize the Array:\n",
    " \n",
    "- 2.1 Trim leading and trailing spaces.\n",
    "- 2.2 Convert all items to lowercase.\n",
    "- 2.3 Ensure there are no duplicate items in the array."
   ]
  },
  {
   "cell_type": "code",
   "execution_count": 61,
   "metadata": {},
   "outputs": [
    {
     "name": "stdout",
     "output_type": "stream",
     "text": [
      "['apple' 'banana' 'blueberry' 'cucumber' 'grape' 'kiwi' 'lemon' 'mango'\n",
      " 'orange' 'pineapple' 'raspberry' 'tomato']\n"
     ]
    }
   ],
   "source": [
    "items = np.array(\n",
    "    [\n",
    "        \" Apple\",\n",
    "        \"banana \",\n",
    "        \"GRAPE\",\n",
    "        \"cucumber\",\n",
    "        \"Pineapple\",\n",
    "        \" tomato \",\n",
    "        \"Orange\",\n",
    "        \" lemon\",\n",
    "        \"Kiwi \",\n",
    "        \"mango\",\n",
    "        \"blueberry \",\n",
    "        \" raspberry\",\n",
    "    ]\n",
    ")\n",
    "\n",
    "# Task 2.1\n",
    "\n",
    "stripped = np.char.strip(items)\n",
    "\n",
    "# Task 2.2\n",
    "\n",
    "items_lower = np.char.lower(stripped)\n",
    "\n",
    "# Task 1.3\n",
    "\n",
    "unique = np.unique(items_lower)\n",
    "\n",
    "print(unique)\n"
   ]
  },
  {
   "cell_type": "markdown",
   "metadata": {},
   "source": [
    "## Task 3 (Challenging)\n",
    "Filtering Operations:\n",
    "- 3.1 Find and display all items that start with the letter 'b'.\n",
    "- 3.2 Find and display all items that contain the letter 'e' exactly once.\n",
    " "
   ]
  },
  {
   "cell_type": "code",
   "execution_count": null,
   "metadata": {},
   "outputs": [
    {
     "name": "stdout",
     "output_type": "stream",
     "text": [
      "['banana ' 'blueberry ']\n"
     ]
    }
   ],
   "source": [
    "# Task 3.1\n",
    "\n",
    "b_items = np.char.startswith(items, \"b\")\n",
    "\n",
    "print(items[b_items])\n"
   ]
  },
  {
   "cell_type": "code",
   "execution_count": 64,
   "metadata": {},
   "outputs": [
    {
     "name": "stdout",
     "output_type": "stream",
     "text": [
      "[ True False False  True False False  True  True False False False  True]\n"
     ]
    },
    {
     "data": {
      "text/plain": [
       "array(['apple', 'cucumber', 'orange', 'lemon', 'raspberry'], dtype='<U10')"
      ]
     },
     "execution_count": 64,
     "metadata": {},
     "output_type": "execute_result"
    }
   ],
   "source": [
    "# Task 3.2\n",
    "\n",
    "count_e = np.char.count(items, \"e\")\n",
    "e_once = count_e == 1\n",
    "\n",
    "print(e_once)\n",
    "\n",
    "items_lower[e_once]\n"
   ]
  },
  {
   "cell_type": "markdown",
   "metadata": {},
   "source": [
    "## 2D Matrix / Arrays\n",
    "\n"
   ]
  },
  {
   "cell_type": "code",
   "execution_count": null,
   "metadata": {},
   "outputs": [],
   "source": []
  }
 ],
 "metadata": {
  "kernelspec": {
   "display_name": ".venv",
   "language": "python",
   "name": "python3"
  },
  "language_info": {
   "codemirror_mode": {
    "name": "ipython",
    "version": 3
   },
   "file_extension": ".py",
   "mimetype": "text/x-python",
   "name": "python",
   "nbconvert_exporter": "python",
   "pygments_lexer": "ipython3",
   "version": "3.13.2"
  }
 },
 "nbformat": 4,
 "nbformat_minor": 2
}
