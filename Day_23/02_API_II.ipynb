{
 "cells": [
  {
   "cell_type": "markdown",
   "metadata": {},
   "source": [
    "## Task\n",
    "\n",
    "Create a function `get_city_temp` given city it should print the temp"
   ]
  },
  {
   "cell_type": "code",
   "execution_count": null,
   "metadata": {},
   "outputs": [],
   "source": [
    "# import requests"
   ]
  },
  {
   "cell_type": "code",
   "execution_count": 2,
   "metadata": {},
   "outputs": [
    {
     "name": "stderr",
     "output_type": "stream",
     "text": [
      "c:\\Users\\E1009816\\OneDrive - Sanlam Life Insurance Limited\\Documents\\SDDA\\python-sanlam-2025\\.venv\\Lib\\site-packages\\urllib3\\connectionpool.py:1097: InsecureRequestWarning: Unverified HTTPS request is being made to host 'api.weatherapi.com'. Adding certificate verification is strongly advised. See: https://urllib3.readthedocs.io/en/latest/advanced-usage.html#tls-warnings\n",
      "  warnings.warn(\n"
     ]
    },
    {
     "data": {
      "text/plain": [
       "{'location': {'name': 'London',\n",
       "  'region': 'City of London, Greater London',\n",
       "  'country': 'United Kingdom',\n",
       "  'lat': 51.5171,\n",
       "  'lon': -0.1062,\n",
       "  'tz_id': 'Europe/London',\n",
       "  'localtime_epoch': 1742808188,\n",
       "  'localtime': '2025-03-24 09:23'},\n",
       " 'current': {'last_updated_epoch': 1742807700,\n",
       "  'last_updated': '2025-03-24 09:15',\n",
       "  'temp_c': 7.1,\n",
       "  'temp_f': 44.8,\n",
       "  'is_day': 1,\n",
       "  'condition': {'text': 'Mist',\n",
       "   'icon': '//cdn.weatherapi.com/weather/64x64/day/143.png',\n",
       "   'code': 1030},\n",
       "  'wind_mph': 7.4,\n",
       "  'wind_kph': 11.9,\n",
       "  'wind_degree': 15,\n",
       "  'wind_dir': 'NNE',\n",
       "  'pressure_mb': 1017.0,\n",
       "  'pressure_in': 30.03,\n",
       "  'precip_mm': 0.0,\n",
       "  'precip_in': 0.0,\n",
       "  'humidity': 87,\n",
       "  'cloud': 100,\n",
       "  'feelslike_c': 4.8,\n",
       "  'feelslike_f': 40.7,\n",
       "  'windchill_c': 5.5,\n",
       "  'windchill_f': 41.9,\n",
       "  'heatindex_c': 7.7,\n",
       "  'heatindex_f': 45.8,\n",
       "  'dewpoint_c': 4.5,\n",
       "  'dewpoint_f': 40.1,\n",
       "  'vis_km': 7.0,\n",
       "  'vis_miles': 4.0,\n",
       "  'uv': 0.9,\n",
       "  'gust_mph': 9.5,\n",
       "  'gust_kph': 15.3}}"
      ]
     },
     "execution_count": 2,
     "metadata": {},
     "output_type": "execute_result"
    }
   ],
   "source": [
    "# API = \"https://api.weatherapi.com/v1/current.json?key=5ea733fac7ad4a8b95284206252403&q=London&aqi=no\"\n",
    "# response = requests.get(API, verify=False)\n",
    "\n",
    "# weather = response.json()\n",
    "# weather"
   ]
  },
  {
   "cell_type": "code",
   "execution_count": 14,
   "metadata": {},
   "outputs": [
    {
     "name": "stderr",
     "output_type": "stream",
     "text": [
      "c:\\Users\\E1009816\\OneDrive - Sanlam Life Insurance Limited\\Documents\\SDDA\\python-sanlam-2025\\.venv\\Lib\\site-packages\\urllib3\\connectionpool.py:1097: InsecureRequestWarning: Unverified HTTPS request is being made to host 'api.weatherapi.com'. Adding certificate verification is strongly advised. See: https://urllib3.readthedocs.io/en/latest/advanced-usage.html#tls-warnings\n",
      "  warnings.warn(\n"
     ]
    },
    {
     "name": "stdout",
     "output_type": "stream",
     "text": [
      "The temperature in cape town is 22.1°C\n"
     ]
    }
   ],
   "source": [
    "import requests\n",
    "\n",
    "API_KEY = \"5ea733fac7ad4a8b95284206252403\"\n",
    "\n",
    "def get_city_temp(city_name):\n",
    "    API = f\"https://api.weatherapi.com/v1/current.json?key={API_KEY}&q={city_name}&aqi=no\"\n",
    "    response = requests.get(API, verify=False)\n",
    "\n",
    "    city_weather = response.json()\n",
    "\n",
    "    temp = city_weather['current']['temp_c']\n",
    "\n",
    "    print(f\"The temperature in {city_name} is {temp}°C\")\n",
    "\n",
    "\n",
    "get_city_temp(\"cape town\")\n",
    "# The temperature in Cape town is 24°C\n"
   ]
  },
  {
   "cell_type": "markdown",
   "metadata": {},
   "source": [
    "# Task 2 (Challenging)\n",
    "Create a function which takes list of cities and provide the corresponding temperature in a dictionary\n",
    "\n",
    "```python\n",
    "cities = [\"Cape town\", \"Johannesburg\", \"Durban\"]\n",
    "```\n",
    "\n",
    "## Expected Output\n",
    "```python\n",
    "{\n",
    "\"Cape town\": 24, \n",
    "\"Johannesburg\": 25, \n",
    "\"Durban\": 18\n",
    "}\n",
    "```"
   ]
  },
  {
   "cell_type": "markdown",
   "metadata": {},
   "source": [
    "### Why does the website require API keys?\n",
    "Protection - tracking\n",
    "Monitors requests\n",
    "\n",
    "?key={API_KEY}&q={city_name}&aqi=no - `query params`\n",
    "? key1 = v1 & k2 = v2 & k3 = v3\n",
    "\n",
    "What is the purpose of it?\n",
    "Filters the information that we require/requested - out of all the information on the site"
   ]
  },
  {
   "cell_type": "code",
   "execution_count": 20,
   "metadata": {},
   "outputs": [
    {
     "name": "stderr",
     "output_type": "stream",
     "text": [
      "c:\\Users\\E1009816\\OneDrive - Sanlam Life Insurance Limited\\Documents\\SDDA\\python-sanlam-2025\\.venv\\Lib\\site-packages\\urllib3\\connectionpool.py:1097: InsecureRequestWarning: Unverified HTTPS request is being made to host 'api.weatherapi.com'. Adding certificate verification is strongly advised. See: https://urllib3.readthedocs.io/en/latest/advanced-usage.html#tls-warnings\n",
      "  warnings.warn(\n",
      "c:\\Users\\E1009816\\OneDrive - Sanlam Life Insurance Limited\\Documents\\SDDA\\python-sanlam-2025\\.venv\\Lib\\site-packages\\urllib3\\connectionpool.py:1097: InsecureRequestWarning: Unverified HTTPS request is being made to host 'api.weatherapi.com'. Adding certificate verification is strongly advised. See: https://urllib3.readthedocs.io/en/latest/advanced-usage.html#tls-warnings\n",
      "  warnings.warn(\n",
      "c:\\Users\\E1009816\\OneDrive - Sanlam Life Insurance Limited\\Documents\\SDDA\\python-sanlam-2025\\.venv\\Lib\\site-packages\\urllib3\\connectionpool.py:1097: InsecureRequestWarning: Unverified HTTPS request is being made to host 'api.weatherapi.com'. Adding certificate verification is strongly advised. See: https://urllib3.readthedocs.io/en/latest/advanced-usage.html#tls-warnings\n",
      "  warnings.warn(\n",
      "c:\\Users\\E1009816\\OneDrive - Sanlam Life Insurance Limited\\Documents\\SDDA\\python-sanlam-2025\\.venv\\Lib\\site-packages\\urllib3\\connectionpool.py:1097: InsecureRequestWarning: Unverified HTTPS request is being made to host 'api.weatherapi.com'. Adding certificate verification is strongly advised. See: https://urllib3.readthedocs.io/en/latest/advanced-usage.html#tls-warnings\n",
      "  warnings.warn(\n",
      "c:\\Users\\E1009816\\OneDrive - Sanlam Life Insurance Limited\\Documents\\SDDA\\python-sanlam-2025\\.venv\\Lib\\site-packages\\urllib3\\connectionpool.py:1097: InsecureRequestWarning: Unverified HTTPS request is being made to host 'api.weatherapi.com'. Adding certificate verification is strongly advised. See: https://urllib3.readthedocs.io/en/latest/advanced-usage.html#tls-warnings\n",
      "  warnings.warn(\n",
      "c:\\Users\\E1009816\\OneDrive - Sanlam Life Insurance Limited\\Documents\\SDDA\\python-sanlam-2025\\.venv\\Lib\\site-packages\\urllib3\\connectionpool.py:1097: InsecureRequestWarning: Unverified HTTPS request is being made to host 'api.weatherapi.com'. Adding certificate verification is strongly advised. See: https://urllib3.readthedocs.io/en/latest/advanced-usage.html#tls-warnings\n",
      "  warnings.warn(\n",
      "c:\\Users\\E1009816\\OneDrive - Sanlam Life Insurance Limited\\Documents\\SDDA\\python-sanlam-2025\\.venv\\Lib\\site-packages\\urllib3\\connectionpool.py:1097: InsecureRequestWarning: Unverified HTTPS request is being made to host 'api.weatherapi.com'. Adding certificate verification is strongly advised. See: https://urllib3.readthedocs.io/en/latest/advanced-usage.html#tls-warnings\n",
      "  warnings.warn(\n"
     ]
    },
    {
     "data": {
      "text/plain": [
       "{'Cape Town': 23.4, 'Johannesburg': 24.3, 'Durban': 27.0}"
      ]
     },
     "execution_count": 20,
     "metadata": {},
     "output_type": "execute_result"
    }
   ],
   "source": [
    "import requests\n",
    "\n",
    "API_KEY = \"5ea733fac7ad4a8b95284206252403\"\n",
    "\n",
    "\n",
    "def get_city_temp(city_name):\n",
    "    API = (\n",
    "        f\"https://api.weatherapi.com/v1/current.json?key={API_KEY}&q={city_name}&aqi=no\"\n",
    "    )\n",
    "    response = requests.get(API, verify=False)\n",
    "    city_weather = response.json()\n",
    "\n",
    "    return city_weather['location']['name'], city_weather['current']['temp_c'] #tuple\n",
    "\n",
    "# if you want to return multiple items, go with list, tuple, dict\n",
    "\n",
    "get_city_temp(\"cape town\")\n",
    "\n",
    "\n",
    "def get_temps(cities):\n",
    "    return {\n",
    "        get_city_temp(city)[0]: get_city_temp(city)[1] for city in cities\n",
    "    }\n",
    "# calls API 6 times - slower\n",
    "# calling API to get each city name\n",
    "# calling API to get each city temp\n",
    "\n",
    "cities = [\"Cape town\", \"Johannesburg\", \"Durban\"]\n",
    "get_temps(cities)"
   ]
  },
  {
   "cell_type": "code",
   "execution_count": null,
   "metadata": {},
   "outputs": [],
   "source": [
    "# list of tuples (since get_city_temp returns tuples)\n",
    "# convert it to dictionary with dict() functionality"
   ]
  }
 ],
 "metadata": {
  "kernelspec": {
   "display_name": ".venv",
   "language": "python",
   "name": "python3"
  },
  "language_info": {
   "codemirror_mode": {
    "name": "ipython",
    "version": 3
   },
   "file_extension": ".py",
   "mimetype": "text/x-python",
   "name": "python",
   "nbconvert_exporter": "python",
   "pygments_lexer": "ipython3",
   "version": "3.13.2"
  }
 },
 "nbformat": 4,
 "nbformat_minor": 2
}
