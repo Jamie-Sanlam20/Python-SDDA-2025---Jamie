{
 "cells": [
  {
   "cell_type": "code",
   "execution_count": 2,
   "metadata": {},
   "outputs": [],
   "source": [
    "import json"
   ]
  },
  {
   "cell_type": "code",
   "execution_count": null,
   "metadata": {},
   "outputs": [],
   "source": [
    "# JSON -> Javascript Object Notation\n",
    "\n",
    "# json converts dictionary into a string\n",
    "# cannot use same methods to access age: 30\n",
    "\n",
    "# why would devs develop something like this?\n",
    "\n",
    "# json lint checks whether it's a valid json\n",
    "# json removes trailing commas / removes single quotes"
   ]
  },
  {
   "cell_type": "code",
   "execution_count": null,
   "metadata": {},
   "outputs": [],
   "source": [
    "# function is being assigned to a variable (fun) -> function becomes the value\n",
    "\n",
    "data['fun'](7) # represents function -> accessing function"
   ]
  },
  {
   "cell_type": "markdown",
   "metadata": {},
   "source": [
    "## Summary\n",
    "\n",
    "### Invalid JSON\n",
    "- no single quotes\n",
    "- no trailing commas\n",
    "- Functions are not allowed\n",
    "\n",
    "Boolean values will be converted into lowercase\n",
    "List, dict are allowed"
   ]
  },
  {
   "cell_type": "code",
   "execution_count": 1,
   "metadata": {},
   "outputs": [],
   "source": [
    "student_json = \"\"\"\n",
    "{\n",
    "    \"name\": \"Jamie\",\n",
    "    \"gender\": \"Female\"\n",
    "}\n",
    "\"\"\"\n",
    " # JSON is a string\n"
   ]
  },
  {
   "cell_type": "code",
   "execution_count": 6,
   "metadata": {},
   "outputs": [
    {
     "data": {
      "text/plain": [
       "{'name': 'Jamie', 'gender': 'Female'}"
      ]
     },
     "execution_count": 6,
     "metadata": {},
     "output_type": "execute_result"
    }
   ],
   "source": [
    "# convert dict to JSON - dumps\n",
    "# convert JSON -> Dict: loads\n",
    "\n",
    "student = json.loads(student_json)\n",
    "\n",
    "# single quotes shows you that it's a dictionary\n",
    "\n",
    "student"
   ]
  },
  {
   "cell_type": "code",
   "execution_count": 4,
   "metadata": {},
   "outputs": [],
   "source": [
    "bank_data = \"\"\"\n",
    "[\n",
    "    {\n",
    "        \"id\": 1,\n",
    "        \"name\": \"John Doe\",\n",
    "        \"email\": \"johndoe@example.com\",\n",
    "        \"isActive\": true,\n",
    "        \"balance\": 150.75\n",
    "    },\n",
    "    {\n",
    "        \"id\": 2,\n",
    "        \"name\": \"Jane Smith\",\n",
    "        \"email\": \"janesmith@example.com\",\n",
    "        \"isActive\": false,\n",
    "        \"balance\": 500.50\n",
    "    },\n",
    "    {\n",
    "        \"id\": 3,\n",
    "        \"name\": \"Emily Jones\",\n",
    "        \"email\": \"emilyjones@example.com\",\n",
    "        \"isActive\": true,\n",
    "        \"balance\": 0.00\n",
    "    }\n",
    "]\n",
    "\"\"\"\n"
   ]
  },
  {
   "cell_type": "markdown",
   "metadata": {},
   "source": [
    "## Task 1.1 (normal for loop)\n",
    "- All Active user's balance should increase by 10%\n",
    "- Final Output should be JSON format"
   ]
  },
  {
   "cell_type": "code",
   "execution_count": null,
   "metadata": {},
   "outputs": [
    {
     "name": "stdout",
     "output_type": "stream",
     "text": [
      "[\n",
      "    {\n",
      "        \"id\": 1,\n",
      "        \"name\": \"John Doe\",\n",
      "        \"email\": \"johndoe@example.com\",\n",
      "        \"isActive\": true,\n",
      "        \"balance\": 165.825\n",
      "    },\n",
      "    {\n",
      "        \"id\": 2,\n",
      "        \"name\": \"Jane Smith\",\n",
      "        \"email\": \"janesmith@example.com\",\n",
      "        \"isActive\": false,\n",
      "        \"balance\": 500.5\n",
      "    },\n",
      "    {\n",
      "        \"id\": 3,\n",
      "        \"name\": \"Emily Jones\",\n",
      "        \"email\": \"emilyjones@example.com\",\n",
      "        \"isActive\": true,\n",
      "        \"balance\": 0.0\n",
      "    }\n",
      "]\n"
     ]
    }
   ],
   "source": [
    "bank_data_list = json.loads(bank_data)\n",
    "\n",
    "def increase_user_balance(bank_data_list):\n",
    "    for data in bank_data_list:\n",
    "        increase = data['balance'] * 0.10\n",
    "        if data['isActive']:\n",
    "            data['balance'] = data['balance'] + increase\n",
    "\n",
    "    print(json.dumps(bank_data_list, indent=4))\n",
    "\n",
    "increase_user_balance(bank_data_list)"
   ]
  },
  {
   "cell_type": "code",
   "execution_count": 37,
   "metadata": {},
   "outputs": [
    {
     "name": "stdout",
     "output_type": "stream",
     "text": [
      "[\n",
      "    {\n",
      "        \"id\": 1,\n",
      "        \"name\": \"John Doe\",\n",
      "        \"email\": \"johndoe@example.com\",\n",
      "        \"isActive\": true,\n",
      "        \"balance\": 165.825\n",
      "    },\n",
      "    {\n",
      "        \"id\": 2,\n",
      "        \"name\": \"Jane Smith\",\n",
      "        \"email\": \"janesmith@example.com\",\n",
      "        \"isActive\": false,\n",
      "        \"balance\": 500.5\n",
      "    },\n",
      "    {\n",
      "        \"id\": 3,\n",
      "        \"name\": \"Emily Jones\",\n",
      "        \"email\": \"emilyjones@example.com\",\n",
      "        \"isActive\": true,\n",
      "        \"balance\": 0.0\n",
      "    }\n",
      "]\n"
     ]
    }
   ],
   "source": [
    "bank_data_list = json.loads(bank_data)\n",
    "\n",
    "for data in bank_data_list:\n",
    "    if data[\"isActive\"] is True:\n",
    "        data[\"balance\"] += 0.10 * data[\"balance\"]\n",
    "    # print(data)\n",
    "\n",
    "bank_data_json = json.dumps(bank_data_list, indent=4)\n",
    "\n",
    "\n",
    "print(bank_data_json)"
   ]
  },
  {
   "cell_type": "markdown",
   "metadata": {},
   "source": [
    "## Task 1.2 (List comprehension)"
   ]
  },
  {
   "cell_type": "code",
   "execution_count": 40,
   "metadata": {},
   "outputs": [
    {
     "data": {
      "text/plain": [
       "'[false, true]'"
      ]
     },
     "execution_count": 40,
     "metadata": {},
     "output_type": "execute_result"
    }
   ],
   "source": [
    "bank_accounts = json.loads(bank_data)\n",
    "\n",
    "increased_balance = [account['balance'] == 1.1 * account['balance'] for account in bank_accounts if account['isActive']]\n",
    "\n",
    "bank_accounts_json = json.dumps(increased_balance)\n",
    "\n",
    "bank_accounts_json"
   ]
  },
  {
   "cell_type": "code",
   "execution_count": 13,
   "metadata": {},
   "outputs": [
    {
     "name": "stdout",
     "output_type": "stream",
     "text": [
      "[\n",
      "    {\n",
      "        \"id\": 1,\n",
      "        \"name\": \"John Doe\",\n",
      "        \"email\": \"johndoe@example.com\",\n",
      "        \"isActive\": true,\n",
      "        \"balance\": 165.82500000000002\n",
      "    },\n",
      "    {\n",
      "        \"id\": 2,\n",
      "        \"name\": \"Jane Smith\",\n",
      "        \"email\": \"janesmith@example.com\",\n",
      "        \"isActive\": false,\n",
      "        \"balance\": 500.5\n",
      "    },\n",
      "    {\n",
      "        \"id\": 3,\n",
      "        \"name\": \"Emily Jones\",\n",
      "        \"email\": \"emilyjones@example.com\",\n",
      "        \"isActive\": true,\n",
      "        \"balance\": 0.0\n",
      "    }\n",
      "]\n"
     ]
    }
   ],
   "source": [
    "def increase_bank_bal(bank_data):\n",
    "    bank_data_list = json.loads(bank_data)\n",
    "    update_accounts = [\n",
    "    {**data, \"balance\": data['balance'] * 1.10} if data['isActive'] else data for data in bank_data_list\n",
    "    ]\n",
    "    return json.dumps(update_accounts, indent=4)\n",
    "\n",
    "print(increase_bank_bal(bank_data))"
   ]
  },
  {
   "cell_type": "code",
   "execution_count": null,
   "metadata": {},
   "outputs": [
    {
     "name": "stdout",
     "output_type": "stream",
     "text": [
      "[\n",
      "    {\n",
      "        \"id\": 1,\n",
      "        \"name\": \"John Doe\",\n",
      "        \"email\": \"johndoe@example.com\",\n",
      "        \"isActive\": true,\n",
      "        \"balance\": 165.82500000000002\n",
      "    },\n",
      "    {\n",
      "        \"id\": 2,\n",
      "        \"name\": \"Jane Smith\",\n",
      "        \"email\": \"janesmith@example.com\",\n",
      "        \"isActive\": false,\n",
      "        \"balance\": 500.5\n",
      "    },\n",
      "    {\n",
      "        \"id\": 3,\n",
      "        \"name\": \"Emily Jones\",\n",
      "        \"email\": \"emilyjones@example.com\",\n",
      "        \"isActive\": true,\n",
      "        \"balance\": 0.0\n",
      "    }\n",
      "]\n"
     ]
    }
   ],
   "source": [
    "from pprint import pprint\n",
    "\n",
    "def increase_bal_10_percent(bank_data):\n",
    "    bank_accounts = json.loads(bank_data)\n",
    "    INTEREST_RATE = 1.1\n",
    "    update_accounts = [\n",
    "        {**account, \"balance\": account[\"balance\"] * INTEREST_RATE}\n",
    "        if account[\"isActive\"]\n",
    "        else account\n",
    "        for account in bank_accounts\n",
    "    ]\n",
    "\n",
    "    return json.dumps(update_accounts, indent=4)\n",
    "\n",
    "\n",
    "print(increase_bal_10_percent(bank_data))"
   ]
  },
  {
   "cell_type": "markdown",
   "metadata": {},
   "source": [
    "## Handling Files\n",
    "\n",
    "- w means write\n",
    "- r meands read\n",
    "\n",
    "\n",
    "json dump is going to convert dictionary into a json file & write to file.\n",
    "requirements:\n",
    "1. dictionary\n",
    "2. file"
   ]
  },
  {
   "cell_type": "code",
   "execution_count": 45,
   "metadata": {},
   "outputs": [
    {
     "name": "stdout",
     "output_type": "stream",
     "text": [
      "[{'id': 1, 'name': 'John Doe', 'email': 'johndoe@example.com', 'isActive': True, 'balance': 165.82500000000002}, {'id': 2, 'name': 'Jane Smith', 'email': 'janesmith@example.com', 'isActive': False, 'balance': 500.5}, {'id': 3, 'name': 'Emily Jones', 'email': 'emilyjones@example.com', 'isActive': True, 'balance': 0.0}]\n"
     ]
    }
   ],
   "source": [
    "# Write to a file\n",
    "\n",
    "from pprint import pprint\n",
    "\n",
    "\n",
    "def increase_bal_10_percent(bank_data):\n",
    "    bank_accounts = json.loads(bank_data)\n",
    "    INTEREST_RATE = 1.1\n",
    "    update_accounts = [\n",
    "        {**account, \"balance\": account[\"balance\"] * INTEREST_RATE}\n",
    "        if account[\"isActive\"]\n",
    "        else account\n",
    "        for account in bank_accounts\n",
    "    ]\n",
    "\n",
    "    return update_accounts\n",
    "\n",
    "# Dictionary\n",
    "update_accounts = increase_bal_10_percent(bank_data)\n",
    "\n",
    "print(increase_bal_10_percent(bank_data))\n",
    "\n",
    "# with -> automatically closes the file\n",
    "# we are just opening the file\n",
    "with open(\"./bank_accounts.json\", 'w') as file: # can be any extension (not json)\n",
    "    json.dump(update_accounts, file, indent=4)"
   ]
  },
  {
   "cell_type": "code",
   "execution_count": 47,
   "metadata": {},
   "outputs": [
    {
     "name": "stdout",
     "output_type": "stream",
     "text": [
      "[{'balance': 165.82500000000002,\n",
      "  'email': 'johndoe@example.com',\n",
      "  'id': 1,\n",
      "  'isActive': True,\n",
      "  'name': 'John Doe'},\n",
      " {'balance': 500.5,\n",
      "  'email': 'janesmith@example.com',\n",
      "  'id': 2,\n",
      "  'isActive': False,\n",
      "  'name': 'Jane Smith'},\n",
      " {'balance': 0.0,\n",
      "  'email': 'emilyjones@example.com',\n",
      "  'id': 3,\n",
      "  'isActive': True,\n",
      "  'name': 'Emily Jones'}]\n"
     ]
    }
   ],
   "source": [
    "# Reading the file\n",
    "\n",
    "with open(\"./bank_accounts.json\", 'r') as file:\n",
    "    accounts = json.load(file)\n",
    "    pprint(accounts)"
   ]
  },
  {
   "cell_type": "markdown",
   "metadata": {},
   "source": [
    "input for dump and load is files (not normal json)\n",
    "input for dumps and loads are variables."
   ]
  },
  {
   "cell_type": "markdown",
   "metadata": {},
   "source": [
    "## Task\n",
    "Read the json in blog_post.json and output as below in posts_summary.json\n",
    "\n",
    "### posts_summary.json\n",
    "```json\n",
    "{\n",
    "  \"posts_summary\": [\n",
    "    {\n",
    "      \"title\": \"The Future of AI\",\n",
    "      \"author\": \"Alice\",\n",
    "      \"number_of_comments\": 2\n",
    "    },\n",
    "    {\n",
    "      \"title\": \"Learning Python\",\n",
    "      \"author\": \"Bob\",\n",
    "      \"number_of_comments\": 1\n",
    "    },\n",
    "    {\n",
    "      \"title\": \"Web Development Trends\",\n",
    "      \"author\": \"Charlie\",\n",
    "      \"number_of_comments\": 0\n",
    "    }\n",
    "  ]\n",
    "}\n",
    "```"
   ]
  },
  {
   "cell_type": "code",
   "execution_count": null,
   "metadata": {},
   "outputs": [
    {
     "name": "stdout",
     "output_type": "stream",
     "text": [
      "[{'title': 'The Future of AI', 'author': 'Alice', 'published_date': '2024-01-01', 'comments': [{'user': 'Bob', 'comment': 'Great post!', 'date': '2024-01-02'}, {'user': 'Charlie', 'comment': 'Very informative.', 'date': '2024-01-03'}]}, {'title': 'Learning Python', 'author': 'Bob', 'published_date': '2024-02-15', 'comments': [{'user': 'Alice', 'comment': 'Thanks for the tips.', 'date': '2024-02-16'}]}, {'title': 'Web Development Trends', 'author': 'Charlie', 'published_date': '2024-03-01', 'comments': []}]\n"
     ]
    }
   ],
   "source": [
    "# read the json -> JSON -> Dict (load - file)\n",
    "\n",
    "def format_blog(file_path):\n",
    "    with open(file_path, 'r') as file:\n",
    "        blog = json.load(file)\n",
    "        posts = blog['posts']\n",
    "        print(posts)\n",
    "\n",
    "    output = [\n",
    "        {\n",
    "            \"title\": post['title'],\n",
    "            \"author\": post['author'],\n",
    "            \"number_of_comments\": len(post['comments'])\n",
    "        }\n",
    "              for post in posts\n",
    "              ]\n",
    "    return {\"posts_summary\": output}\n",
    "\n",
    "summary_posts = format_blog(\"./blog_post.json\")\n",
    "\n",
    "with open(\"./post_summary2.json\", 'w') as file:\n",
    "    json.dump(summary_posts, file, indent=4)\n"
   ]
  },
  {
   "cell_type": "code",
   "execution_count": null,
   "metadata": {},
   "outputs": [
    {
     "name": "stdout",
     "output_type": "stream",
     "text": [
      "[{'author': 'Alice', 'number_of_comments': 2, 'title': 'The Future of AI'},\n",
      " {'author': 'Bob', 'number_of_comments': 1, 'title': 'Learning Python'},\n",
      " {'author': 'Charlie',\n",
      "  'number_of_comments': 0,\n",
      "  'title': 'Web Development Trends'}]\n"
     ]
    }
   ],
   "source": [
    "# with -> if any error happens, it will automatically close the file\n",
    "\n",
    "with open (\"./blog_post.json\", 'r') as file:\n",
    "    blog = json.load(file)\n",
    "    posts = blog['posts'] # list in posts\n",
    "    # pprint(posts)\n",
    "\n",
    "    output = [{'title': post['title'], 'author': post['author'], 'number_of_comments': len(post['comments'])} for post in posts]\n",
    "    pprint(output)\n",
    "\n",
    "final = {'posts_summary': output}\n",
    "\n",
    "with open(\"./posts_summary.json\", 'w') as file:\n",
    "    json.dump(final, file, indent=4)"
   ]
  },
  {
   "cell_type": "markdown",
   "metadata": {},
   "source": [
    "## Retrieving data from an online place\n",
    "\n",
    "API:\n",
    "- frontend asks for data\n",
    "- using `get` method\n",
    "- backend sends data in a json format\n",
    "- url -> api \n",
    "- free api that we can use: [restcountries.com](https://restcountries.com/v3.1/all)\n",
    "\n",
    "'Fetch/XHR' will sow you JSON files in the dev console (inspect feature)"
   ]
  }
 ],
 "metadata": {
  "kernelspec": {
   "display_name": ".venv",
   "language": "python",
   "name": "python3"
  },
  "language_info": {
   "codemirror_mode": {
    "name": "ipython",
    "version": 3
   },
   "file_extension": ".py",
   "mimetype": "text/x-python",
   "name": "python",
   "nbconvert_exporter": "python",
   "pygments_lexer": "ipython3",
   "version": "3.13.2"
  }
 },
 "nbformat": 4,
 "nbformat_minor": 2
}
