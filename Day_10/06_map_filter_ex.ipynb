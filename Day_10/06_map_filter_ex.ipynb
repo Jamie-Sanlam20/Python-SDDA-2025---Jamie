{
 "cells": [
  {
   "cell_type": "markdown",
   "metadata": {},
   "source": [
    "## Task 1.1 (map or filter)\n",
    "Number letter in the name\n",
    "`[4, 8, 11, 15, 10, 4]`"
   ]
  },
  {
   "cell_type": "code",
   "execution_count": null,
   "metadata": {},
   "outputs": [],
   "source": [
    "avengers = [\n",
    "    \"Hulk\",\n",
    "    \"Iron man\",\n",
    "    \"Black widow\",\n",
    "    \"Captain america\",\n",
    "    \"Spider man\",\n",
    "    \"Thor\",\n",
    "]\n",
    "\n",
    "# Task (map or filter)\n",
    "# Number letter in the name\n",
    "# [4, 8, 11, 15, 10, 4]"
   ]
  },
  {
   "cell_type": "code",
   "execution_count": 19,
   "metadata": {},
   "outputs": [
    {
     "name": "stdout",
     "output_type": "stream",
     "text": [
      "[4, 8, 11, 15, 10, 4]\n"
     ]
    }
   ],
   "source": [
    "nums = map(lambda x: len(x), avengers)\n",
    "\n",
    "print(list(nums))\n"
   ]
  },
  {
   "cell_type": "markdown",
   "metadata": {},
   "source": [
    "## Task 1.2\n",
    " \n",
    "Find longer names more the 10 letters name and stored in a new list\n",
    " \n",
    "Output\n",
    "[\"Black widow\", \"Captain america\"]"
   ]
  },
  {
   "cell_type": "code",
   "execution_count": 21,
   "metadata": {},
   "outputs": [
    {
     "name": "stdout",
     "output_type": "stream",
     "text": [
      "['Black widow', 'Captain america']\n"
     ]
    }
   ],
   "source": [
    "gt10 = filter(lambda x: len(x) > 10, avengers)\n",
    "\n",
    "print(list(gt10))"
   ]
  },
  {
   "cell_type": "markdown",
   "metadata": {},
   "source": [
    "## Task 1.3\n",
    "\n",
    "Find the passed student's names (pass criteria >= 40)\n",
    "\n",
    "Output\n",
    "[\"Lillian Ellis\", \"Debra Beard\",  \"Nettie Hancock\" ]"
   ]
  },
  {
   "cell_type": "code",
   "execution_count": 3,
   "metadata": {},
   "outputs": [],
   "source": [
    "from pprint import pprint\n",
    "# (makes it look nicer)\n",
    "\n",
    "scores = [\n",
    "    {\n",
    "        \"marks\": 32,\n",
    "        \"name\": \"Yvette Merritt\",\n",
    "    },\n",
    "    {\n",
    "        \"marks\": 57,\n",
    "        \"name\": \"Lillian Ellis\",\n",
    "    },\n",
    "    {\n",
    "        \"marks\": 22,\n",
    "        \"name\": \"Mccall Carter\",\n",
    "    },\n",
    "    {\n",
    "        \"marks\": 21,\n",
    "        \"name\": \"Pate Collier\",\n",
    "    },\n",
    "    {\n",
    "        \"marks\": 91,\n",
    "        \"name\": \"Debra Beard\",\n",
    "    },\n",
    "    {\n",
    "        \"marks\": 75,\n",
    "        \"name\": \"Nettie Hancock\",\n",
    "    },\n",
    "    {\n",
    "        \"marks\": 20,\n",
    "        \"name\": \"Hatfield Hodge\",\n",
    "    },\n",
    "]\n"
   ]
  },
  {
   "cell_type": "code",
   "execution_count": 2,
   "metadata": {},
   "outputs": [
    {
     "name": "stdout",
     "output_type": "stream",
     "text": [
      "[{'marks': 57, 'name': 'Lillian Ellis'},\n",
      " {'marks': 91, 'name': 'Debra Beard'},\n",
      " {'marks': 75, 'name': 'Nettie Hancock'}]\n",
      "['Lillian Ellis', 'Debra Beard', 'Nettie Hancock']\n"
     ]
    }
   ],
   "source": [
    "from pprint import pprint\n",
    "# (makes it look nicer)\n",
    "\n",
    "scores = [\n",
    "    {\n",
    "        \"marks\": 32,\n",
    "        \"name\": \"Yvette Merritt\",\n",
    "    },\n",
    "    {\n",
    "        \"marks\": 57,\n",
    "        \"name\": \"Lillian Ellis\",\n",
    "    },\n",
    "    {\n",
    "        \"marks\": 22,\n",
    "        \"name\": \"Mccall Carter\",\n",
    "    },\n",
    "    {\n",
    "        \"marks\": 21,\n",
    "        \"name\": \"Pate Collier\",\n",
    "    },\n",
    "    {\n",
    "        \"marks\": 91,\n",
    "        \"name\": \"Debra Beard\",\n",
    "    },\n",
    "    {\n",
    "        \"marks\": 75,\n",
    "        \"name\": \"Nettie Hancock\",\n",
    "    },\n",
    "    {\n",
    "        \"marks\": 20,\n",
    "        \"name\": \"Hatfield Hodge\",\n",
    "    },\n",
    "]\n",
    "\n",
    "passed = list(filter(lambda x: x['marks'] >= 40, scores))\n",
    "pprint(passed)\n",
    "names = map(lambda student: student['name'], passed)\n",
    "print(list(names))"
   ]
  },
  {
   "cell_type": "code",
   "execution_count": 4,
   "metadata": {},
   "outputs": [
    {
     "name": "stdout",
     "output_type": "stream",
     "text": [
      "['Lillian Ellis', 'Debra Beard', 'Nettie Hancock']\n"
     ]
    }
   ],
   "source": [
    "names = list(\n",
    "    map(\n",
    "        lambda student: student[\"name\"],\n",
    "        filter(lambda student: student[\"marks\"] >= 40, scores),\n",
    "    )\n",
    ")\n",
    "pprint(names)\n"
   ]
  },
  {
   "cell_type": "markdown",
   "metadata": {},
   "source": [
    "## Task 1.4\n",
    "Find the topper\n",
    "\n",
    "Clue:\n",
    "Use sorted() - HOF\n",
    "\n",
    "Output\n",
    "Debra Beard"
   ]
  },
  {
   "cell_type": "code",
   "execution_count": 5,
   "metadata": {},
   "outputs": [],
   "source": [
    "scores = [\n",
    "    {\n",
    "        \"marks\": 32,\n",
    "        \"name\": \"Yvette Merritt\",\n",
    "    },\n",
    "    {\n",
    "        \"marks\": 57,\n",
    "        \"name\": \"Lillian Ellis\",\n",
    "    },\n",
    "    {\n",
    "        \"marks\": 22,\n",
    "        \"name\": \"Mccall Carter\",\n",
    "    },\n",
    "    {\n",
    "        \"marks\": 21,\n",
    "        \"name\": \"Pate Collier\",\n",
    "    },\n",
    "    {\n",
    "        \"marks\": 91,\n",
    "        \"name\": \"Debra Beard\",\n",
    "    },\n",
    "    {\n",
    "        \"marks\": 75,\n",
    "        \"name\": \"Nettie Hancock\",\n",
    "    },\n",
    "    {\n",
    "        \"marks\": 20,\n",
    "        \"name\": \"Hatfield Hodge\",\n",
    "    },\n",
    "]\n"
   ]
  },
  {
   "cell_type": "code",
   "execution_count": 6,
   "metadata": {},
   "outputs": [
    {
     "data": {
      "text/plain": [
       "'Debra Beard'"
      ]
     },
     "execution_count": 6,
     "metadata": {},
     "output_type": "execute_result"
    }
   ],
   "source": [
    "# sort\n",
    "sorted_scores = sorted(scores, key=lambda student: student[\"marks\"])\n",
    "\n",
    "topper = sorted_scores[-1]\n",
    "topper[\"name\"]\n"
   ]
  },
  {
   "cell_type": "code",
   "execution_count": 7,
   "metadata": {},
   "outputs": [
    {
     "data": {
      "text/plain": [
       "'Debra Beard'"
      ]
     },
     "execution_count": 7,
     "metadata": {},
     "output_type": "execute_result"
    }
   ],
   "source": [
    "sorted_scores = sorted(scores, reverse=True, key=lambda student: student[\"marks\"])\n",
    "# sorted(pos arg, kw arg, kw arg )\n",
    "\n",
    "topper = sorted_scores[0]\n",
    "topper[\"name\"]\n"
   ]
  }
 ],
 "metadata": {
  "kernelspec": {
   "display_name": ".venv",
   "language": "python",
   "name": "python3"
  },
  "language_info": {
   "codemirror_mode": {
    "name": "ipython",
    "version": 3
   },
   "file_extension": ".py",
   "mimetype": "text/x-python",
   "name": "python",
   "nbconvert_exporter": "python",
   "pygments_lexer": "ipython3",
   "version": "3.13.2"
  }
 },
 "nbformat": 4,
 "nbformat_minor": 2
}
