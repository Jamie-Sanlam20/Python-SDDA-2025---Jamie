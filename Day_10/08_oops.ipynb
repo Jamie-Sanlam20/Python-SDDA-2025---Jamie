{
 "cells": [
  {
   "cell_type": "markdown",
   "metadata": {},
   "source": [
    "## Paradigms (Style of code)\n",
    "- Function programming\n",
    "- OOP - Objected Oriented Programming \n",
    "- Procedural programming\n",
    "- Mathematical programming"
   ]
  },
  {
   "cell_type": "markdown",
   "metadata": {
    "vscode": {
     "languageId": "plaintext"
    }
   },
   "source": [
    "## Object Oriented Programming ?\n",
    "\n",
    "- Inspiration nature to solve complex problem\n",
    "- Programming abstract \n",
    "- Programming constructs into objects"
   ]
  },
  {
   "cell_type": "markdown",
   "metadata": {},
   "source": [
    "## Car (Blue print)\n",
    "- Wheels\n",
    "- Engine\n",
    "- model\n",
    "- Doors"
   ]
  },
  {
   "cell_type": "markdown",
   "metadata": {},
   "source": [
    "## Object\n",
    "### BMW\n",
    "- Wheels - 4\n",
    "- Engine - v8\n",
    "- model - x5\n",
    "- Doors - 4\n",
    " \n",
    "### Jeep\n",
    "- Wheels - 4\n",
    "- Engine - v6\n",
    "- model - wrangler\n",
    "- Doors - 5\n",
    " \n",
    "### Mclaren\n",
    "- Wheels - 4\n",
    "- Engine - v8\n",
    "- model - 650s\n",
    "- Doors - 2"
   ]
  },
  {
   "cell_type": "code",
   "execution_count": null,
   "metadata": {},
   "outputs": [
    {
     "name": "stdout",
     "output_type": "stream",
     "text": [
      "<__main__.Car object at 0x0000024E8B3B4AD0>\n",
      "4\n",
      "v8\n",
      "wrangler\n",
      "5\n",
      "4\n",
      "Vroom Vroom\n"
     ]
    }
   ],
   "source": [
    "# Blueprint -> Car\n",
    "class Car:\n",
    "    # method init -> Called when you create object\n",
    "    def __init__(self, wheels, engine, model, doors):\n",
    "        # self -> point to object\n",
    "        # instance variables :\n",
    "        self.wheels = wheels\n",
    "        self.engine = engine\n",
    "        self.model = model\n",
    "        self.doors = doors\n",
    "\n",
    "    # instance method\n",
    "    def horn(self): # self points to object\n",
    "        return \"Vroom Vroom\"\n",
    "\n",
    "bmw = Car(4, \"v8\", \"x5\", 4) # bmw -> object / instance\n",
    "jeep = Car(4, \"v6\", \"wrangler\", 5) # jeep -> object / instance\n",
    "mclaren = Car(4, \"v8\", \"650s\", 2) # mclaren -> object / instance\n",
    "\n",
    "# Note:\n",
    "# self points to bmw - object that you're creating\n",
    "# Car is the blueprint that we're creating\n",
    "\n",
    "print(bmw) # Car Object\n",
    "# print(bmw['wheels']) # Error ❌\n",
    "print(bmw.wheels)\n",
    "print(bmw.engine)\n",
    "print(jeep.model)\n",
    "print(jeep.doors)\n",
    "print(mclaren.wheels)\n",
    "print(bmw.horn())\n",
    "\n",
    "# Summary:\n",
    "# Class -> Data + Logic\n",
    "# holds all instance variables - containing Data\n",
    "# instance methods - Logic"
   ]
  }
 ],
 "metadata": {
  "kernelspec": {
   "display_name": ".venv",
   "language": "python",
   "name": "python3"
  },
  "language_info": {
   "codemirror_mode": {
    "name": "ipython",
    "version": 3
   },
   "file_extension": ".py",
   "mimetype": "text/x-python",
   "name": "python",
   "nbconvert_exporter": "python",
   "pygments_lexer": "ipython3",
   "version": "3.13.2"
  }
 },
 "nbformat": 4,
 "nbformat_minor": 2
}
