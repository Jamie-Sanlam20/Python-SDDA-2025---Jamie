{
 "cells": [
  {
   "cell_type": "markdown",
   "metadata": {},
   "source": [
    "Falsy\n",
    "If a value converts to false then its falsy\n",
    "\n",
    "1. False\n",
    "2. None\n",
    "3. 0\n",
    "4. []\n",
    "5. \"\"\n",
    "6. {}\n",
    "7. ()\n",
    "8. set()\n",
    "\n",
    "\n",
    "Truthy - If it is not on the above table\n",
    "If a value converts to true then its truthy"
   ]
  },
  {
   "cell_type": "code",
   "execution_count": 1,
   "metadata": {},
   "outputs": [
    {
     "name": "stdout",
     "output_type": "stream",
     "text": [
      "cool\n"
     ]
    }
   ],
   "source": [
    "x = [0]\n",
    "\n",
    "\n",
    "# if (condition) -> DataType? -> Boolean\n",
    "# More to the puzzle\n",
    "\n",
    "if x:\n",
    "    print(\"cool\")\n",
    "else:\n",
    "    print(\"super\")\n"
   ]
  },
  {
   "cell_type": "code",
   "execution_count": 2,
   "metadata": {},
   "outputs": [
    {
     "name": "stdout",
     "output_type": "stream",
     "text": [
      "Come after few years 👶🍼\n"
     ]
    }
   ],
   "source": [
    "age = 10\n",
    "\n",
    "if age >= 18:\n",
    "    print(\"Eligible for driving test ✅\")\n",
    "else:\n",
    "    print(\"Come after few years 👶🍼\")\n"
   ]
  }
 ],
 "metadata": {
  "kernelspec": {
   "display_name": ".venv",
   "language": "python",
   "name": "python3"
  },
  "language_info": {
   "codemirror_mode": {
    "name": "ipython",
    "version": 3
   },
   "file_extension": ".py",
   "mimetype": "text/x-python",
   "name": "python",
   "nbconvert_exporter": "python",
   "pygments_lexer": "ipython3",
   "version": "3.13.2"
  }
 },
 "nbformat": 4,
 "nbformat_minor": 2
}
