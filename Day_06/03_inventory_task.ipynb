{
 "cells": [
  {
   "cell_type": "code",
   "execution_count": 5,
   "metadata": {},
   "outputs": [
    {
     "name": "stdout",
     "output_type": "stream",
     "text": [
      "orange\n",
      "90\n",
      "0.8\n"
     ]
    }
   ],
   "source": [
    "inventory = [\n",
    "    {\"name\": \"Apple 🍎\", \"quantity\": 30, \"price\": 0.50},\n",
    "    {\"name\": \"Banana 🍌\", \"quantity\": 20, \"price\": 0.20},\n",
    "]\n",
    "\n",
    "item_name = input(\"What is the product name?\")\n",
    "item_qty = int(input(\"What is the quantity?\"))\n",
    "item_price = float(input(\"What is the price?\"))\n",
    "\n",
    "print(item_name)\n",
    "print(item_qty)\n",
    "print(item_price)\n",
    "\n",
    "product = {\"name\": item_name, \"quantity\": item_qty, \"price\": item_price}\n",
    "inventory.append(product)\n",
    "\n",
    "# inventory\n",
    "# Would you like add another product?\n"
   ]
  },
  {
   "cell_type": "code",
   "execution_count": null,
   "metadata": {},
   "outputs": [],
   "source": [
    "inventory = [\n",
    "    {\"name\": \"Apple 🍎\", \"quantity\": 30, \"price\": 0.50},\n",
    "    {\"name\": \"Banana 🍌\", \"quantity\": 20, \"price\": 0.20},\n",
    "]\n",
    "\n",
    "item_name = input(\"What is the product name?\")\n",
    "item_qty = int(input(\"What is the quantity?\"))\n",
    "item_price = float(input(\"What is the price?\"))\n",
    "\n",
    "print(item_name)\n",
    "print(item_qty)\n",
    "print(item_price)\n",
    "\n",
    "product = {\"name\": item_name, \"quantity\": item_qty, \"price\": item_price}\n",
    "inventory.append(product)\n",
    "\n",
    "# inventory\n",
    "# Would you like add another product? (Y/N)  Y\n"
   ]
  },
  {
   "cell_type": "code",
   "execution_count": null,
   "metadata": {},
   "outputs": [],
   "source": [
    "inventory = [\n",
    "    {\"name\": \"Apple 🍎\", \"quantity\": 30, \"price\": 0.50},\n",
    "    {\"name\": \"Banana 🍌\", \"quantity\": 20, \"price\": 0.20},\n",
    "]\n",
    "\n",
    "proceed = \"y\"\n",
    "\n",
    "while proceed == \"y\":\n",
    "    item_name = input(\"What is the product name?\")\n",
    "    item_qty = int(input(\"What is the quantity?\"))\n",
    "    item_price = float(input(\"What is the price?\"))\n",
    "\n",
    "    product = {\"name\": item_name, \"quantity\": item_qty, \"price\": item_price}\n",
    "    inventory.append(product)\n",
    "    print(inventory)\n",
    "    proceed = input(\"Would you like add another product? (Y/N)\").lower()\n",
    "    if proceed == \"n\":\n",
    "        break\n"
   ]
  },
  {
   "cell_type": "code",
   "execution_count": null,
   "metadata": {},
   "outputs": [],
   "source": [
    "inventory = [\n",
    "    {\"name\": \"Apple 🍎\", \"quantity\": 30, \"price\": 0.50},\n",
    "    {\"name\": \"Banana 🍌\", \"quantity\": 20, \"price\": 0.20},\n",
    "]\n",
    "\n",
    "proceed = \"y\"\n",
    "\n",
    "# Loop, Condition, Op, input, dict, List\n",
    "while proceed == \"y\":\n",
    "    item_name = input(\"What is the product name?\")\n",
    "    item_qty = int(input(\"What is the quantity?\"))\n",
    "    item_price = float(input(\"What is the price?\"))\n",
    "\n",
    "    product = {\"name\": item_name, \"quantity\": item_qty, \"price\": item_price}\n",
    "    inventory.append(product)\n",
    "    print(inventory)\n",
    "    proceed = input(\"Would you like add another product? (Y/N)\").lower()\n"
   ]
  },
  {
   "cell_type": "code",
   "execution_count": null,
   "metadata": {},
   "outputs": [],
   "source": [
    "count = 1\n",
    "while True:\n",
    "    print(\"Hello\")\n",
    "    count += 1\n",
    "    if count == 10:\n",
    "        break\n",
    "\n",
    "# break -> stops the loop\n"
   ]
  },
  {
   "cell_type": "code",
   "execution_count": null,
   "metadata": {},
   "outputs": [],
   "source": [
    "count = 1\n",
    "while count <= 10:\n",
    "    print(\"Hello\")\n",
    "    count += 1\n"
   ]
  }
 ],
 "metadata": {
  "kernelspec": {
   "display_name": ".venv",
   "language": "python",
   "name": "python3"
  },
  "language_info": {
   "codemirror_mode": {
    "name": "ipython",
    "version": 3
   },
   "file_extension": ".py",
   "mimetype": "text/x-python",
   "name": "python",
   "nbconvert_exporter": "python",
   "pygments_lexer": "ipython3",
   "version": "3.13.2"
  }
 },
 "nbformat": 4,
 "nbformat_minor": 2
}
