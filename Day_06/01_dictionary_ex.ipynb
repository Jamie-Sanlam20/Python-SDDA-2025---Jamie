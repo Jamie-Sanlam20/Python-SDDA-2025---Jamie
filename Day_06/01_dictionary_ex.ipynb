{
 "cells": [
  {
   "cell_type": "markdown",
   "metadata": {},
   "source": [
    "# Ragav's Answers"
   ]
  },
  {
   "cell_type": "markdown",
   "metadata": {
    "vscode": {
     "languageId": "plaintext"
    }
   },
   "source": [
    "## Task 1.1\n",
    "Please provide the list of book titles\n",
    "\n",
    "\n",
    "```python\n",
    "books = [\n",
    "    {\"title\": \"Infinite Jest\", \"rating\": 4.5, \"genre\": \"Fiction\"},\n",
    "    {\"title\": \"The Catcher in the Rye\", \"rating\": 3.9, \"genre\": \"Fiction\"},\n",
    "    {\"title\": \"Sapiens\", \"rating\": 4.9, \"genre\": \"History\"},\n",
    "    {\"title\": \"A Brief History of Time\", \"rating\": 4.8, \"genre\": \"Science\"},\n",
    "    {\"title\": \"Clean Code\", \"rating\": 4.7, \"genre\": \"Technology\"},\n",
    "]\n",
    "\n",
    "```\n",
    "\n",
    "### Expected Output\n",
    "```\n",
    "[\"Infinite Jest\",  \"The Catcher in the Rye\", \"Sapiens\",  \"A Brief History of Time\",  \"Clean Code\"]\n",
    "```"
   ]
  },
  {
   "cell_type": "code",
   "execution_count": 1,
   "metadata": {},
   "outputs": [
    {
     "name": "stdout",
     "output_type": "stream",
     "text": [
      "['Infinite Jest', 'The Catcher in the Rye', 'Sapiens', 'A Brief History of Time', 'Clean Code']\n"
     ]
    }
   ],
   "source": [
    "marks = [90, 80, 60, 70]  # List of int\n",
    "\n",
    "books = [\n",
    "    {\"title\": \"Infinite Jest\", \"rating\": 4.5, \"genre\": \"Fiction\"},\n",
    "    {\"title\": \"The Catcher in the Rye\", \"rating\": 3.9, \"genre\": \"Fiction\"},\n",
    "    {\"title\": \"Sapiens\", \"rating\": 4.9, \"genre\": \"History\"},\n",
    "    {\"title\": \"A Brief History of Time\", \"rating\": 4.8, \"genre\": \"Science\"},\n",
    "    {\"title\": \"Clean Code\", \"rating\": 4.7, \"genre\": \"Technology\"},\n",
    "]  # List of dict\n",
    "\n",
    "titles = []\n",
    "\n",
    "# Convention\n",
    "for book in books:\n",
    "    titles.append(book[\"title\"])\n",
    "\n",
    "print(titles)\n"
   ]
  },
  {
   "cell_type": "markdown",
   "metadata": {},
   "source": [
    "## Task 1.2\n",
    "Please provide the only Fiction books\n",
    "\n",
    "\n",
    "### Expected Output\n",
    "```\n",
    "[\"Infinite Jest\",  \"The Catcher in the Rye\"]\n",
    "```"
   ]
  },
  {
   "cell_type": "code",
   "execution_count": 2,
   "metadata": {},
   "outputs": [
    {
     "name": "stdout",
     "output_type": "stream",
     "text": [
      "['Infinite Jest', 'The Catcher in the Rye']\n"
     ]
    }
   ],
   "source": [
    "fiction_books = []\n",
    "\n",
    "# Convention\n",
    "for book in books:\n",
    "    if book[\"genre\"].lower() == \"fiction\":\n",
    "        fiction_books.append(book[\"title\"])\n",
    "\n",
    "print(fiction_books)\n"
   ]
  },
  {
   "cell_type": "markdown",
   "metadata": {},
   "source": [
    "## Task 1.3 (Challenging)\n",
    "Please provide Highest rated books (>= 4.7)\n",
    "\n",
    "\n",
    "### Expected Output\n",
    "```\n",
    "Highest rated books are: Sapiens, A Brief History of Time and Clean Code \n",
    "```"
   ]
  },
  {
   "cell_type": "code",
   "execution_count": null,
   "metadata": {},
   "outputs": [],
   "source": [
    "\n",
    "# Case 3: (General Scenario)\n",
    "# There are two more\n",
    "# Highest rated books are: Sapiens, A Brief History of Time and Clean Code"
   ]
  },
  {
   "cell_type": "code",
   "execution_count": 4,
   "metadata": {},
   "outputs": [
    {
     "data": {
      "text/plain": [
       "'Highest rated books are: The Catcher in the Rye, Sapiens, A Brief History of Time and Clean Code'"
      ]
     },
     "execution_count": 4,
     "metadata": {},
     "output_type": "execute_result"
    }
   ],
   "source": [
    "books = [\n",
    "    {\"title\": \"Infinite Jest\", \"rating\": 4.5, \"genre\": \"Fiction\"},\n",
    "    {\"title\": \"The Catcher in the Rye\", \"rating\": 4.9, \"genre\": \"Fiction\"},\n",
    "    {\"title\": \"Sapiens\", \"rating\": 4.9, \"genre\": \"History\"},\n",
    "    {\"title\": \"A Brief History of Time\", \"rating\": 4.8, \"genre\": \"Science\"},\n",
    "    {\"title\": \"Clean Code\", \"rating\": 4.7, \"genre\": \"Technology\"},\n",
    "]  # List of dict\n",
    "\n",
    "highest_rated_books = []\n",
    "\n",
    "for book in books:\n",
    "    if book[\"rating\"] >= 4.7:\n",
    "        highest_rated_books.append(book[\"title\"])\n",
    "\n",
    "f\"Highest rated books are: {', '.join(highest_rated_books[0:-1])} and {highest_rated_books[-1]}\"\n"
   ]
  },
  {
   "cell_type": "code",
   "execution_count": 5,
   "metadata": {},
   "outputs": [],
   "source": [
    "# Case 1:\n",
    "# There no books which are >= 4.7\n",
    "# The are no good books available 😔\n"
   ]
  },
  {
   "cell_type": "code",
   "execution_count": 7,
   "metadata": {},
   "outputs": [
    {
     "name": "stdout",
     "output_type": "stream",
     "text": [
      "The are no good books available 😔 at this movement\n"
     ]
    }
   ],
   "source": [
    "books = [\n",
    "    {\"title\": \"Infinite Jest\", \"rating\": 3.5, \"genre\": \"Fiction\"},\n",
    "    {\"title\": \"The Catcher in the Rye\", \"rating\": 3.9, \"genre\": \"Fiction\"},\n",
    "    {\"title\": \"Sapiens\", \"rating\": 3.9, \"genre\": \"History\"},\n",
    "    {\"title\": \"A Brief History of Time\", \"rating\": 3.8, \"genre\": \"Science\"},\n",
    "    {\"title\": \"Clean Code\", \"rating\": 3.7, \"genre\": \"Technology\"},\n",
    "]  # List of dict\n",
    "\n",
    "highest_rated_books = []\n",
    "\n",
    "for book in books:\n",
    "    if book[\"rating\"] >= 4.7:\n",
    "        highest_rated_books.append(book[\"title\"])\n",
    "\n",
    "if len(highest_rated_books) == 0:\n",
    "    print(\"The are no good books available 😔 at this movement\")\n",
    "\n",
    "else:\n",
    "    print(\n",
    "        f\"Highest rated books are: {', '.join(highest_rated_books[0:-1])} and {highest_rated_books[-1]}\"\n",
    "    )"
   ]
  },
  {
   "cell_type": "code",
   "execution_count": 8,
   "metadata": {},
   "outputs": [],
   "source": [
    "# Case 1:\n",
    "# There no books which are >= 4.7\n",
    "# The are no good books available 😔\n",
    "\n",
    "# Case 2:\n",
    "# There is only one\n",
    "# Highest rated books is Sapiens\n",
    "\n",
    "# Case 3:\n",
    "# There are two more\n",
    "# Highest rated books are: Sapiens, A Brief History of Time and Clean Code\n"
   ]
  },
  {
   "cell_type": "code",
   "execution_count": 9,
   "metadata": {},
   "outputs": [
    {
     "name": "stdout",
     "output_type": "stream",
     "text": [
      "Highest rated books is: A Brief History of Time\n"
     ]
    }
   ],
   "source": [
    "books = [\n",
    "    {\"title\": \"Infinite Jest\", \"rating\": 3.5, \"genre\": \"Fiction\"},\n",
    "    {\"title\": \"The Catcher in the Rye\", \"rating\": 3.9, \"genre\": \"Fiction\"},\n",
    "    {\"title\": \"Sapiens\", \"rating\": 3.9, \"genre\": \"History\"},\n",
    "    {\"title\": \"A Brief History of Time\", \"rating\": 4.8, \"genre\": \"Science\"},\n",
    "    {\"title\": \"Clean Code\", \"rating\": 3.7, \"genre\": \"Technology\"},\n",
    "]  # List of dict\n",
    "\n",
    "highest_rated_books = []\n",
    "\n",
    "for book in books:\n",
    "    if book[\"rating\"] >= 4.7:\n",
    "        highest_rated_books.append(book[\"title\"])\n",
    "\n",
    "# Keep your -ve case at the top\n",
    "if len(highest_rated_books) == 0:\n",
    "    print(\"The are no good books available 😔 at this movement\")\n",
    "elif len(highest_rated_books) == 1:\n",
    "    print(f\"Highest rated books is: {highest_rated_books[0]}\")\n",
    "else:\n",
    "    print(\n",
    "        f\"Highest rated books are: {', '.join(highest_rated_books[0:-1])} and {highest_rated_books[-1]}\"\n",
    "    )\n"
   ]
  }
 ],
 "metadata": {
  "kernelspec": {
   "display_name": ".venv",
   "language": "python",
   "name": "python3"
  },
  "language_info": {
   "codemirror_mode": {
    "name": "ipython",
    "version": 3
   },
   "file_extension": ".py",
   "mimetype": "text/x-python",
   "name": "python",
   "nbconvert_exporter": "python",
   "pygments_lexer": "ipython3",
   "version": "3.13.2"
  }
 },
 "nbformat": 4,
 "nbformat_minor": 2
}
