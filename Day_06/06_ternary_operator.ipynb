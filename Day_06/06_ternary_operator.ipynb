{
 "cells": [
  {
   "cell_type": "markdown",
   "metadata": {},
   "source": [
    "# Ternary Operator\n",
    "\n",
    "```py\n",
    "result = value_if_true if condition else value_if_false\n",
    "```"
   ]
  },
  {
   "cell_type": "code",
   "execution_count": 3,
   "metadata": {},
   "outputs": [
    {
     "name": "stdout",
     "output_type": "stream",
     "text": [
      "Come after few years 👶🍼\n"
     ]
    }
   ],
   "source": [
    "# Original\n",
    "\n",
    "age = 10\n",
    "\n",
    "if age >= 18:\n",
    "    print(\"Eligible for driving test ✅\")\n",
    "else:\n",
    "    print(\"Come after few years 👶🍼\")\n"
   ]
  },
  {
   "cell_type": "code",
   "execution_count": null,
   "metadata": {},
   "outputs": [
    {
     "name": "stdout",
     "output_type": "stream",
     "text": [
      "Come after few years 👶🍼\n"
     ]
    }
   ],
   "source": [
    "age = 10\n",
    "\n",
    "result = (\n",
    "    \"Eligible for driving test ✅\" if age >= 18 else \"Come after few years 👶🍼\"\n",
    ")  # Ternary operator\n",
    "print(result)\n",
    "\n",
    "# Statement 1 if condition is true else Statement 2\n"
   ]
  },
  {
   "cell_type": "code",
   "execution_count": 2,
   "metadata": {},
   "outputs": [
    {
     "name": "stdout",
     "output_type": "stream",
     "text": [
      "super\n"
     ]
    }
   ],
   "source": [
    "x = []\n",
    "print(\"cool\" if x else \"super\")\n"
   ]
  }
 ],
 "metadata": {
  "kernelspec": {
   "display_name": ".venv",
   "language": "python",
   "name": "python3"
  },
  "language_info": {
   "codemirror_mode": {
    "name": "ipython",
    "version": 3
   },
   "file_extension": ".py",
   "mimetype": "text/x-python",
   "name": "python",
   "nbconvert_exporter": "python",
   "pygments_lexer": "ipython3",
   "version": "3.13.2"
  }
 },
 "nbformat": 4,
 "nbformat_minor": 2
}
