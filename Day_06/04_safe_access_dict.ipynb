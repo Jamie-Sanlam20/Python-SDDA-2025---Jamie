{
 "cells": [
  {
   "cell_type": "code",
   "execution_count": 30,
   "metadata": {},
   "outputs": [
    {
     "ename": "KeyError",
     "evalue": "'height'",
     "output_type": "error",
     "traceback": [
      "\u001b[1;31m---------------------------------------------------------------------------\u001b[0m",
      "\u001b[1;31mKeyError\u001b[0m                                  Traceback (most recent call last)",
      "Cell \u001b[1;32mIn[30], line 9\u001b[0m\n\u001b[0;32m      1\u001b[0m spiderman \u001b[38;5;241m=\u001b[39m {\n\u001b[0;32m      2\u001b[0m     \u001b[38;5;124m\"\u001b[39m\u001b[38;5;124mname\u001b[39m\u001b[38;5;124m\"\u001b[39m: \u001b[38;5;124m\"\u001b[39m\u001b[38;5;124mPeter Parker\u001b[39m\u001b[38;5;124m\"\u001b[39m,\n\u001b[0;32m      3\u001b[0m     \u001b[38;5;124m\"\u001b[39m\u001b[38;5;124mage\u001b[39m\u001b[38;5;124m\"\u001b[39m: \u001b[38;5;241m18\u001b[39m,\n\u001b[0;32m      4\u001b[0m     \u001b[38;5;124m\"\u001b[39m\u001b[38;5;124mteam_name\u001b[39m\u001b[38;5;124m\"\u001b[39m: \u001b[38;5;124m\"\u001b[39m\u001b[38;5;124mAvengers\u001b[39m\u001b[38;5;124m\"\u001b[39m,\n\u001b[0;32m      5\u001b[0m     \u001b[38;5;124m\"\u001b[39m\u001b[38;5;124mteam\u001b[39m\u001b[38;5;124m\"\u001b[39m: [\u001b[38;5;124m\"\u001b[39m\u001b[38;5;124mIron Man\u001b[39m\u001b[38;5;124m\"\u001b[39m, \u001b[38;5;124m\"\u001b[39m\u001b[38;5;124mThor\u001b[39m\u001b[38;5;124m\"\u001b[39m, \u001b[38;5;124m\"\u001b[39m\u001b[38;5;124mHulk\u001b[39m\u001b[38;5;124m\"\u001b[39m, \u001b[38;5;124m\"\u001b[39m\u001b[38;5;124mCaptain America\u001b[39m\u001b[38;5;124m\"\u001b[39m],\n\u001b[0;32m      6\u001b[0m }\n\u001b[1;32m----> 9\u001b[0m \u001b[38;5;28mprint\u001b[39m(\u001b[43mspiderman\u001b[49m\u001b[43m[\u001b[49m\u001b[38;5;124;43m\"\u001b[39;49m\u001b[38;5;124;43mheight\u001b[39;49m\u001b[38;5;124;43m\"\u001b[39;49m\u001b[43m]\u001b[49m)  \u001b[38;5;66;03m# KeyError ->  'height' key doesn't exist\u001b[39;00m\n",
      "\u001b[1;31mKeyError\u001b[0m: 'height'"
     ]
    }
   ],
   "source": [
    "spiderman = {\n",
    "    \"name\": \"Peter Parker\",\n",
    "    \"age\": 18,\n",
    "    \"team_name\": \"Avengers\",\n",
    "    \"team\": [\"Iron Man\", \"Thor\", \"Hulk\", \"Captain America\"],\n",
    "}\n",
    "\n",
    "\n",
    "print(spiderman[\"height\"])  # KeyError ->  'height' key doesn't exist\n"
   ]
  },
  {
   "cell_type": "code",
   "execution_count": 31,
   "metadata": {},
   "outputs": [
    {
     "name": "stdout",
     "output_type": "stream",
     "text": [
      "185\n"
     ]
    }
   ],
   "source": [
    "captain_america = {\"name\": \"Steve Rogers 🦸‍♂️\", \"age\": 100, \"height\": 185}\n",
    "\n",
    "\n",
    "print(captain_america[\"height\"])\n"
   ]
  },
  {
   "cell_type": "code",
   "execution_count": null,
   "metadata": {},
   "outputs": [
    {
     "data": {
      "text/plain": [
       "18"
      ]
     },
     "execution_count": 33,
     "metadata": {},
     "output_type": "execute_result"
    }
   ],
   "source": [
    "spiderman = {\n",
    "    \"name\": \"Peter Parker\",\n",
    "    \"age\": 18,\n",
    "    \"team_name\": \"Avengers\",\n",
    "    \"team\": [\"Iron Man\", \"Thor\", \"Hulk\", \"Captain America\"],\n",
    "}\n",
    "\n",
    "spiderman.get(\"age\") # alternative way to retrieve data -> spiderman['age']\n"
   ]
  },
  {
   "cell_type": "code",
   "execution_count": null,
   "metadata": {},
   "outputs": [],
   "source": [
    "print(spiderman.get(\"height\"))  # Returns: None ✅ # Safe access of value\n",
    "print(spiderman[\"height\"])  # KeyError ❌\n"
   ]
  },
  {
   "cell_type": "code",
   "execution_count": null,
   "metadata": {},
   "outputs": [
    {
     "name": "stdout",
     "output_type": "stream",
     "text": [
      "None\n"
     ]
    }
   ],
   "source": [
    "captain_america = {\n",
    "    \"name\": \"Steve Rogers 🦸‍♂️\",\n",
    "    \"age\": 100,\n",
    "    \"height\": 185,\n",
    "    \"address\": {\"city\": \"Brooklyn\", \"country\": \"US\"},\n",
    "}\n",
    "\n",
    "\n",
    "spiderman = {\n",
    "    \"name\": \"Peter Parker\",\n",
    "    \"age\": 18,\n",
    "    \"team_name\": \"Avengers\",\n",
    "    \"team\": [\"Iron Man\", \"Thor\", \"Hulk\", \"Captain America\"],\n",
    "    \"address\": {},\n",
    "}\n",
    "\n",
    "captain_america[\"address\"][\"city\"]  # 'Brooklyn'\n",
    "\n",
    "\n",
    "# spiderman['address']['city']  # KeyError\n",
    "print(spiderman.get(\"address\").get(\"city\")) # Won't give you a Key Error\n"
   ]
  },
  {
   "cell_type": "code",
   "execution_count": 35,
   "metadata": {},
   "outputs": [
    {
     "data": {
      "text/plain": [
       "'Brooklyn'"
      ]
     },
     "execution_count": 35,
     "metadata": {},
     "output_type": "execute_result"
    }
   ],
   "source": [
    "captain_america.get(\"address\").get(\"city\")\n"
   ]
  },
  {
   "cell_type": "code",
   "execution_count": 36,
   "metadata": {},
   "outputs": [
    {
     "data": {
      "text/plain": [
       "175"
      ]
     },
     "execution_count": 36,
     "metadata": {},
     "output_type": "execute_result"
    }
   ],
   "source": [
    "spiderman = {\n",
    "    \"name\": \"Peter Parker\",\n",
    "    \"age\": 18,\n",
    "    \"team_name\": \"Avengers\",\n",
    "    \"team\": [\"Iron Man\", \"Thor\", \"Hulk\", \"Captain America\"],\n",
    "    \"address\": {},\n",
    "}\n",
    "\n",
    "spiderman.get(\"height\", 175)  # Default value\n",
    "# -> will show this height value if there's no key & value pair for height"
   ]
  },
  {
   "cell_type": "code",
   "execution_count": null,
   "metadata": {},
   "outputs": [],
   "source": [
    "spiderman = {\n",
    "    \"name\": \"Peter Parker\",\n",
    "    \"age\": 18,\n",
    "    \"team_name\": \"Avengers\",\n",
    "    \"team\": [\"Iron Man\", \"Thor\", \"Hulk\", \"Captain America\"],\n",
    "    \"height\": 185,\n",
    "    \"address\": {},\n",
    "}\n",
    "\n",
    "spiderman.get(\n",
    "    \"height\", 175\n",
    ")  # Default value: Default value is only taken if value does not exist\n",
    "# returns: 185 (not default)"
   ]
  },
  {
   "cell_type": "code",
   "execution_count": null,
   "metadata": {},
   "outputs": [
    {
     "ename": "AttributeError",
     "evalue": "'NoneType' object has no attribute 'get'",
     "output_type": "error",
     "traceback": [
      "\u001b[1;31m---------------------------------------------------------------------------\u001b[0m",
      "\u001b[1;31mAttributeError\u001b[0m                            Traceback (most recent call last)",
      "Cell \u001b[1;32mIn[37], line 20\u001b[0m\n\u001b[0;32m     16\u001b[0m captain_america\u001b[38;5;241m.\u001b[39mget(\u001b[38;5;124m\"\u001b[39m\u001b[38;5;124maddress\u001b[39m\u001b[38;5;124m\"\u001b[39m)\u001b[38;5;241m.\u001b[39mget(\u001b[38;5;124m\"\u001b[39m\u001b[38;5;124mcity\u001b[39m\u001b[38;5;124m\"\u001b[39m)  \u001b[38;5;66;03m# 'Brooklyn'\u001b[39;00m\n\u001b[0;32m     18\u001b[0m \u001b[38;5;66;03m# spiderman['address']['city']  # KeyError\u001b[39;00m\n\u001b[0;32m     19\u001b[0m \u001b[38;5;66;03m# spiderman.get('address') -> None\u001b[39;00m\n\u001b[1;32m---> 20\u001b[0m \u001b[38;5;28mprint\u001b[39m(\u001b[43mspiderman\u001b[49m\u001b[38;5;241;43m.\u001b[39;49m\u001b[43mget\u001b[49m\u001b[43m(\u001b[49m\u001b[38;5;124;43m\"\u001b[39;49m\u001b[38;5;124;43maddress\u001b[39;49m\u001b[38;5;124;43m\"\u001b[39;49m\u001b[43m)\u001b[49m\u001b[38;5;241;43m.\u001b[39;49m\u001b[43mget\u001b[49m(\u001b[38;5;124m\"\u001b[39m\u001b[38;5;124mcity\u001b[39m\u001b[38;5;124m\"\u001b[39m))  \u001b[38;5;66;03m# Error \u001b[39;00m\n\u001b[0;32m     21\u001b[0m \u001b[38;5;66;03m# the first get. returns 'None' -> None is a datatype -> second get: reads as None.get -> Error \u001b[39;00m\n",
      "\u001b[1;31mAttributeError\u001b[0m: 'NoneType' object has no attribute 'get'"
     ]
    }
   ],
   "source": [
    "captain_america = {\n",
    "    \"name\": \"Steve Rogers 🦸‍♂️\",\n",
    "    \"age\": 100,\n",
    "    \"height\": 185,\n",
    "    \"address\": {\"city\": \"Brooklyn\", \"country\": \"US\"},\n",
    "}\n",
    "\n",
    "\n",
    "spiderman = {\n",
    "    \"name\": \"Peter Parker\",\n",
    "    \"age\": 18,\n",
    "    \"team_name\": \"Avengers\",\n",
    "    \"team\": [\"Iron Man\", \"Thor\", \"Hulk\", \"Captain America\"],\n",
    "}\n",
    "\n",
    "captain_america.get(\"address\").get(\"city\")  # 'Brooklyn'\n",
    "\n",
    "# spiderman['address']['city']  # KeyError\n",
    "# spiderman.get('address') -> None\n",
    "print(spiderman.get(\"address\").get(\"city\"))  # Error\n",
    "# the first get. returns 'None' -> None is a datatype -> second get: reads as None.get -> Error\n"
   ]
  },
  {
   "cell_type": "code",
   "execution_count": null,
   "metadata": {},
   "outputs": [
    {
     "name": "stdout",
     "output_type": "stream",
     "text": [
      "None\n",
      "None\n"
     ]
    }
   ],
   "source": [
    "captain_america = {\n",
    "    \"name\": \"Steve Rogers 🦸‍♂️\",\n",
    "    \"age\": 100,\n",
    "    \"height\": 185,\n",
    "    \"address\": {\"city\": \"Brooklyn\", \"country\": \"US\"},\n",
    "}\n",
    "\n",
    "\n",
    "spiderman = {\n",
    "    \"name\": \"Peter Parker\",\n",
    "    \"age\": 18,\n",
    "    \"team_name\": \"Avengers\",\n",
    "    \"team\": [\"Iron Man\", \"Thor\", \"Hulk\", \"Captain America\"],\n",
    "}\n",
    "\n",
    "captain_america.get(\"address\").get(\"city\")  # 'Brooklyn'\n",
    "\n",
    "# spiderman['address']['city']  # KeyError\n",
    "# spiderman.get('address') -> None\n",
    "print(spiderman.get(\"address\", {}).get(\"city\"))  # Make's an empty dictionary the default value (if non-existent)\n",
    "\n",
    "print(spiderman.get(\"address\", {}).get(\"city\", {}).get(\"street\")) # Won't return error\n",
    "\n",
    "# # Defensive\n",
    "# if spiderman.get('address') != None:\n",
    "#     spiderman.get('address').get(\"city\")\n"
   ]
  },
  {
   "cell_type": "code",
   "execution_count": null,
   "metadata": {},
   "outputs": [
    {
     "name": "stdout",
     "output_type": "stream",
     "text": [
      "Steve Rogers 🦸‍♂️ lives in Brooklyn\n",
      "Peter Parker location is Top Secret 🔒\n",
      "Bruce Banner location is Top Secret 🔒\n"
     ]
    }
   ],
   "source": [
    "# Task\n",
    "\n",
    "captain_america = {\n",
    "    \"name\": \"Steve Rogers 🦸‍♂️\",\n",
    "    \"age\": 100,\n",
    "    \"height\": 185,\n",
    "    \"address\": {\n",
    "        \"city\": \"Brooklyn\",\n",
    "        \"country\": \"US\"\n",
    "    }\n",
    "}\n",
    "\n",
    "\n",
    "spiderman = {\n",
    "    \"name\": \"Peter Parker\",\n",
    "    \"age\": 18,\n",
    "    \"team_name\": \"Avengers\",\n",
    "    \"team\": [\"Iron Man\", \"Thor\", \"Hulk\", \"Captain America\"],\n",
    "}\n",
    "\n",
    "hulk = {\n",
    "    \"name\": \"Bruce Banner\",\n",
    "    \"age\": 35,\n",
    "}\n",
    "\n",
    "heroes = [captain_america, spiderman, hulk]\n",
    "\n",
    "# Output\n",
    "# Steve Rogers 🦸‍♂️ lives in Brooklyn\n",
    "# Peter Parker location is Top Secret 🔒\n",
    "# Bruce Banner location is Top Secret 🔒\n",
    "\n",
    "for hero in heroes:\n",
    "    if hero.get(\"address\") is None: # do not use == None\n",
    "        print(f\"{hero.get('name')} location is Top Secret 🔒\")\n",
    "    else:\n",
    "        print(f\"{hero.get('name')} lives in {hero.get('address').get('city')}\")\n"
   ]
  },
  {
   "cell_type": "code",
   "execution_count": 39,
   "metadata": {},
   "outputs": [
    {
     "name": "stdout",
     "output_type": "stream",
     "text": [
      "Steve Rogers 🦸‍♂️  lives in Brooklyn\n",
      "Peter Parker location is Top Secret 🔒\n",
      "Bruce Banner location is Top Secret 🔒\n"
     ]
    }
   ],
   "source": [
    "# Ragav's answer\n",
    "\n",
    "captain_america = {\n",
    "    \"name\": \"Steve Rogers 🦸‍♂️\",\n",
    "    \"age\": 100,\n",
    "    \"height\": 185,\n",
    "    \"address\": {\"city\": \"Brooklyn\", \"country\": \"US\"},\n",
    "}\n",
    "\n",
    "\n",
    "spiderman = {\n",
    "    \"name\": \"Peter Parker\",\n",
    "    \"age\": 18,\n",
    "    \"team_name\": \"Avengers\",\n",
    "    \"team\": [\"Iron Man\", \"Thor\", \"Hulk\", \"Captain America\"],\n",
    "}\n",
    "\n",
    "hulk = {\n",
    "    \"name\": \"Bruce Banner\",\n",
    "    \"age\": 35,\n",
    "}\n",
    "\n",
    "heroes = [captain_america, spiderman, hulk]\n",
    "\n",
    "\n",
    "for hero in heroes:\n",
    "    city = hero.get(\"address\", {}).get(\"city\")\n",
    "    if city is None:\n",
    "        print(f\"{hero.get('name')} location is Top Secret 🔒\")\n",
    "    else:\n",
    "        print(f\"{hero.get('name')}  lives in {city}\")\n"
   ]
  },
  {
   "cell_type": "code",
   "execution_count": null,
   "metadata": {},
   "outputs": [
    {
     "name": "stdout",
     "output_type": "stream",
     "text": [
      "[{'name': 'Chelo', 'experience': 4}, {'name': 'Diyali', 'experience': 2}, {'name': 'Luvuyo', 'experience': 2}, {'name': 'Jevan', 'experience': 3}]\n"
     ]
    }
   ],
   "source": [
    "# After 2026\n",
    "\n",
    "# Task 2.1\n",
    "# Output\n",
    "employees = [\n",
    "    {\"name\": \"Chelo\", \"experience\": 3},\n",
    "    {\"name\": \"Diyali\", \"experience\": 1},\n",
    "    {\"name\": \"Luvuyo\", \"experience\": 1},\n",
    "    {\"name\": \"Jevan\", \"experience\": 2},\n",
    "]\n",
    "\n",
    "for employee in employees:\n",
    "    employee['experience'] = employee.get('experience', 0) + 1 # Make experience's default value 0\n",
    "\n",
    "print(employees)"
   ]
  },
  {
   "cell_type": "code",
   "execution_count": 29,
   "metadata": {},
   "outputs": [],
   "source": [
    "# Task 2.2\n",
    "# Senior 5 or more, Mid-Level 3 to 5, Junior < 3\n",
    "employees = [\n",
    "    {\"name\": \"Chelo\", \"experience\": 4},\n",
    "    {\n",
    "        \"name\": \"Diyali\",\n",
    "    },\n",
    "    {\n",
    "        \"name\": \"Luvuyo\",\n",
    "    },\n",
    "    {\"name\": \"Jevan\", \"experience\": 2},\n",
    "]\n",
    "\n",
    "\n",
    "# Output\n",
    "employees = [\n",
    "    {\"name\": \"Chelo\", \"experience\": 5, \"status\": \"Senior\"},\n",
    "    {\"name\": \"Diyali\", \"status\": \"Junior\", \"experience\": 1},\n",
    "    {\"name\": \"Luvuyo\", \"status\": \"Junior\", \"experience\": 1},\n",
    "    {\"name\": \"Jevan\", \"status\": \"Mid-Level\", \"experience\": 3},\n",
    "]\n"
   ]
  },
  {
   "cell_type": "code",
   "execution_count": null,
   "metadata": {},
   "outputs": [
    {
     "name": "stdout",
     "output_type": "stream",
     "text": [
      "[{'name': 'Chelo', 'experience': 5, 'status': 'Senior'}, {'name': 'Diyali', 'experience': 1, 'status': 'Junior'}, {'name': 'Luvuyo', 'experience': 1, 'status': 'Junior'}, {'name': 'Jevan', 'experience': 3, 'status': 'Mid-level'}]\n"
     ]
    }
   ],
   "source": [
    "employees = [\n",
    "    {\"name\": \"Chelo\", \"experience\": 4},\n",
    "    {\n",
    "        \"name\": \"Diyali\",\n",
    "    },\n",
    "    {\n",
    "        \"name\": \"Luvuyo\",\n",
    "    },\n",
    "    {\"name\": \"Jevan\", \"experience\": 2},\n",
    "]\n",
    "\n",
    "for employee in employees:\n",
    "    employee[\"experience\"] = employee.get(\"experience\", 0) + 1\n",
    "    if employee[\"experience\"] >= 5:\n",
    "        employee['status'] = 'Senior'\n",
    "    elif employee[\"experience\"] >= 3:\n",
    "        employee['status'] = 'Mid-level'\n",
    "    else:\n",
    "        employee['status'] = 'Junior'\n",
    "\n",
    "print(employees)\n"
   ]
  },
  {
   "cell_type": "code",
   "execution_count": 41,
   "metadata": {},
   "outputs": [
    {
     "data": {
      "text/plain": [
       "[{'name': 'Chelo', 'experience': 5, 'status': 'Senior'},\n",
       " {'name': 'Diyali', 'experience': 1, 'status': 'Junior'},\n",
       " {'name': 'Luvuyo', 'experience': 1, 'status': 'Junior'},\n",
       " {'name': 'Jevan', 'experience': 3, 'status': 'Mid-Level'}]"
      ]
     },
     "execution_count": 41,
     "metadata": {},
     "output_type": "execute_result"
    }
   ],
   "source": [
    "# Second way\n",
    "\n",
    "employees = [\n",
    "    {\"name\": \"Chelo\", \"experience\": 4},\n",
    "    {\n",
    "        \"name\": \"Diyali\",\n",
    "    },\n",
    "    {\n",
    "        \"name\": \"Luvuyo\",\n",
    "    },\n",
    "    {\"name\": \"Jevan\", \"experience\": 2},\n",
    "]\n",
    "\n",
    "for employee in employees:\n",
    "    employee[\"experience\"] = employee.get(\"experience\", 0) + 1\n",
    "\n",
    "    if employee[\"experience\"] >= 5:\n",
    "        employee[\"status\"] = \"Senior\"\n",
    "    elif 3 <= employee[\"experience\"] < 5:\n",
    "        employee[\"status\"] = \"Mid-Level\"\n",
    "    else:\n",
    "        employee[\"status\"] = \"Junior\"\n",
    "\n",
    "\n",
    "employees"
   ]
  },
  {
   "cell_type": "code",
   "execution_count": 42,
   "metadata": {},
   "outputs": [
    {
     "data": {
      "text/plain": [
       "[{'name': 'Chelo', 'experience': 5, 'status': 'Senior'},\n",
       " {'name': 'Diyali', 'experience': 1, 'status': 'Junior'},\n",
       " {'name': 'Luvuyo', 'experience': 1, 'status': 'Junior'},\n",
       " {'name': 'Jevan', 'experience': 3, 'status': 'Mid-Level'}]"
      ]
     },
     "execution_count": 42,
     "metadata": {},
     "output_type": "execute_result"
    }
   ],
   "source": [
    "# Third way\n",
    "\n",
    "employees = [\n",
    "    {\"name\": \"Chelo\", \"experience\": 4},\n",
    "    {\n",
    "        \"name\": \"Diyali\",\n",
    "    },\n",
    "    {\n",
    "        \"name\": \"Luvuyo\",\n",
    "    },\n",
    "    {\"name\": \"Jevan\", \"experience\": 2},\n",
    "]\n",
    "\n",
    "for employee in employees:\n",
    "    employee[\"experience\"] = employee.get(\"experience\", 0) + 1\n",
    "\n",
    "    employee[\"status\"] = (\n",
    "        \"Senior\"\n",
    "        if employee[\"experience\"] >= 5\n",
    "        else \"Mid-Level\"\n",
    "        if 3 <= employee[\"experience\"] < 5\n",
    "        else \"Junior\"\n",
    "    )\n",
    "\n",
    "employees\n"
   ]
  }
 ],
 "metadata": {
  "kernelspec": {
   "display_name": ".venv",
   "language": "python",
   "name": "python3"
  },
  "language_info": {
   "codemirror_mode": {
    "name": "ipython",
    "version": 3
   },
   "file_extension": ".py",
   "mimetype": "text/x-python",
   "name": "python",
   "nbconvert_exporter": "python",
   "pygments_lexer": "ipython3",
   "version": "3.13.2"
  }
 },
 "nbformat": 4,
 "nbformat_minor": 2
}
