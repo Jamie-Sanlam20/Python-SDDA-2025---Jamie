{
 "cells": [
  {
   "cell_type": "markdown",
   "metadata": {},
   "source": [
    "# `join()`\n",
    "- Will transform from list to string"
   ]
  },
  {
   "cell_type": "code",
   "execution_count": 50,
   "metadata": {},
   "outputs": [
    {
     "data": {
      "text/plain": [
       "'🍎,🍊,🍓,🍍'"
      ]
     },
     "execution_count": 50,
     "metadata": {},
     "output_type": "execute_result"
    }
   ],
   "source": [
    "fruits = [\"🍎\", \"🍊\", \"🍓\", \"🍍\"]\n",
    "\n",
    "\",\".join(fruits) # List -> string\n"
   ]
  },
  {
   "cell_type": "code",
   "execution_count": 51,
   "metadata": {},
   "outputs": [
    {
     "data": {
      "text/plain": [
       "'🍎|🍊|🍓|🍍'"
      ]
     },
     "execution_count": 51,
     "metadata": {},
     "output_type": "execute_result"
    }
   ],
   "source": [
    "\"|\".join(fruits)\n"
   ]
  },
  {
   "cell_type": "code",
   "execution_count": 52,
   "metadata": {},
   "outputs": [
    {
     "data": {
      "text/plain": [
       "'🍎aaaaa🍊aaaaa🍓aaaaa🍍'"
      ]
     },
     "execution_count": 52,
     "metadata": {},
     "output_type": "execute_result"
    }
   ],
   "source": [
    "\"aaaaa\".join(fruits)  # List -> String\n"
   ]
  },
  {
   "cell_type": "markdown",
   "metadata": {},
   "source": [
    "## String to List (Conversion)\n",
    "- `split()`\n",
    "- `split()` ❌ `join()`"
   ]
  },
  {
   "cell_type": "code",
   "execution_count": 46,
   "metadata": {},
   "outputs": [
    {
     "data": {
      "text/plain": [
       "['mint', 'chocolate', 'vanilla']"
      ]
     },
     "execution_count": 46,
     "metadata": {},
     "output_type": "execute_result"
    }
   ],
   "source": [
    "# string -> list (opposite of join - split)\n",
    "\n",
    "ice_creams = \"mint|chocolate|vanilla\"\n",
    "\n",
    "ice_creams.split('|') # We want to split it into a list at |"
   ]
  },
  {
   "cell_type": "code",
   "execution_count": 47,
   "metadata": {},
   "outputs": [
    {
     "data": {
      "text/plain": [
       "['mint|ch', 'c', 'late|vanilla']"
      ]
     },
     "execution_count": 47,
     "metadata": {},
     "output_type": "execute_result"
    }
   ],
   "source": [
    "ice_creams = \"mint|chocolate|vanilla\"\n",
    "\n",
    "ice_creams.split(\"o\")  # We want to split at o (it will remove o and replace it with commas -> list)\n"
   ]
  },
  {
   "cell_type": "markdown",
   "metadata": {},
   "source": [
    "## Task 1.1\n",
    "\n",
    "scrambled_message = \"world the save to time no is there\"\n",
    " \n",
    "Output:\n",
    "there is no time to save the world"
   ]
  },
  {
   "cell_type": "code",
   "execution_count": 48,
   "metadata": {},
   "outputs": [
    {
     "name": "stdout",
     "output_type": "stream",
     "text": [
      "there is no time to save the world\n"
     ]
    }
   ],
   "source": [
    "scrambled_message = \"world the save to time no is there\"\n",
    "\n",
    "new_list = scrambled_message.split(\" \")\n",
    "#print(new_list)\n",
    "\n",
    "reverse_msg = new_list[::-1]\n",
    "new_msg = \" \".join(reverse_msg)\n",
    "\n",
    "print(new_msg)"
   ]
  },
  {
   "cell_type": "code",
   "execution_count": 49,
   "metadata": {},
   "outputs": [
    {
     "data": {
      "text/plain": [
       "'there is no time to save the world'"
      ]
     },
     "execution_count": 49,
     "metadata": {},
     "output_type": "execute_result"
    }
   ],
   "source": [
    "# Ragav answer\n",
    "\n",
    "scrambled_message = \"world the save to time no is there\"\n",
    "\n",
    "# Output\n",
    "# there is no time to save the world\n",
    "\n",
    "chopped_msg = scrambled_message.split(\" \")\n",
    "\" \".join(chopped_msg[::-1])"
   ]
  },
  {
   "cell_type": "markdown",
   "metadata": {},
   "source": [
    "# Task 1.2\n",
    "\n",
    "```py\n",
    "playlist = \"🎵Dancing Queen;🎸Sweet Child O' Mine;🎹Piano Man;🎤Bohemian Rhapsody;🎺All That Jazz\"\n",
    "```\n",
    "\n",
    "## Output\n",
    "My favorite playlist:\n",
    "1. 🎵Dancing Queen\n",
    "2. 🎸Sweet Child O' Mine\n",
    "3. 🎹Piano Man\n",
    "4. 🎤Bohemian Rhapsody\n",
    "5. 🎺All That Jazz"
   ]
  },
  {
   "cell_type": "code",
   "execution_count": null,
   "metadata": {},
   "outputs": [
    {
     "name": "stdout",
     "output_type": "stream",
     "text": [
      "My favourite playlist:\n",
      "1. 🎵Dancing Queen\n",
      "2. 🎸Sweet Child O' Mine\n",
      "3. 🎹Piano Man\n",
      "4. 🎤Bohemian Rhapsody\n",
      "5. 🎺All That Jazz\n"
     ]
    }
   ],
   "source": [
    "playlist = \"🎵Dancing Queen;🎸Sweet Child O' Mine;🎹Piano Man;🎤Bohemian Rhapsody;🎺All That Jazz\"\n",
    "\n",
    "split_list = playlist.split(\";\") # split -> converts into list\n",
    "\n",
    "print(\"My favourite playlist:\") # for loop\n",
    "for i in range(len(split_list)):\n",
    "    print(f\"{i+1}. {split_list[i]}\") # f-string\n"
   ]
  }
 ],
 "metadata": {
  "kernelspec": {
   "display_name": ".venv",
   "language": "python",
   "name": "python3"
  },
  "language_info": {
   "codemirror_mode": {
    "name": "ipython",
    "version": 3
   },
   "file_extension": ".py",
   "mimetype": "text/x-python",
   "name": "python",
   "nbconvert_exporter": "python",
   "pygments_lexer": "ipython3",
   "version": "3.13.2"
  }
 },
 "nbformat": 4,
 "nbformat_minor": 2
}
