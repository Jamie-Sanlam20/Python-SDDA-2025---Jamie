{
 "cells": [
  {
   "cell_type": "markdown",
   "metadata": {},
   "source": [
    "# Multi line string\n",
    "Normal string = `\"\"` `''`\n",
    "Triple Double or Triple Single Quotes\n",
    "Works with f-string also"
   ]
  },
  {
   "cell_type": "code",
   "execution_count": null,
   "metadata": {},
   "outputs": [
    {
     "name": "stdout",
     "output_type": "stream",
     "text": [
      "This is super cool This is super cool\n"
     ]
    }
   ],
   "source": [
    "msg1 = \"This is super cool\" # single line\n",
    "msg2 = 'This is super cool'\n",
    "\n",
    "print(msg1, msg2)"
   ]
  },
  {
   "cell_type": "code",
   "execution_count": 2,
   "metadata": {},
   "outputs": [
    {
     "name": "stdout",
     "output_type": "stream",
     "text": [
      "This is super cool\n",
      "This is amazing\n"
     ]
    }
   ],
   "source": [
    "msg3 = \"This is super cool\\nThis is amazing\" # \\n -> new line character\n",
    "print(msg3)"
   ]
  },
  {
   "cell_type": "code",
   "execution_count": 3,
   "metadata": {},
   "outputs": [
    {
     "name": "stdout",
     "output_type": "stream",
     "text": [
      "This super cool\n",
      "This is amazing\n"
     ]
    }
   ],
   "source": [
    "msg4 = \"\"\"This super cool\n",
    "This is amazing\"\"\" # \"\"\" triple quotes also works for new line\"\"\"\n",
    "\n",
    "print(msg4)"
   ]
  },
  {
   "cell_type": "code",
   "execution_count": null,
   "metadata": {},
   "outputs": [],
   "source": [
    "followers = 2_000\n"
   ]
  }
 ],
 "metadata": {
  "kernelspec": {
   "display_name": ".venv",
   "language": "python",
   "name": "python3"
  },
  "language_info": {
   "codemirror_mode": {
    "name": "ipython",
    "version": 3
   },
   "file_extension": ".py",
   "mimetype": "text/x-python",
   "name": "python",
   "nbconvert_exporter": "python",
   "pygments_lexer": "ipython3",
   "version": "3.13.2"
  }
 },
 "nbformat": 4,
 "nbformat_minor": 2
}
