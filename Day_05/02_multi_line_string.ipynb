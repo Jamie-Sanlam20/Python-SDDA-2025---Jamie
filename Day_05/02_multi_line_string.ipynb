{
 "cells": [
  {
   "cell_type": "markdown",
   "metadata": {},
   "source": [
    "# Multi line string\n",
    "Normal string = `\"\"` `''`\n",
    "Triple Double or Triple Single Quotes\n",
    "Works with f-string also"
   ]
  },
  {
   "cell_type": "code",
   "execution_count": null,
   "metadata": {},
   "outputs": [
    {
     "name": "stdout",
     "output_type": "stream",
     "text": [
      "This is super cool This is super cool\n"
     ]
    }
   ],
   "source": [
    "msg1 = \"This is super cool\" # single line\n",
    "msg2 = 'This is super cool'\n",
    "\n",
    "print(msg1, msg2)"
   ]
  },
  {
   "cell_type": "code",
   "execution_count": null,
   "metadata": {},
   "outputs": [
    {
     "name": "stdout",
     "output_type": "stream",
     "text": [
      "This is super cool\n",
      "This is amazing\n"
     ]
    }
   ],
   "source": [
    "msg3 = \"This is super cool\\nThis is amazing\" # \\n -> new line character\n",
    "print(msg3)"
   ]
  },
  {
   "cell_type": "code",
   "execution_count": null,
   "metadata": {},
   "outputs": [
    {
     "name": "stdout",
     "output_type": "stream",
     "text": [
      "This super cool\n",
      "This is amazing\n"
     ]
    }
   ],
   "source": [
    "msg4 = \"\"\"This super cool\n",
    "This is amazing\"\"\" # \"\"\" triple quotes also works for new line\"\"\"\n",
    "\n",
    "print(msg4)"
   ]
  },
  {
   "cell_type": "code",
   "execution_count": 5,
   "metadata": {},
   "outputs": [
    {
     "name": "stdout",
     "output_type": "stream",
     "text": [
      "This is super cool\n",
      "This is amazing\n",
      "Siyanda has 2000\n",
      "\n"
     ]
    }
   ],
   "source": [
    "followers = 2_000\n",
    "\n",
    "msg5 = f\"\"\"This is super cool\n",
    "This is amazing\n",
    "Siyanda has {followers}\n",
    "\"\"\"\n",
    "\n",
    "print(msg5)\n"
   ]
  },
  {
   "cell_type": "code",
   "execution_count": 6,
   "metadata": {},
   "outputs": [
    {
     "name": "stdout",
     "output_type": "stream",
     "text": [
      "This is super cool\n",
      "This is amazing\n",
      "Siyanda has 2000\n",
      "\n"
     ]
    }
   ],
   "source": [
    "msg5 = f\"\"\"This is super cool\n",
    "This is amazing\n",
    "Siyanda has {followers}\n",
    "\"\"\"\n",
    "\n",
    "print(msg5)\n"
   ]
  }
 ],
 "metadata": {
  "kernelspec": {
   "display_name": ".venv",
   "language": "python",
   "name": "python3"
  },
  "language_info": {
   "codemirror_mode": {
    "name": "ipython",
    "version": 3
   },
   "file_extension": ".py",
   "mimetype": "text/x-python",
   "name": "python",
   "nbconvert_exporter": "python",
   "pygments_lexer": "ipython3",
   "version": "3.13.2"
  }
 },
 "nbformat": 4,
 "nbformat_minor": 2
}
