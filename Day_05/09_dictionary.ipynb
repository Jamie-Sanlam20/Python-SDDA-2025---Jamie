{
 "cells": [
  {
   "cell_type": "markdown",
   "metadata": {},
   "source": [
    "# Dictionary\n",
    "\n",
    "- Store mixed datatypes & multiple values\n",
    "- Key & Value pairs"
   ]
  },
  {
   "cell_type": "code",
   "execution_count": 4,
   "metadata": {},
   "outputs": [],
   "source": [
    "spiderman = {\n",
    "    \"name\": \"Peter Parker\",\n",
    "    \"age\": 18,\n",
    "    \"team_name\": \"Avengers\",\n",
    "    \"team\": [\"Iron Man\", \"Thor\", \"Hulk\", \"Captain America\"]\n",
    "}\n",
    "\n",
    "# Dictionary stores different datatypes"
   ]
  },
  {
   "cell_type": "code",
   "execution_count": null,
   "metadata": {},
   "outputs": [
    {
     "data": {
      "text/plain": [
       "'Peter Parker'"
      ]
     },
     "execution_count": 5,
     "metadata": {},
     "output_type": "execute_result"
    }
   ],
   "source": [
    "spiderman['name'] # keys (Dict) equivalent to index (List) -> e.g., spiderman[0]"
   ]
  },
  {
   "cell_type": "code",
   "execution_count": 7,
   "metadata": {},
   "outputs": [
    {
     "data": {
      "text/plain": [
       "18"
      ]
     },
     "execution_count": 7,
     "metadata": {},
     "output_type": "execute_result"
    }
   ],
   "source": [
    "spiderman[\"age\"]"
   ]
  },
  {
   "cell_type": "code",
   "execution_count": 9,
   "metadata": {},
   "outputs": [
    {
     "data": {
      "text/plain": [
       "'Hulk'"
      ]
     },
     "execution_count": 9,
     "metadata": {},
     "output_type": "execute_result"
    }
   ],
   "source": [
    "# Access Hulk\n",
    "a = spiderman[\"team\"]\n",
    "a[2]"
   ]
  },
  {
   "cell_type": "code",
   "execution_count": null,
   "metadata": {},
   "outputs": [
    {
     "data": {
      "text/plain": [
       "'Hulk'"
      ]
     },
     "execution_count": 10,
     "metadata": {},
     "output_type": "execute_result"
    }
   ],
   "source": [
    "# Access Hulk without variable\n",
    "\n",
    "spiderman[\"team\"][2] # nest the two request"
   ]
  },
  {
   "cell_type": "code",
   "execution_count": 13,
   "metadata": {},
   "outputs": [
    {
     "name": "stdout",
     "output_type": "stream",
     "text": [
      "{'name': 'Peter Parker 🕷️', 'age': 18, 'team_name': 'Avengers', 'team': ['Iron Man', 'Thor', 'Hulk', 'Captain America']}\n"
     ]
    }
   ],
   "source": [
    "# Update Peter Parker\n",
    "\n",
    "spiderman[\"name\"] = \"Peter Parker 🕷️\"\n",
    "print(spiderman)"
   ]
  },
  {
   "cell_type": "code",
   "execution_count": 15,
   "metadata": {},
   "outputs": [
    {
     "data": {
      "text/plain": [
       "{'name': 'Peter Parker 🕷️',\n",
       " 'age': 20,\n",
       " 'team_name': 'Avengers',\n",
       " 'team': ['Iron Man', 'Thor', 'Hulk', 'Captain America']}"
      ]
     },
     "execution_count": 15,
     "metadata": {},
     "output_type": "execute_result"
    }
   ],
   "source": [
    "# Update age but not sure what the age is (increment by 1)\n",
    "\n",
    "spiderman[\"age\"] += 1\n",
    "spiderman"
   ]
  },
  {
   "cell_type": "code",
   "execution_count": 16,
   "metadata": {},
   "outputs": [
    {
     "data": {
      "text/plain": [
       "{'name': 'Peter Parker 🕷️',\n",
       " 'age': 21,\n",
       " 'team_name': 'Avengers',\n",
       " 'team': ['Iron Man', 'Thor', 'Hulk', 'Captain America']}"
      ]
     },
     "execution_count": 16,
     "metadata": {},
     "output_type": "execute_result"
    }
   ],
   "source": [
    "# Update age again by 1 (different method)\n",
    "\n",
    "spiderman[\"age\"] = spiderman[\"age\"] + 1\n",
    "spiderman"
   ]
  },
  {
   "cell_type": "markdown",
   "metadata": {},
   "source": [
    "## Dictionary Methods\n",
    "1. `keys()`\n",
    "2. `values()`\n",
    "3. `items()`"
   ]
  },
  {
   "cell_type": "code",
   "execution_count": null,
   "metadata": {},
   "outputs": [
    {
     "name": "stdout",
     "output_type": "stream",
     "text": [
      "dict_keys(['name', 'age', 'team_name', 'team'])\n"
     ]
    }
   ],
   "source": [
    "print(spiderman.keys()) # List of keys"
   ]
  },
  {
   "cell_type": "code",
   "execution_count": 18,
   "metadata": {},
   "outputs": [
    {
     "name": "stdout",
     "output_type": "stream",
     "text": [
      "name\n",
      "age\n",
      "team_name\n",
      "team\n"
     ]
    }
   ],
   "source": [
    "for key in spiderman.keys():\n",
    "    print(key)\n"
   ]
  },
  {
   "cell_type": "code",
   "execution_count": 19,
   "metadata": {},
   "outputs": [
    {
     "name": "stdout",
     "output_type": "stream",
     "text": [
      "Peter Parker 🕷️\n",
      "21\n",
      "Avengers\n",
      "['Iron Man', 'Thor', 'Hulk', 'Captain America']\n"
     ]
    }
   ],
   "source": [
    "for val in spiderman.values():\n",
    "    print(val)\n"
   ]
  },
  {
   "cell_type": "code",
   "execution_count": 20,
   "metadata": {},
   "outputs": [
    {
     "name": "stdout",
     "output_type": "stream",
     "text": [
      "('name', 'Peter Parker 🕷️')\n",
      "('age', 21)\n",
      "('team_name', 'Avengers')\n",
      "('team', ['Iron Man', 'Thor', 'Hulk', 'Captain America'])\n"
     ]
    }
   ],
   "source": [
    "for val in spiderman.items():  # Tuples of key & value\n",
    "    print(val)\n"
   ]
  }
 ],
 "metadata": {
  "kernelspec": {
   "display_name": ".venv",
   "language": "python",
   "name": "python3"
  },
  "language_info": {
   "codemirror_mode": {
    "name": "ipython",
    "version": 3
   },
   "file_extension": ".py",
   "mimetype": "text/x-python",
   "name": "python",
   "nbconvert_exporter": "python",
   "pygments_lexer": "ipython3",
   "version": "3.13.2"
  }
 },
 "nbformat": 4,
 "nbformat_minor": 2
}
