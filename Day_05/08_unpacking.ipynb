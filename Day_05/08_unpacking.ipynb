{
 "cells": [
  {
   "cell_type": "markdown",
   "metadata": {},
   "source": [
    "#  Multiple Variable assignment"
   ]
  },
  {
   "cell_type": "code",
   "execution_count": null,
   "metadata": {},
   "outputs": [
    {
     "name": "stdout",
     "output_type": "stream",
     "text": [
      "0 0 0\n"
     ]
    }
   ],
   "source": [
    "a = 0\n",
    "b = 0\n",
    "c = 0\n",
    "\n",
    "print(a, b, c)"
   ]
  },
  {
   "cell_type": "code",
   "execution_count": 3,
   "metadata": {},
   "outputs": [
    {
     "name": "stdout",
     "output_type": "stream",
     "text": [
      "10 10 10\n"
     ]
    }
   ],
   "source": [
    "a = b = c = 10 # values equal the same\n",
    "\n",
    "print(a, b, c)"
   ]
  },
  {
   "cell_type": "code",
   "execution_count": null,
   "metadata": {},
   "outputs": [
    {
     "name": "stdout",
     "output_type": "stream",
     "text": [
      "10 15 20\n"
     ]
    }
   ],
   "source": [
    "# Unpacking -> taking items out\n",
    "\n",
    "a, b, c = 10, 15, 20 # right hand side is tuple\n",
    "# assigns a = 10, b = 15, c = 20\n",
    "\n",
    "print(a, b, c)"
   ]
  },
  {
   "cell_type": "code",
   "execution_count": 7,
   "metadata": {},
   "outputs": [
    {
     "name": "stdout",
     "output_type": "stream",
     "text": [
      "10 15 20\n"
     ]
    }
   ],
   "source": [
    "a, b, c = (10, 15, 20)  # also a tuple\n",
    "\n",
    "print(a, b, c)\n"
   ]
  },
  {
   "cell_type": "code",
   "execution_count": 9,
   "metadata": {},
   "outputs": [
    {
     "name": "stdout",
     "output_type": "stream",
     "text": [
      "10 15 20\n",
      "<class 'int'> <class 'int'> <class 'int'>\n"
     ]
    }
   ],
   "source": [
    "a, b, c = [10, 15, 20] # List of int\n",
    "\n",
    "print(a, b, c) # unpacking works with both list & tuple\n",
    "print(type(a), type(b), type(c))"
   ]
  },
  {
   "cell_type": "code",
   "execution_count": 11,
   "metadata": {},
   "outputs": [
    {
     "name": "stdout",
     "output_type": "stream",
     "text": [
      "10 20\n"
     ]
    }
   ],
   "source": [
    "# Skip b\n",
    "\n",
    "a, _, c = [10, 15, 20]\n",
    "\n",
    "print(a, c)\n"
   ]
  },
  {
   "cell_type": "code",
   "execution_count": 12,
   "metadata": {},
   "outputs": [
    {
     "name": "stdout",
     "output_type": "stream",
     "text": [
      "🦸‍♂️ Batman 🦸‍♂️ Superman 🦹‍♂️ Joker 🦹‍♀️ Harley Quinn\n"
     ]
    }
   ],
   "source": [
    "c1, c2, c3, c4 = [\"🦸‍♂️ Batman\", \"🦸‍♂️ Superman\", \"🦹‍♂️ Joker\", \"🦹‍♀️ Harley Quinn\"]\n",
    "\n",
    "print(c1, c2, c3, c4)\n"
   ]
  },
  {
   "cell_type": "code",
   "execution_count": 13,
   "metadata": {},
   "outputs": [
    {
     "name": "stdout",
     "output_type": "stream",
     "text": [
      "🦸‍♂️ Batman 🦸‍♂️ Superman\n"
     ]
    }
   ],
   "source": [
    "c1, c2, _, _ = [\"🦸‍♂️ Batman\", \"🦸‍♂️ Superman\", \"🦹‍♂️ Joker\", \"🦹‍♀️ Harley Quinn\"]\n",
    "\n",
    "print(c1, c2)\n"
   ]
  },
  {
   "cell_type": "code",
   "execution_count": 14,
   "metadata": {},
   "outputs": [
    {
     "name": "stdout",
     "output_type": "stream",
     "text": [
      "80 95\n"
     ]
    }
   ],
   "source": [
    "m1, _, _, _, m2 = [80, 90, 70, 45, 95]\n",
    "\n",
    "print(m1, m2)\n"
   ]
  },
  {
   "cell_type": "code",
   "execution_count": 15,
   "metadata": {},
   "outputs": [
    {
     "name": "stdout",
     "output_type": "stream",
     "text": [
      "80 95 [90, 70, 45]\n"
     ]
    }
   ],
   "source": [
    "m1, *t1, m2 = [80, 90, 70, 45, 95]  # * -> unpacking operator\n",
    "\n",
    "print(m1, m2, t1)\n"
   ]
  },
  {
   "cell_type": "code",
   "execution_count": 16,
   "metadata": {},
   "outputs": [
    {
     "name": "stdout",
     "output_type": "stream",
     "text": [
      "🦸‍♂️ Batman ['🦸\\u200d♂️ Superman', '🦹\\u200d♂️ Joker', '🦹\\u200d♀️ Harley Quinn'] <class 'str'> <class 'list'>\n"
     ]
    }
   ],
   "source": [
    "c1, *c2 = (\n",
    "    \"🦸‍♂️ Batman\",\n",
    "    \"🦸‍♂️ Superman\",\n",
    "    \"🦹‍♂️ Joker\",\n",
    "    \"🦹‍♀️ Harley Quinn\",\n",
    ")  # * -> gather the remaining values\n",
    "\n",
    "print(c1, c2, type(c1), type(c2))  # c1 -> string c2 --> List of string\n"
   ]
  },
  {
   "cell_type": "code",
   "execution_count": 17,
   "metadata": {},
   "outputs": [
    {
     "name": "stdout",
     "output_type": "stream",
     "text": [
      "80 90 70\n"
     ]
    }
   ],
   "source": [
    "marks = [80, 90, 70]\n",
    "\n",
    "m1, m2, m3 = marks\n",
    "print(m1, m2, m3)\n"
   ]
  },
  {
   "cell_type": "code",
   "execution_count": 18,
   "metadata": {},
   "outputs": [
    {
     "name": "stdout",
     "output_type": "stream",
     "text": [
      "80 90 70\n"
     ]
    }
   ],
   "source": [
    "m1, m2, m3 = [80, 90, 70]\n",
    "print(m1, m2, m3)\n"
   ]
  },
  {
   "cell_type": "markdown",
   "metadata": {},
   "source": [
    "## Task 1.1 (Without Unpacking)\n",
    "\n",
    "points = [(3, 4), (6, 12), (10, 13)]\n",
    "\n",
    "Expected Output\n",
    "distances = [5.0, 13.42, 16.4]"
   ]
  },
  {
   "cell_type": "code",
   "execution_count": null,
   "metadata": {},
   "outputs": [],
   "source": [
    "# Clue\n",
    "point = (3, 4)\n",
    "x = point[0]\n",
    "y = point[1]\n",
    "\n",
    "\n",
    "(x**2 + y**2) ** 0.5\n"
   ]
  },
  {
   "cell_type": "code",
   "execution_count": null,
   "metadata": {},
   "outputs": [
    {
     "name": "stdout",
     "output_type": "stream",
     "text": [
      "[5.0, 13.42, 16.4]\n"
     ]
    }
   ],
   "source": [
    "points = [(3, 4), (6, 12), (10, 13)]\n",
    "\n",
    "distance = []\n",
    "\n",
    "for point in points:\n",
    "    x = point[0] # assigns x to 3\n",
    "    y = point[1] # assigns y to 4\n",
    "    # print(point[0], point[1])\n",
    "    distance.append(round((x**2 + y**2) ** 0.5, 2))\n",
    "\n",
    "print(distance)\n"
   ]
  },
  {
   "cell_type": "markdown",
   "metadata": {},
   "source": [
    "## Task 1.2 (With Unpacking)\n",
    "\n",
    "Expected Output\n",
    "distances = [5.0, 13.42, 16.4]\n"
   ]
  },
  {
   "cell_type": "code",
   "execution_count": null,
   "metadata": {},
   "outputs": [
    {
     "name": "stdout",
     "output_type": "stream",
     "text": [
      "[5.0, 13.42, 16.4]\n"
     ]
    }
   ],
   "source": [
    "points = [(3, 4), (6, 12), (10, 13)]\n",
    "\n",
    "distances = []\n",
    "\n",
    "for x,y in points: # unpacking\n",
    "    distance = round((x**2 + y**2) ** 0.5, 2)\n",
    "    distances.append(distance)\n",
    "\n",
    "print(distances)"
   ]
  },
  {
   "cell_type": "code",
   "execution_count": 51,
   "metadata": {},
   "outputs": [
    {
     "name": "stdout",
     "output_type": "stream",
     "text": [
      "[5.0, 13.42, 16.4]\n"
     ]
    }
   ],
   "source": [
    "points = [(3, 4), (6, 12), (10, 13)]\n",
    "\n",
    "distances = []\n",
    "for point in points:\n",
    "    x, y = point  # (3, 4)\n",
    "    distance = round((x**2 + y**2) ** 0.5, 2)\n",
    "    distances.append(distance)\n",
    "\n",
    "print(distances)\n"
   ]
  }
 ],
 "metadata": {
  "kernelspec": {
   "display_name": ".venv",
   "language": "python",
   "name": "python3"
  },
  "language_info": {
   "codemirror_mode": {
    "name": "ipython",
    "version": 3
   },
   "file_extension": ".py",
   "mimetype": "text/x-python",
   "name": "python",
   "nbconvert_exporter": "python",
   "pygments_lexer": "ipython3",
   "version": "3.13.2"
  }
 },
 "nbformat": 4,
 "nbformat_minor": 2
}
