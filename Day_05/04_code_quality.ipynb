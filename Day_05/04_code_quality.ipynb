{
 "cells": [
  {
   "cell_type": "markdown",
   "metadata": {},
   "source": [
    "# 5 Pillars - Code Quality\n",
    "1. Readability\n",
    "  - 75% is reading code \n",
    "  - Other developers should understand your code\n",
    "  - Long mainability - Makes it easier to maintain for you and other developers\n",
    "2. Maintainability\n",
    "  - If you have large amounts of code debt, maintainability goes down\n",
    "    - Code Debt ⬆️ = Maintainability ⬇️\n",
    "  - Modular / Scalable falls under here too\n",
    "3. Extensibility - Adding features should be easy\n",
    "   - Camera - Change lens\n",
    "   - Adding a voucher code feature to an e-commerce app\n",
    "4. Testability - Easily testable\n",
    "5. Performance\n",
    "   - Never sacrifice readability for performance "
   ]
  },
  {
   "cell_type": "markdown",
   "metadata": {},
   "source": [
    "## Code Debt?\n",
    "You not producing the best code.\n",
    "It's similar to a promise that you make to make the code better the next day, but tomorrow never comes.\n",
    "You accumulating code debt.\n",
    "\n",
    "Startups - Code Debt ⬆️ & Time ⬇️ - little time, so they do not produce the best quality code \n"
   ]
  }
 ],
 "metadata": {
  "language_info": {
   "name": "python"
  }
 },
 "nbformat": 4,
 "nbformat_minor": 2
}
