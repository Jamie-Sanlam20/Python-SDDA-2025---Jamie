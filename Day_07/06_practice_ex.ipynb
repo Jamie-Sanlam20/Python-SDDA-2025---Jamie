{
 "cells": [
  {
   "cell_type": "code",
   "execution_count": null,
   "metadata": {},
   "outputs": [],
   "source": [
    "guests = [{\n",
    "    \"name\": \"Alice\",\n",
    "    \"age\": 25,\n",
    "    \"code\": \"VIP123\"\n",
    "}, {\n",
    "    \"name\": \"Bob\",\n",
    "    \"age\": 17,\n",
    "    \"code\": \"VIP123\"\n",
    "}, {\n",
    "    \"name\": \"Charlie\",\n",
    "    \"age\": 30,\n",
    "    \"code\": \"VIP123\"\n",
    "}, {\n",
    "    \"name\": \"Dave\",\n",
    "    \"age\": 22,\n",
    "    \"code\": \"GUEST\"\n",
    "}, {\n",
    "    \"name\": \"Eve\",\n",
    "    \"age\": 29,\n",
    "    \"code\": \"VIP123\"\n",
    "}]\n",
    "\n",
    "\n",
    "\n",
    "blacklist = [\"Dave\", \"Eve\"]\n",
    "\n",
    "# Task\n",
    "# People who are 21 or above and VIP123\n",
    "# Blacklist are not allowed\n",
    "\n",
    "\n",
    "PASS_CODE = \"VIP123\"\n",
    "\n",
    "guestlist = [] # ?"
   ]
  },
  {
   "cell_type": "code",
   "execution_count": null,
   "metadata": {},
   "outputs": [],
   "source": [
    "# Task 1.1 - Simple for loop\n",
    "\n",
    "guests = [\n",
    "    {\"name\": \"Alice\", \"age\": 25, \"code\": \"VIP123\"},\n",
    "    {\"name\": \"Bob\", \"age\": 17, \"code\": \"VIP123\"},\n",
    "    {\"name\": \"Charlie\", \"age\": 30, \"code\": \"VIP123\"},\n",
    "    {\"name\": \"Dave\", \"age\": 22, \"code\": \"GUEST\"},\n",
    "    {\"name\": \"Eve\", \"age\": 29, \"code\": \"VIP123\"},\n",
    "]\n",
    "\n",
    "blacklist = [\"Dave\", \"Eve\"]\n",
    "\n",
    "PASS_CODE = \"VIP123\"\n",
    "\n",
    "guestlist = []\n",
    "\n",
    "for guest in guests:\n",
    "    if guest['name'] not in blacklist and guest['code'] == PASS_CODE and guest['age'] >= 21:\n",
    "        guestlist.append(guest['name'])\n",
    "\n",
    "print(guestlist)"
   ]
  },
  {
   "cell_type": "code",
   "execution_count": null,
   "metadata": {},
   "outputs": [],
   "source": [
    "# Task 1.2 - List comp\n",
    "\n",
    "guestlist = [guest['name'] for guest in guests if guest['name'] not in blacklist and guest['code'] == PASS_CODE and guest['age'] >= 21]\n",
    "\n",
    "print(guestlist)\n"
   ]
  },
  {
   "cell_type": "code",
   "execution_count": null,
   "metadata": {},
   "outputs": [],
   "source": [
    "# Task 2 (Challenging)\n",
    "# Use nested dictionary comprehension to create a dictionary of restaurants with items under $10\n",
    "\n",
    "# Restaurant menus with emoji food items and prices\n",
    "restaurant_menus = [\n",
    "    {\n",
    "        \"restaurant\": \"Italian Place\",\n",
    "        \"menu\": {\"🍕\": 12.99, \"🍝\": 10.99, \"🥖\": 3.99, \"🥗\": 7.99},\n",
    "    },\n",
    "    {\n",
    "        \"restaurant\": \"Burger Joint\",\n",
    "        \"menu\": {\"🍔\": 8.99, \"🍟\": 3.99, \"🥤\": 1.99, \"🍦\": 4.99},\n",
    "    },\n",
    "    {\n",
    "        \"restaurant\": \"Sushi Bar\",\n",
    "        \"menu\": {\"🍣\": 15.99, \"🍜\": 12.99, \"🍙\": 6.99, \"🍶\": 9.99},\n",
    "    },\n",
    "    {\n",
    "        \"restaurant\": \"Health Spot\",\n",
    "        \"menu\": {\"🥗\": 9.99, \"🥙\": 8.99, \"🥑\": 4.99, \"🥝\": 3.99},\n",
    "    },\n",
    "]\n",
    "\n",
    "# Expected output\n",
    "# Output\n",
    "{\n",
    "    \"Italian Place\": {\"🥖\": 3.99, \"🥗\": 7.99},\n",
    "    \"Burger Joint\": {\"🍔\": 8.99, \"🍟\": 3.99, \"🥤\": 1.99, \"🍦\": 4.99},\n",
    "    \"Sushi Bar\": {\"🍙\": 6.99},\n",
    "    \"Health Spot\": {\"🥙\": 8.99, \"🥑\": 4.99, \"🥝\": 3.99},\n",
    "}\n"
   ]
  },
  {
   "cell_type": "code",
   "execution_count": null,
   "metadata": {},
   "outputs": [
    {
     "name": "stdout",
     "output_type": "stream",
     "text": [
      "{'Health Spot': {'🥗': 9.99, '🥙': 8.99, '🥑': 4.99, '🥝': 3.99}}\n"
     ]
    }
   ],
   "source": [
    "# normal for loop (nesting)\n",
    "\n",
    "restaurant_menus = [\n",
    "    {\n",
    "        \"restaurant\": \"Italian Place\",\n",
    "        \"menu\": {\"🍕\": 12.99, \"🍝\": 10.99, \"🥖\": 3.99, \"🥗\": 7.99},\n",
    "    },\n",
    "    {\n",
    "        \"restaurant\": \"Burger Joint\",\n",
    "        \"menu\": {\"🍔\": 8.99, \"🍟\": 3.99, \"🥤\": 1.99, \"🍦\": 4.99},\n",
    "    },\n",
    "    {\n",
    "        \"restaurant\": \"Sushi Bar\",\n",
    "        \"menu\": {\"🍣\": 15.99, \"🍜\": 12.99, \"🍙\": 6.99, \"🍶\": 9.99},\n",
    "    },\n",
    "    {\n",
    "        \"restaurant\": \"Health Spot\",\n",
    "        \"menu\": {\"🥗\": 9.99, \"🥙\": 8.99, \"🥑\": 4.99, \"🥝\": 3.99},\n",
    "    },\n",
    "]\n",
    "\n",
    "# new_menu = {}\n",
    "\n",
    "# for res in restaurant_menus:\n",
    "#     # print(res['menu'])\n",
    "#     for emoji, price in (res['menu'].items()):\n",
    "#         # print(emoji, price)\n",
    "#         if price < 10:\n",
    "#             print(emoji, price)\n",
    "#             new_menu.append(res['restaurant'])\n",
    "\n",
    "# print(new_menu)\n",
    "\n",
    "\n",
    "for res in restaurant_menus:\n",
    "    # print(res['menu'])\n",
    "    for price in res[\"menu\"].values():\n",
    "        if price < 10:\n",
    "            # print(price)\n",
    "            new_menu = {res['restaurant']: res['menu'] for price in res[\"menu\"].values() if price < 10}\n",
    "\n",
    "print(new_menu)"
   ]
  },
  {
   "cell_type": "code",
   "execution_count": null,
   "metadata": {},
   "outputs": [],
   "source": []
  },
  {
   "cell_type": "code",
   "execution_count": 99,
   "metadata": {},
   "outputs": [
    {
     "name": "stdout",
     "output_type": "stream",
     "text": [
      "{'Italian Place': {'🍕': 12.99, '🍝': 10.99, '🥖': 3.99, '🥗': 7.99}, 'Sushi Bar': {'🍣': 15.99, '🍜': 12.99, '🍙': 6.99, '🍶': 9.99}}\n"
     ]
    }
   ],
   "source": [
    "# Comprehension (nesting)\n",
    "\n",
    "restaurant_menus = [\n",
    "    {\n",
    "        \"restaurant\": \"Italian Place\",\n",
    "        \"menu\": {\"🍕\": 12.99, \"🍝\": 10.99, \"🥖\": 3.99, \"🥗\": 7.99},\n",
    "    },\n",
    "    {\n",
    "        \"restaurant\": \"Burger Joint\",\n",
    "        \"menu\": {\"🍔\": 8.99, \"🍟\": 3.99, \"🥤\": 1.99, \"🍦\": 4.99},\n",
    "    },\n",
    "    {\n",
    "        \"restaurant\": \"Sushi Bar\",\n",
    "        \"menu\": {\"🍣\": 15.99, \"🍜\": 12.99, \"🍙\": 6.99, \"🍶\": 9.99},\n",
    "    },\n",
    "    {\n",
    "        \"restaurant\": \"Health Spot\",\n",
    "        \"menu\": {\"🥗\": 9.99, \"🥙\": 8.99, \"🥑\": 4.99, \"🥝\": 3.99},\n",
    "    },\n",
    "]\n",
    "\n",
    "# menu_dict = {res['restaurant']: res['menu'] for res in restaurant_menus if price in item, price in res['menu'].items() > 10}\n",
    "\n",
    "menu_dict = {\n",
    "    res['restaurant']: res['menu']\n",
    "    for res in restaurant_menus\n",
    "    if any(price > 10 for price in res['menu'].values())\n",
    "}\n",
    "\n",
    "print(menu_dict)"
   ]
  }
 ],
 "metadata": {
  "kernelspec": {
   "display_name": ".venv",
   "language": "python",
   "name": "python3"
  },
  "language_info": {
   "codemirror_mode": {
    "name": "ipython",
    "version": 3
   },
   "file_extension": ".py",
   "mimetype": "text/x-python",
   "name": "python",
   "nbconvert_exporter": "python",
   "pygments_lexer": "ipython3",
   "version": "3.13.2"
  }
 },
 "nbformat": 4,
 "nbformat_minor": 2
}
