{
 "cells": [
  {
   "cell_type": "markdown",
   "metadata": {
    "vscode": {
     "languageId": "plaintext"
    }
   },
   "source": [
    "# Task\n",
    "# Creating the below dictionary with for loop\n",
    " \n",
    "{\n",
    "    \"1\": 1,\n",
    "    \"2\": 4,\n",
    "    \"3\": 9,\n",
    "    \"4\": 16,\n",
    "    \"5\": 25\n",
    "}"
   ]
  },
  {
   "cell_type": "code",
   "execution_count": 5,
   "metadata": {},
   "outputs": [
    {
     "name": "stdout",
     "output_type": "stream",
     "text": [
      "{1: 1, 2: 4, 3: 9, 4: 16, 5: 25}\n"
     ]
    }
   ],
   "source": [
    "nums = {}\n",
    "\n",
    "for i in range(1, 6):\n",
    "    nums[i] = i ** 2 # assign square rooted value to each index\n",
    "\n",
    "print(nums)"
   ]
  },
  {
   "cell_type": "code",
   "execution_count": 7,
   "metadata": {},
   "outputs": [
    {
     "name": "stdout",
     "output_type": "stream",
     "text": [
      "{'1': 1, '2': 4, '3': 9, '4': 16, '5': 25}\n"
     ]
    }
   ],
   "source": [
    "nums = {}\n",
    "\n",
    "for i in range(1, 6):\n",
    "    nums[str(i)] = i**2  # makes index a string\n",
    "\n",
    "print(nums)\n"
   ]
  },
  {
   "cell_type": "markdown",
   "metadata": {},
   "source": [
    "# Dictionary Comprehension\n",
    "\n",
    "dict_name = {} -> dict braces\n",
    "part 1: key: value\n",
    "part 2: for (loop)\n",
    "part 3: if statement (optional)\n",
    "\n",
    "dict_name = {key: value for .. if ..}"
   ]
  },
  {
   "cell_type": "markdown",
   "metadata": {},
   "source": [
    "### Task 1.1: Odd/Even Classification\n",
    " \n",
    "Create a dictionary where keys are numbers from 1 to 10 and values are strings indicating whether the number is 'odd' or 'even'.\n",
    " \n",
    "**Expected Output:**\n",
    "```python\n",
    "{1: 'odd', 2: 'even', 3: 'odd', 4: 'even', 5: 'odd', 6: 'even', 7: 'odd', 8: 'even', 9: 'odd', 10: 'even'}\n",
    "```\n",
    " "
   ]
  },
  {
   "cell_type": "code",
   "execution_count": 15,
   "metadata": {},
   "outputs": [
    {
     "data": {
      "text/plain": [
       "{1: 'odd',\n",
       " 2: 'even',\n",
       " 3: 'odd',\n",
       " 4: 'even',\n",
       " 5: 'odd',\n",
       " 6: 'even',\n",
       " 7: 'odd',\n",
       " 8: 'even',\n",
       " 9: 'odd',\n",
       " 10: 'even'}"
      ]
     },
     "execution_count": 15,
     "metadata": {},
     "output_type": "execute_result"
    }
   ],
   "source": [
    "nums = {i: 'odd' if i % 2 != 0 else 'even' for i in range(1,11)}\n",
    "\n",
    "nums"
   ]
  },
  {
   "cell_type": "markdown",
   "metadata": {},
   "source": [
    "### Task 1.2: Filtering Fruits by Price\n",
    "\n",
    "Given a dictionary of fruits with their prices, filter it to include only fruits priced above 2.\n",
    "\n",
    "```python\n",
    "fruits = {'apple': 1.2, 'banana': 2.5, 'orange': 3.0, 'kiwi': 4.0}\n",
    "```\n",
    "\n",
    "**Expected Output:**\n",
    "```python\n",
    "{'banana': 2.5, 'orange': 3.0, 'kiwi': 4.0}\n",
    "```"
   ]
  },
  {
   "cell_type": "code",
   "execution_count": 27,
   "metadata": {},
   "outputs": [
    {
     "name": "stdout",
     "output_type": "stream",
     "text": [
      "{'banana': 2.5, 'orange': 3.0, 'kiwi': 4.0}\n"
     ]
    }
   ],
   "source": [
    "fruits = {'apple': 1.2, 'banana': 2.5, 'orange': 3.0, 'kiwi': 4.0}\n",
    "\n",
    "# for key, value in fruits.items():  # Tuples of key & value\n",
    "#     if value > 2:\n",
    "#         print(key, value)\n",
    "\n",
    "fruit_prices = {key: value for key, value in fruits.items() if value > 2}\n",
    "\n",
    "print(fruit_prices)"
   ]
  },
  {
   "cell_type": "markdown",
   "metadata": {},
   "source": [
    "### Task 1.3: Employee ID to Name Mapping\n",
    "\n",
    "Given a list of employee dictionaries, create a dictionary mapping each employee's ID to their name.\n",
    "\n",
    "```python\n",
    "employees = [\n",
    "    {\"id\": 101, \"name\": \"Alice\", \"age\": 30},\n",
    "    {\"id\": 102, \"name\": \"Bob\", \"age\": 25},\n",
    "    {\"id\": 103, \"name\": \"Charlie\", \"age\": 35}\n",
    "]\n",
    "```\n",
    "\n",
    "**Expected Output:**\n",
    "```python\n",
    "{101: 'Alice', 102: 'Bob', 103: 'Charlie'}\n",
    "```"
   ]
  },
  {
   "cell_type": "code",
   "execution_count": null,
   "metadata": {},
   "outputs": [
    {
     "data": {
      "text/plain": [
       "{101: 'Alice', 102: 'Bob', 103: 'Charlie'}"
      ]
     },
     "execution_count": 25,
     "metadata": {},
     "output_type": "execute_result"
    }
   ],
   "source": [
    "employees = [\n",
    "    {\"id\": 101, \"name\": \"Alice\", \"age\": 30},\n",
    "    {\"id\": 102, \"name\": \"Bob\", \"age\": 25},\n",
    "    {\"id\": 103, \"name\": \"Charlie\", \"age\": 35},\n",
    "]\n",
    "\n",
    "# for employee in employees:\n",
    "#     print(employee['id'], employee['name'])\n",
    "\n",
    "emp_mapping = {employee['id']: employee['name'] for employee in employees}"
   ]
  },
  {
   "cell_type": "markdown",
   "metadata": {},
   "source": [
    "### Task 1.4: Filtered Employee ID to Age Mapping\n",
    "\n",
    "From the same list of employee dictionaries, create a dictionary mapping employee IDs to ages, but only include those over 28.\n",
    "\n",
    "**Expected Output:**\n",
    "```python\n",
    "{101: 30, 103: 35}\n",
    "```"
   ]
  },
  {
   "cell_type": "code",
   "execution_count": null,
   "metadata": {},
   "outputs": [
    {
     "data": {
      "text/plain": [
       "{101: 30, 103: 35}"
      ]
     },
     "execution_count": 26,
     "metadata": {},
     "output_type": "execute_result"
    }
   ],
   "source": [
    "employees = [\n",
    "    {\"id\": 101, \"name\": \"Alice\", \"age\": 30},\n",
    "    {\"id\": 102, \"name\": \"Bob\", \"age\": 25},\n",
    "    {\"id\": 103, \"name\": \"Charlie\", \"age\": 35},\n",
    "]\n",
    "\n",
    "# for employee in employees:\n",
    "#     if employee['age'] > 28:\n",
    "#         print(employee['id'], employee['age'])\n",
    "\n",
    "age_emp = {employee['id']: employee['age'] for employee in employees if employee['age'] > 28}"
   ]
  }
 ],
 "metadata": {
  "kernelspec": {
   "display_name": ".venv",
   "language": "python",
   "name": "python3"
  },
  "language_info": {
   "codemirror_mode": {
    "name": "ipython",
    "version": 3
   },
   "file_extension": ".py",
   "mimetype": "text/x-python",
   "name": "python",
   "nbconvert_exporter": "python",
   "pygments_lexer": "ipython3",
   "version": "3.13.2"
  }
 },
 "nbformat": 4,
 "nbformat_minor": 2
}
