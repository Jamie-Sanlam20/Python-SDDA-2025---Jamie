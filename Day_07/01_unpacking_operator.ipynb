{
 "cells": [
  {
   "cell_type": "code",
   "execution_count": 7,
   "metadata": {},
   "outputs": [
    {
     "name": "stdout",
     "output_type": "stream",
     "text": [
      "[90, 70, 45] <class 'list'>\n"
     ]
    }
   ],
   "source": [
    "m1, *t1, m2 = [80, 90, 70, 45, 95]\n",
    "\n",
    "print(t1, type(t1)) # * -> unpacking operator"
   ]
  },
  {
   "cell_type": "code",
   "execution_count": 4,
   "metadata": {},
   "outputs": [
    {
     "name": "stdout",
     "output_type": "stream",
     "text": [
      "[100, 200, 100, 200]\n"
     ]
    }
   ],
   "source": [
    "t1 = [100, 200]\n",
    "t2 = [300, 400]\n",
    "\n",
    "t3 = t1 + t1 # concatenate\n",
    "\n",
    "print(t3)"
   ]
  },
  {
   "cell_type": "code",
   "execution_count": null,
   "metadata": {},
   "outputs": [
    {
     "data": {
      "text/plain": [
       "[50, 100, 200, 80]"
      ]
     },
     "execution_count": 5,
     "metadata": {},
     "output_type": "execute_result"
    }
   ],
   "source": [
    "# unpacking t1 into t3\n",
    "\n",
    "t1 = [100, 200]\n",
    "t2 = [300, 400]\n",
    "t3 = [50, *t1, 80] # * -> unpacking values\n",
    "\n",
    "t3"
   ]
  },
  {
   "cell_type": "code",
   "execution_count": 9,
   "metadata": {},
   "outputs": [
    {
     "data": {
      "text/plain": [
       "[100, 200, 300, 400]"
      ]
     },
     "execution_count": 9,
     "metadata": {},
     "output_type": "execute_result"
    }
   ],
   "source": [
    "t1 = [100, 200]\n",
    "t2 = [300, 400]\n",
    "t3 = [*t1, *t2] # unpacking both t1 and t2 into t3\n",
    "\n",
    "t3\n"
   ]
  },
  {
   "cell_type": "code",
   "execution_count": 11,
   "metadata": {},
   "outputs": [
    {
     "data": {
      "text/plain": [
       "[10, 100, 200, 50, 300, 400, 90]"
      ]
     },
     "execution_count": 11,
     "metadata": {},
     "output_type": "execute_result"
    }
   ],
   "source": [
    "t1 = [100, 200]\n",
    "t2 = [300, 400]\n",
    "t3 = [10, *t1, 50, *t2, 90]  # flexibility 🕺 -> because you can add values around it\n",
    "\n",
    "t3\n"
   ]
  },
  {
   "cell_type": "code",
   "execution_count": null,
   "metadata": {},
   "outputs": [
    {
     "data": {
      "text/plain": [
       "(10, 100, 200, 50, 300, 400, 90)"
      ]
     },
     "execution_count": 13,
     "metadata": {},
     "output_type": "execute_result"
    }
   ],
   "source": [
    "t1 = [100, 200]\n",
    "t2 = [300, 400]\n",
    "\n",
    "t3 = (10, *t1, 50, *t2, 90)  # creates a new tuple (no modification)\n",
    "\n",
    "t3 # once tuple is now created, it cannot be mopdified\n",
    "\n",
    "# t3[0] = 90 ❌\n"
   ]
  },
  {
   "cell_type": "code",
   "execution_count": null,
   "metadata": {},
   "outputs": [],
   "source": [
    "# the base address of each list remains the same\n",
    "# can make modifications to the lists inside a tuple\n",
    "# no modifications were made to the tuple\n"
   ]
  },
  {
   "cell_type": "code",
   "execution_count": null,
   "metadata": {},
   "outputs": [],
   "source": [
    "# base address is now getting changed -> leads to an error"
   ]
  }
 ],
 "metadata": {
  "kernelspec": {
   "display_name": ".venv",
   "language": "python",
   "name": "python3"
  },
  "language_info": {
   "codemirror_mode": {
    "name": "ipython",
    "version": 3
   },
   "file_extension": ".py",
   "mimetype": "text/x-python",
   "name": "python",
   "nbconvert_exporter": "python",
   "pygments_lexer": "ipython3",
   "version": "3.13.2"
  }
 },
 "nbformat": 4,
 "nbformat_minor": 2
}
