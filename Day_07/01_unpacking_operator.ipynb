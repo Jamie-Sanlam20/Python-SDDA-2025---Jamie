{
 "cells": [
  {
   "cell_type": "code",
   "execution_count": 7,
   "metadata": {},
   "outputs": [
    {
     "name": "stdout",
     "output_type": "stream",
     "text": [
      "[90, 70, 45] <class 'list'>\n"
     ]
    }
   ],
   "source": [
    "m1, *t1, m2 = [80, 90, 70, 45, 95]\n",
    "\n",
    "print(t1, type(t1)) # * -> unpacking operator"
   ]
  },
  {
   "cell_type": "code",
   "execution_count": 4,
   "metadata": {},
   "outputs": [
    {
     "name": "stdout",
     "output_type": "stream",
     "text": [
      "[100, 200, 100, 200]\n"
     ]
    }
   ],
   "source": [
    "t1 = [100, 200]\n",
    "t2 = [300, 400]\n",
    "\n",
    "t3 = t1 + t1 # concatenate\n",
    "\n",
    "print(t3)"
   ]
  },
  {
   "cell_type": "code",
   "execution_count": null,
   "metadata": {},
   "outputs": [
    {
     "data": {
      "text/plain": [
       "[50, 100, 200, 80]"
      ]
     },
     "execution_count": 5,
     "metadata": {},
     "output_type": "execute_result"
    }
   ],
   "source": [
    "# unpacking t1 into t3\n",
    "\n",
    "t1 = [100, 200]\n",
    "t2 = [300, 400]\n",
    "t3 = [50, *t1, 80] # * -> unpacking values (copies list)\n",
    "\n",
    "t3"
   ]
  },
  {
   "cell_type": "code",
   "execution_count": 9,
   "metadata": {},
   "outputs": [
    {
     "data": {
      "text/plain": [
       "[100, 200, 300, 400]"
      ]
     },
     "execution_count": 9,
     "metadata": {},
     "output_type": "execute_result"
    }
   ],
   "source": [
    "t1 = [100, 200]\n",
    "t2 = [300, 400]\n",
    "t3 = [*t1, *t2] # unpacking both t1 and t2 into t3\n",
    "\n",
    "t3\n"
   ]
  },
  {
   "cell_type": "code",
   "execution_count": 11,
   "metadata": {},
   "outputs": [
    {
     "data": {
      "text/plain": [
       "[10, 100, 200, 50, 300, 400, 90]"
      ]
     },
     "execution_count": 11,
     "metadata": {},
     "output_type": "execute_result"
    }
   ],
   "source": [
    "t1 = [100, 200]\n",
    "t2 = [300, 400]\n",
    "t3 = [10, *t1, 50, *t2, 90]  # flexibility 🕺 -> because you can add values around it\n",
    "\n",
    "t3\n"
   ]
  },
  {
   "cell_type": "code",
   "execution_count": null,
   "metadata": {},
   "outputs": [
    {
     "data": {
      "text/plain": [
       "(10, 100, 200, 50, 300, 400, 90)"
      ]
     },
     "execution_count": 13,
     "metadata": {},
     "output_type": "execute_result"
    }
   ],
   "source": [
    "t1 = [100, 200]\n",
    "t2 = [300, 400]\n",
    "\n",
    "t3 = (10, *t1, 50, *t2, 90)  # creates a new tuple (no modification)\n",
    "\n",
    "t3 # once tuple is now created, it cannot be mopdified\n",
    "\n",
    "# t3[0] = 90 ❌\n"
   ]
  },
  {
   "cell_type": "code",
   "execution_count": 15,
   "metadata": {},
   "outputs": [
    {
     "data": {
      "text/plain": [
       "(10, 100, 200, 50, 300, 400, 90)"
      ]
     },
     "execution_count": 15,
     "metadata": {},
     "output_type": "execute_result"
    }
   ],
   "source": [
    "# Can also be used to copy tuples into a new tuple\n",
    "\n",
    "t1 = (100, 200)\n",
    "t2 = (300, 400)\n",
    "\n",
    "t3 = (10, *t1, 50, *t2, 90)  # creates a new tuple (no modification)\n",
    "\n",
    "t3\n"
   ]
  },
  {
   "cell_type": "code",
   "execution_count": null,
   "metadata": {},
   "outputs": [],
   "source": [
    "# the base address of each list remains the same\n",
    "# can make modifications to the lists inside a tuple\n",
    "# no modifications were made to the tuple\n"
   ]
  },
  {
   "cell_type": "code",
   "execution_count": null,
   "metadata": {},
   "outputs": [],
   "source": [
    "# base address is now getting changed -> leads to an error"
   ]
  },
  {
   "cell_type": "code",
   "execution_count": 16,
   "metadata": {},
   "outputs": [
    {
     "data": {
      "text/plain": [
       "{'name': 'Jamie', 'age': 20, 'job': 'Sanlam', 'country': 'SA'}"
      ]
     },
     "execution_count": 16,
     "metadata": {},
     "output_type": "execute_result"
    }
   ],
   "source": [
    "# Combining two dictionaries\n",
    "\n",
    "# * -> normal unpacking operator is only used with lists\n",
    "# ** -> double star -> unpacks dictionaries (still called unpacking operator)\n",
    "\n",
    "student = {\"name\": \"Jamie\", \"age\": 20}\n",
    "detail = {\"job\": \"Sanlam\", \"country\": \"SA\"}\n",
    "\n",
    "all_details = {**student, **detail}  # ** -> unpacking operator\n",
    "\n",
    "all_details"
   ]
  },
  {
   "cell_type": "code",
   "execution_count": null,
   "metadata": {},
   "outputs": [
    {
     "data": {
      "text/plain": [
       "{'name': 'Jamie', 'age': 19, 'job': 'Sanlam', 'country': 'SA'}"
      ]
     },
     "execution_count": 17,
     "metadata": {},
     "output_type": "execute_result"
    }
   ],
   "source": [
    "student = {\"name\": \"Jamie\", \"age\": 20}\n",
    "detail = {\"job\": \"Sanlam\", \"country\": \"SA\", \"age\": 19}\n",
    "\n",
    "all_details = {**student, **detail}  # ** -> unpacking operator\n",
    "\n",
    "# Dictionary rule -> all keys should be unique\n",
    "# there is an age in student and detail\n",
    "\n",
    "all_details\n",
    "\n",
    "# age will be 19 (since detail is last in all_details)"
   ]
  },
  {
   "cell_type": "code",
   "execution_count": null,
   "metadata": {},
   "outputs": [],
   "source": [
    "student = {\"name\": \"Jamie\", \"age\": 20}\n",
    "detail = {\"job\": \"Sanlam\", \"country\": \"SA\", \"age\": 19}\n",
    "\n",
    "all_details = {**detail, **student}  # ** -> unpacking operator\n",
    "\n",
    "# Dictionary rule -> all keys should be unique\n",
    "# there is an age in student and detail\n",
    "\n",
    "all_details\n",
    "\n",
    "# age will be 20 (since student is last in all_details)\n"
   ]
  },
  {
   "cell_type": "code",
   "execution_count": 18,
   "metadata": {},
   "outputs": [
    {
     "data": {
      "text/plain": [
       "{'name': 'Jamie', 'age': 19, 'job': 'Sanlam', 'country': 'SA'}"
      ]
     },
     "execution_count": 18,
     "metadata": {},
     "output_type": "execute_result"
    }
   ],
   "source": [
    "student = {\"name\": \"Jamie\", \"age\": 20}\n",
    "detail = {\"job\": \"Sanlam\", \"country\": \"SA\", \"age\": 19}\n",
    "\n",
    "all_details = {**student, **detail}  # ** -> unpacking operator\n",
    "\n",
    "# Dictionary rule -> all keys should be unique\n",
    "# there is an age in student and detail\n",
    "\n",
    "all_details\n"
   ]
  },
  {
   "cell_type": "code",
   "execution_count": 19,
   "metadata": {},
   "outputs": [
    {
     "data": {
      "text/plain": [
       "{'country_code': '+27',\n",
       " 'job': 'Sanlam',\n",
       " 'country': 'SA',\n",
       " 'age': 20,\n",
       " 'name': 'Jamie'}"
      ]
     },
     "execution_count": 19,
     "metadata": {},
     "output_type": "execute_result"
    }
   ],
   "source": [
    "# Last value gets prioritised\n",
    "# first age value will act as the 'default'\n",
    "# if nothing is mentioned -> will go to default value\n",
    "# if someone mentions country code, it will overwrite the default\n",
    "\n",
    "# least priority (default_value) is always at the first\n",
    "\n",
    "student = {\n",
    "    \"name\": \"Jamie\",\n",
    "    \"age\": 20,\n",
    "}\n",
    "detail = {\"job\": \"Sanlam\", \"country\": \"SA\", \"age\": 19}\n",
    "\n",
    "default_value = {\"country_code\": \"+27\"}\n",
    "\n",
    "all_details = {\n",
    "    **default_value,\n",
    "    **detail,\n",
    "    **student,\n",
    "}  # Default_value -> always keep at first # Pattern\n",
    "\n",
    "\n",
    "all_details\n"
   ]
  }
 ],
 "metadata": {
  "kernelspec": {
   "display_name": ".venv",
   "language": "python",
   "name": "python3"
  },
  "language_info": {
   "codemirror_mode": {
    "name": "ipython",
    "version": 3
   },
   "file_extension": ".py",
   "mimetype": "text/x-python",
   "name": "python",
   "nbconvert_exporter": "python",
   "pygments_lexer": "ipython3",
   "version": "3.13.2"
  }
 },
 "nbformat": 4,
 "nbformat_minor": 2
}
