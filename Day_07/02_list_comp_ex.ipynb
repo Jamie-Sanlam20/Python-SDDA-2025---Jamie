{
 "cells": [
  {
   "cell_type": "code",
   "execution_count": 4,
   "metadata": {},
   "outputs": [],
   "source": [
    "movies = [\n",
    "    {\n",
    "        \"title\": \"Inception\",\n",
    "        \"ratings\": [5, 4, 5, 4, 5]\n",
    "    },\n",
    "    {\n",
    "        \"title\": \"Interstellar\",\n",
    "        \"ratings\": [5, 5, 4, 5, 4]\n",
    "    },\n",
    "    {\n",
    "        \"title\": \"Dunkirk\",\n",
    "        \"ratings\": [4, 4, 4, 3, 4]\n",
    "    },\n",
    "    {\n",
    "        \"title\": \"The Dark Knight\",\n",
    "        \"ratings\": [5, 5, 5, 5, 5]\n",
    "    },\n",
    "    {\n",
    "        \"title\": \"Memento\",\n",
    "        \"ratings\": [4, 5, 4, 5, 4]\n",
    "    },\n",
    "]"
   ]
  },
  {
   "cell_type": "code",
   "execution_count": 1,
   "metadata": {},
   "outputs": [],
   "source": [
    "# Task 1 - With List Comp\n",
    "# Output\n",
    "# [\"Inception\", \"Interstellar\", \"Dunkirk\", \"The Dark Knight\", \"Memento\"]\n"
   ]
  },
  {
   "cell_type": "code",
   "execution_count": null,
   "metadata": {},
   "outputs": [
    {
     "data": {
      "text/plain": [
       "['Inception', 'Interstellar', 'Dunkirk', 'The Dark Knight', 'Memento']"
      ]
     },
     "execution_count": 8,
     "metadata": {},
     "output_type": "execute_result"
    }
   ],
   "source": [
    "# titles = []\n",
    "\n",
    "# for movie in movies:\n",
    "#     titles.append(movie['title'])\n",
    "\n",
    "# titles"
   ]
  },
  {
   "cell_type": "code",
   "execution_count": null,
   "metadata": {},
   "outputs": [
    {
     "name": "stdout",
     "output_type": "stream",
     "text": [
      "['Inception', 'Interstellar', 'Dunkirk', 'The Dark Knight', 'Memento']\n"
     ]
    }
   ],
   "source": [
    "titles = [movie['title'] for movie in movies]\n",
    "# I want the movie title for every movie in movies\n",
    "\n",
    "print(titles)"
   ]
  },
  {
   "cell_type": "markdown",
   "metadata": {},
   "source": [
    "# Task 1.2\n",
    "Average rating of each movie\n",
    "\n",
    "### Output\n",
    "\n",
    "```py\n",
    " [ 4.6, 4.2, 4.1, 5, 4.2]\n",
    "```"
   ]
  },
  {
   "cell_type": "code",
   "execution_count": 13,
   "metadata": {},
   "outputs": [
    {
     "data": {
      "text/plain": [
       "[4.6, 4.6, 3.8, 5.0, 4.4]"
      ]
     },
     "execution_count": 13,
     "metadata": {},
     "output_type": "execute_result"
    }
   ],
   "source": [
    "movies = [\n",
    "    {\"title\": \"Inception\", \"ratings\": [5, 4, 5, 4, 5]},\n",
    "    {\"title\": \"Interstellar\", \"ratings\": [5, 5, 4, 5, 4]},\n",
    "    {\"title\": \"Dunkirk\", \"ratings\": [4, 4, 4, 3, 4]},\n",
    "    {\"title\": \"The Dark Knight\", \"ratings\": [5, 5, 5, 5, 5]},\n",
    "    {\"title\": \"Memento\", \"ratings\": [4, 5, 4, 5, 4]},\n",
    "]\n",
    "\n",
    "ratings = []\n",
    "\n",
    "for movie in movies:\n",
    "    avg_ratings = sum(movie['ratings']) / len(movie['ratings'])\n",
    "    # print(avg_ratings)\n",
    "    ratings.append(avg_ratings)\n",
    "\n",
    "ratings\n"
   ]
  },
  {
   "cell_type": "code",
   "execution_count": 16,
   "metadata": {},
   "outputs": [
    {
     "name": "stdout",
     "output_type": "stream",
     "text": [
      "[4.6, 4.6, 3.8, 5.0, 4.4]\n"
     ]
    }
   ],
   "source": [
    "movies = [\n",
    "    {\"title\": \"Inception\", \"ratings\": [5, 4, 5, 4, 5]},\n",
    "    {\"title\": \"Interstellar\", \"ratings\": [5, 5, 4, 5, 4]},\n",
    "    {\"title\": \"Dunkirk\", \"ratings\": [4, 4, 4, 3, 4]},\n",
    "    {\"title\": \"The Dark Knight\", \"ratings\": [5, 5, 5, 5, 5]},\n",
    "    {\"title\": \"Memento\", \"ratings\": [4, 5, 4, 5, 4]},\n",
    "]\n",
    "\n",
    "ratings = [sum(movie['ratings']) / len(movie['ratings']) for movie in movies]\n",
    "\n",
    "print(ratings)"
   ]
  },
  {
   "cell_type": "markdown",
   "metadata": {},
   "source": [
    "## Task 1.3 \n",
    "Don't modify original movies list\n",
    "\n",
    "### Output\n",
    "\n",
    "```py\n",
    "[\n",
    "    {\n",
    "        \"title\": \"Inception\",\n",
    "        \"ratings\": [5, 4, 5, 4, 5],\n",
    "        \"average_rating\": 4.6\n",
    "    },\n",
    "    {\n",
    "        \"title\": \"Interstellar\",\n",
    "        \"ratings\": [5, 5, 4, 5, 4],\n",
    "        \"average_rating\": 4.2\n",
    "    },\n",
    "    {\n",
    "        \"title\": \"Dunkirk\",\n",
    "        \"ratings\": [4, 4, 4, 3, 4],\n",
    "        \"average_rating\": 4.1\n",
    "    },\n",
    "    {\n",
    "        \"title\": \"The Dark Knight\",\n",
    "        \"ratings\": [5, 5, 5, 5, 5],\n",
    "        \"average_rating\": 5\n",
    "    },\n",
    "    {\n",
    "        \"title\": \"Memento\",\n",
    "        \"ratings\": [4, 5, 4, 5, 4],\n",
    "        \"average_rating\": 4.2\n",
    "    },\n",
    "]\n",
    "```"
   ]
  },
  {
   "cell_type": "code",
   "execution_count": null,
   "metadata": {},
   "outputs": [
    {
     "name": "stdout",
     "output_type": "stream",
     "text": [
      "[{'title': 'Inception', 'ratings': [5, 4, 5, 4, 5], 'average_rating': 4.6}, {'title': 'Interstellar', 'ratings': [5, 5, 4, 5, 4], 'average_rating': 4.6}, {'title': 'Dunkirk', 'ratings': [4, 4, 4, 3, 4], 'average_rating': 3.8}, {'title': 'The Dark Knight', 'ratings': [5, 5, 5, 5, 5], 'average_rating': 5.0}, {'title': 'Memento', 'ratings': [4, 5, 4, 5, 4], 'average_rating': 4.4}]\n"
     ]
    }
   ],
   "source": [
    "# Normal for loop\n",
    "\n",
    "movies = [\n",
    "    {\"title\": \"Inception\", \"ratings\": [5, 4, 5, 4, 5]},\n",
    "    {\"title\": \"Interstellar\", \"ratings\": [5, 5, 4, 5, 4]},\n",
    "    {\"title\": \"Dunkirk\", \"ratings\": [4, 4, 4, 3, 4]},\n",
    "    {\"title\": \"The Dark Knight\", \"ratings\": [5, 5, 5, 5, 5]},\n",
    "    {\"title\": \"Memento\", \"ratings\": [4, 5, 4, 5, 4]},\n",
    "]\n",
    "\n",
    "new_movies = [*movies]\n",
    "\n",
    "for movie in new_movies:\n",
    "    movie[\"average_rating\"] = sum(movie[\"ratings\"]) / len(movie[\"ratings\"])\n",
    "    # movie['average_rating'] = avg_rating\n",
    "    # new_movies = [*movies]\n",
    "\n",
    "# new_movies = [*movies]\n",
    "print(new_movies)\n",
    "\n",
    "avg_movies = [\n",
    "    {**movie, \"average_rating\": sum(movie['ratings']) / len(movie['ratings'])}\n",
    "]"
   ]
  },
  {
   "cell_type": "markdown",
   "metadata": {},
   "source": [
    "## Task 1.4\n",
    "Need top rated movies: average_rating >= 4.6\n",
    "\n",
    "### Output\n",
    "`[\"Inception\", \"The Dark Knight\"]`\n"
   ]
  },
  {
   "attachments": {
    "image.png": {
     "image/png": "[encoded data removed]"
    }
   },
   "cell_type": "markdown",
   "metadata": {},
   "source": [
    "![image.png](attachment:image.png)"
   ]
  },
  {
   "cell_type": "code",
   "execution_count": 52,
   "metadata": {},
   "outputs": [
    {
     "name": "stdout",
     "output_type": "stream",
     "text": [
      "['Inception', 'Interstellar', 'The Dark Knight']\n"
     ]
    }
   ],
   "source": [
    "movies = [\n",
    "    {\"title\": \"Inception\", \"ratings\": [5, 4, 5, 4, 5]},\n",
    "    {\"title\": \"Interstellar\", \"ratings\": [5, 5, 4, 5, 4]},\n",
    "    {\"title\": \"Dunkirk\", \"ratings\": [4, 4, 4, 3, 4]},\n",
    "    {\"title\": \"The Dark Knight\", \"ratings\": [5, 5, 5, 5, 5]},\n",
    "    {\"title\": \"Memento\", \"ratings\": [4, 5, 4, 5, 4]},\n",
    "]\n",
    "\n",
    "\n",
    "avg_movies = [\n",
    "    {**movie, \"average_rating\": sum(movie[\"ratings\"]) / len(movie[\"ratings\"])} for movie in movies\n",
    "]\n",
    "\n",
    "top_rated_movies = [\n",
    "    movie['title'] for movie in avg_movies if movie['average_rating'] >= 4.6\n",
    "]\n",
    "\n",
    "print(top_rated_movies)"
   ]
  }
 ],
 "metadata": {
  "kernelspec": {
   "display_name": ".venv",
   "language": "python",
   "name": "python3"
  },
  "language_info": {
   "codemirror_mode": {
    "name": "ipython",
    "version": 3
   },
   "file_extension": ".py",
   "mimetype": "text/x-python",
   "name": "python",
   "nbconvert_exporter": "python",
   "pygments_lexer": "ipython3",
   "version": "3.13.2"
  }
 },
 "nbformat": 4,
 "nbformat_minor": 2
}
