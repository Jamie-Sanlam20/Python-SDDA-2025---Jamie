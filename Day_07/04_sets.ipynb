{
 "cells": [
  {
   "cell_type": "markdown",
   "metadata": {},
   "source": [
    "# CRUD Methods\n",
    "- Create\n",
    "- Read -> for loop, print()\n",
    "- Update -> add(), update()\n",
    "- Delete -> discard(), remove() ❌"
   ]
  },
  {
   "cell_type": "code",
   "execution_count": null,
   "metadata": {},
   "outputs": [],
   "source": [
    "tech_gadgets = set()\n",
    "\n",
    "tech_gadgets.discard\n",
    "\n",
    "# discard will not Error, even if the value doesn't exist (silently fails)"
   ]
  },
  {
   "cell_type": "code",
   "execution_count": null,
   "metadata": {},
   "outputs": [
    {
     "name": "stdout",
     "output_type": "stream",
     "text": [
      "{'🟢 green', '💗 pink', '🔴 red', '🔵 blue'}\n",
      "{'🟢 green', '💗 pink', '🔴 red', '🔵 blue'}\n"
     ]
    },
    {
     "data": {
      "text/plain": [
       "['🟢 green', '💗 pink', '🔴 red', '🔵 blue']"
      ]
     },
     "execution_count": 8,
     "metadata": {},
     "output_type": "execute_result"
    }
   ],
   "source": [
    "# Task\n",
    "# Remove the duplicates\n",
    "colors = [\"🔴 red\", \"🔵 blue\", \"🔴 red\", \"🟢 green\", \"💗 pink\", \"🔵 blue\"]\n",
    "\n",
    "\n",
    "# \"🔴 red\", \"🔵 blue\", \"🟢 green\", \"💗 pink\"\n",
    "\n",
    "# First way\n",
    "set(colors)\n",
    "\n",
    " # Second way\n",
    "colorss = set()\n",
    "\n",
    "for color in colors:\n",
    "   colorss.add(color)\n",
    "\n",
    "print(colorss)\n",
    "\n",
    "# Third way\n",
    "unique_colors = set()\n",
    "unique_colors.update(colors)\n",
    "\n",
    "print(unique_colors)\n",
    "\n",
    "list(unique_colors) # Set -> List (converts it)"
   ]
  },
  {
   "cell_type": "markdown",
   "metadata": {},
   "source": [
    "## Methods of set "
   ]
  },
  {
   "cell_type": "code",
   "execution_count": null,
   "metadata": {},
   "outputs": [],
   "source": [
    "# intersection -> prints the common values (the same)\n",
    "# union -> prints everything (both sets) in one set -> no duplicates\n",
    "# difference (A-B) -> prints A values, but not any common values\n",
    "# difference (B-A) -> prints B values, but not any common values\n",
    "# symmetric_difference -> A and B values, not any common values"
   ]
  }
 ],
 "metadata": {
  "kernelspec": {
   "display_name": ".venv",
   "language": "python",
   "name": "python3"
  },
  "language_info": {
   "codemirror_mode": {
    "name": "ipython",
    "version": 3
   },
   "file_extension": ".py",
   "mimetype": "text/x-python",
   "name": "python",
   "nbconvert_exporter": "python",
   "pygments_lexer": "ipython3",
   "version": "3.13.2"
  }
 },
 "nbformat": 4,
 "nbformat_minor": 2
}
