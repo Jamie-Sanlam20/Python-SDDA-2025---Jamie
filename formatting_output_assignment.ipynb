{
 "cells": [
  {
   "cell_type": "markdown",
   "metadata": {},
   "source": [
    "## Assignment\n",
    "\n",
    "```\n",
    "Invoice Date: 03 March 2025\n",
    "\n",
    "Product               Qty     Unit Price          Total\n",
    "-------------------------------------------------------\n",
    "Widget A               10           2.50          25.00\n",
    "Widget B                5          15.75          78.75\n",
    "Gadget                  2          99.99         199.98\n",
    "-------------------------------------------------------\n",
    "Grand Total                                      303.73\n",
    "```"
   ]
  },
  {
   "cell_type": "code",
   "execution_count": null,
   "metadata": {},
   "outputs": [
    {
     "name": "stdout",
     "output_type": "stream",
     "text": [
      "Invoice Date:  03 March 2025\n",
      "\n",
      "Product                     Qty      Unit Price                Total\n",
      "--------------------------------------------------------------------\n",
      "Widget A                     10            2.50                25.00\n",
      "Widget B                      5           15.75                78.75\n",
      "Gadget                        2           99.99               199.98\n",
      "--------------------------------------------------------------------\n",
      "Grand Total                                                   303.73\n"
     ]
    }
   ],
   "source": [
    "from datetime import datetime\n",
    "\n",
    "items = [\n",
    "    {\"name\": \"Widget A\", \"quantity\": 10, \"price\": 2.5},\n",
    "    {\"name\": \"Widget B\", \"quantity\": 5, \"price\": 15.75},\n",
    "    {\"name\": \"Gadget\", \"quantity\": 2, \"price\": 99.99},\n",
    "]\n",
    "\n",
    "\n",
    "def print_invoice(invoice_date, items):\n",
    "    invoice_date = datetime.strptime(invoice_date, \"%d-%m-%Y\")\n",
    "    print(f\"Invoice Date: {invoice_date: %d %B %Y}\")\n",
    "\n",
    "    titles = [\"Product\", \"Qty\", \"Unit Price\", \"Total\"]\n",
    "    print(f\"\\n{titles[0]:<20} {titles[1]:>10} {titles[2]:>15} {titles[3]:>20}\")\n",
    "\n",
    "    line = \"-\" * 68\n",
    "    print(f\"{line}\")\n",
    "\n",
    "    for item in items:\n",
    "        total = item[\"quantity\"] * item[\"price\"]\n",
    "        print(\n",
    "            f\"{item['name']:<20} {item['quantity']:>10} {item['price']:>15.2f} {total:>20.2f}\"\n",
    "        )\n",
    "    print(f\"{line}\")\n",
    "\n",
    "    g_total = sum(item[\"quantity\"] * item[\"price\"] for item in items)\n",
    "    print(f\"Grand Total {g_total:>56}\")\n",
    "\n",
    "\n",
    "print_invoice('03-03-2025', items)\n"
   ]
  }
 ],
 "metadata": {
  "kernelspec": {
   "display_name": ".venv",
   "language": "python",
   "name": "python3"
  },
  "language_info": {
   "codemirror_mode": {
    "name": "ipython",
    "version": 3
   },
   "file_extension": ".py",
   "mimetype": "text/x-python",
   "name": "python",
   "nbconvert_exporter": "python",
   "pygments_lexer": "ipython3",
   "version": "3.13.2"
  }
 },
 "nbformat": 4,
 "nbformat_minor": 2
}
